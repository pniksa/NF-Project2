{
 "cells": [
  {
   "cell_type": "markdown",
   "metadata": {
    "colab_type": "text",
    "id": "fr80xeApxjlo"
   },
   "source": [
    "3. Kickstarter Project Success - Robin & Peter, Manuel & Simon\n",
    "\n",
    "\n",
    "In recent years, the range of funding options for projects created by individuals and small companies has expanded considerably. In addition to savings, bank loans, friends & family funding and other traditional options, crowdfunding has become a popular and readily available alternative. \n",
    "\n",
    "Kickstarter, founded in 2009, is one particularly well-known and popular crowdfunding platform. It has an all-or-nothing funding model, whereby a project is only funded if it meets its goal amount; otherwise no money is given by backers to a project.\n",
    "A huge variety of factors contribute to the success or failure of a project — in general, and also on Kickstarter. Some of these are able to be quantified or categorized, which allows for the construction of a model to attempt to predict whether a project will succeed or not. The aim of this project is to construct such a model and also to analyse Kickstarter project data more generally, in order to help potential project creators assess whether or not Kickstarter is a good funding option for them, and what their chances of success are.\n"
   ]
  },
  {
   "cell_type": "markdown",
   "metadata": {
    "colab_type": "text",
    "id": "TOauJb7jxjlq"
   },
   "source": [
    "# Project 2: Kickstarter Project Success"
   ]
  },
  {
   "cell_type": "markdown",
   "metadata": {
    "colab_type": "text",
    "id": "gnHrg3ZQxjlr"
   },
   "source": [
    "## Import libraries"
   ]
  },
  {
   "cell_type": "code",
   "execution_count": 28,
   "metadata": {
    "colab": {},
    "colab_type": "code",
    "id": "R6kpBKdIxjlr"
   },
   "outputs": [],
   "source": [
    "# Pandas as NumPy\n",
    "import pandas as pd\n",
    "import numpy as np\n",
    "\n",
    "# Scikit-Learn\n",
    "from sklearn.tree import DecisionTreeClassifier\n",
    "from sklearn.model_selection import train_test_split\n",
    "from sklearn.metrics import accuracy_score, precision_score, roc_curve, confusion_matrix \n",
    "\n",
    "# Pyplot\n",
    "import matplotlib.pyplot as plt\n",
    "import seaborn as sns\n",
    "\n",
    "\n",
    "from sklearn.model_selection import train_test_split\n",
    "\n",
    "\n",
    "# Others\n",
    "from os import listdir\n",
    "import time\n"
   ]
  },
  {
   "cell_type": "markdown",
   "metadata": {
    "colab_type": "text",
    "id": "8nA6mzssxjlu"
   },
   "source": [
    "## Read in the data"
   ]
  },
  {
   "cell_type": "code",
   "execution_count": 12,
   "metadata": {
    "colab": {},
    "colab_type": "code",
    "id": "ytMD_g1cxtzC"
   },
   "outputs": [],
   "source": [
    "#from google.colab import drive\n",
    "#drive.mount('/content/drive')"
   ]
  },
  {
   "cell_type": "code",
   "execution_count": 13,
   "metadata": {
    "colab": {},
    "colab_type": "code",
    "id": "H5U1Bz5Sxjlu"
   },
   "outputs": [],
   "source": [
    "# For local execution\n",
    "#base_path = './data/'\n",
    "\n",
    "# For google colab execution\n",
    "#base_path = '/content/drive/My Drive/Colab Notebooks/data/' # peter\n",
    "base_path = 'data/'\n",
    "#base_path = '/content/drive/My Drive/Kickstarter_data/data/' # robin\n",
    "data = pd.concat([pd.read_csv(base_path+x) for x in sorted(listdir(base_path))], axis=0)\n",
    "data_cp = data.copy()"
   ]
  },
  {
   "cell_type": "code",
   "execution_count": 14,
   "metadata": {
    "colab": {},
    "colab_type": "code",
    "id": "BgHjaee_xjlw"
   },
   "outputs": [],
   "source": [
    "# Create df for the second half of colu,ns\n",
    "data_sh = data.iloc[:, 17:]"
   ]
  },
  {
   "cell_type": "code",
   "execution_count": 15,
   "metadata": {
    "colab": {},
    "colab_type": "code",
    "id": "nuT5rbEuxjly"
   },
   "outputs": [
    {
     "data": {
      "text/plain": [
       "(209222, 37)"
      ]
     },
     "execution_count": 15,
     "metadata": {},
     "output_type": "execute_result"
    }
   ],
   "source": [
    "data.shape"
   ]
  },
  {
   "cell_type": "code",
   "execution_count": 16,
   "metadata": {
    "colab": {},
    "colab_type": "code",
    "id": "5ogpaZwQxjl0"
   },
   "outputs": [
    {
     "data": {
      "text/plain": [
       "backers_count                    0\n",
       "blurb                            8\n",
       "category                         0\n",
       "converted_pledged_amount         0\n",
       "country                          0\n",
       "created_at                       0\n",
       "creator                          0\n",
       "currency                         0\n",
       "currency_symbol                  0\n",
       "currency_trailing_code           0\n",
       "current_currency                 0\n",
       "deadline                         0\n",
       "disable_communication            0\n",
       "friends                     208922\n",
       "fx_rate                          0\n",
       "goal                             0\n",
       "id                               0\n",
       "is_backing                  208922\n",
       "is_starrable                     0\n",
       "is_starred                  208922\n",
       "launched_at                      0\n",
       "location                       226\n",
       "name                             0\n",
       "permissions                 208922\n",
       "photo                            0\n",
       "pledged                          0\n",
       "profile                          0\n",
       "slug                             0\n",
       "source_url                       0\n",
       "spotlight                        0\n",
       "staff_pick                       0\n",
       "state                            0\n",
       "state_changed_at                 0\n",
       "static_usd_rate                  0\n",
       "urls                             0\n",
       "usd_pledged                      0\n",
       "usd_type                       480\n",
       "dtype: int64"
      ]
     },
     "execution_count": 16,
     "metadata": {},
     "output_type": "execute_result"
    }
   ],
   "source": [
    "data.isna().sum()"
   ]
  },
  {
   "cell_type": "code",
   "execution_count": 17,
   "metadata": {
    "colab": {},
    "colab_type": "code",
    "id": "yflPw6rNxjl2"
   },
   "outputs": [
    {
     "data": {
      "text/plain": [
       "Index(['backers_count', 'blurb', 'category', 'converted_pledged_amount',\n",
       "       'country', 'created_at', 'creator', 'currency', 'currency_symbol',\n",
       "       'currency_trailing_code', 'current_currency', 'deadline',\n",
       "       'disable_communication', 'friends', 'fx_rate', 'goal', 'id',\n",
       "       'is_backing', 'is_starrable', 'is_starred', 'launched_at', 'location',\n",
       "       'name', 'permissions', 'photo', 'pledged', 'profile', 'slug',\n",
       "       'source_url', 'spotlight', 'staff_pick', 'state', 'state_changed_at',\n",
       "       'static_usd_rate', 'urls', 'usd_pledged', 'usd_type'],\n",
       "      dtype='object')"
      ]
     },
     "execution_count": 17,
     "metadata": {},
     "output_type": "execute_result"
    }
   ],
   "source": [
    "data.columns"
   ]
  },
  {
   "cell_type": "code",
   "execution_count": 18,
   "metadata": {
    "colab": {},
    "colab_type": "code",
    "id": "2qZFf7Eaxjl4"
   },
   "outputs": [
    {
     "data": {
      "text/html": [
       "<div>\n",
       "<style scoped>\n",
       "    .dataframe tbody tr th:only-of-type {\n",
       "        vertical-align: middle;\n",
       "    }\n",
       "\n",
       "    .dataframe tbody tr th {\n",
       "        vertical-align: top;\n",
       "    }\n",
       "\n",
       "    .dataframe thead th {\n",
       "        text-align: right;\n",
       "    }\n",
       "</style>\n",
       "<table border=\"1\" class=\"dataframe\">\n",
       "  <thead>\n",
       "    <tr style=\"text-align: right;\">\n",
       "      <th></th>\n",
       "      <th>backers_count</th>\n",
       "      <th>converted_pledged_amount</th>\n",
       "      <th>created_at</th>\n",
       "      <th>deadline</th>\n",
       "      <th>fx_rate</th>\n",
       "      <th>goal</th>\n",
       "      <th>id</th>\n",
       "      <th>launched_at</th>\n",
       "      <th>pledged</th>\n",
       "      <th>state_changed_at</th>\n",
       "      <th>static_usd_rate</th>\n",
       "      <th>usd_pledged</th>\n",
       "    </tr>\n",
       "  </thead>\n",
       "  <tbody>\n",
       "    <tr>\n",
       "      <th>count</th>\n",
       "      <td>209222.000000</td>\n",
       "      <td>2.092220e+05</td>\n",
       "      <td>2.092220e+05</td>\n",
       "      <td>2.092220e+05</td>\n",
       "      <td>209222.000000</td>\n",
       "      <td>2.092220e+05</td>\n",
       "      <td>2.092220e+05</td>\n",
       "      <td>2.092220e+05</td>\n",
       "      <td>2.092220e+05</td>\n",
       "      <td>2.092220e+05</td>\n",
       "      <td>209222.000000</td>\n",
       "      <td>2.092220e+05</td>\n",
       "    </tr>\n",
       "    <tr>\n",
       "      <th>mean</th>\n",
       "      <td>145.419057</td>\n",
       "      <td>1.289290e+04</td>\n",
       "      <td>1.456089e+09</td>\n",
       "      <td>1.463033e+09</td>\n",
       "      <td>0.994857</td>\n",
       "      <td>4.917604e+04</td>\n",
       "      <td>1.073222e+09</td>\n",
       "      <td>1.460206e+09</td>\n",
       "      <td>1.881403e+04</td>\n",
       "      <td>1.462838e+09</td>\n",
       "      <td>1.010757</td>\n",
       "      <td>1.289213e+04</td>\n",
       "    </tr>\n",
       "    <tr>\n",
       "      <th>std</th>\n",
       "      <td>885.967976</td>\n",
       "      <td>8.889414e+04</td>\n",
       "      <td>6.339711e+07</td>\n",
       "      <td>6.305618e+07</td>\n",
       "      <td>0.211654</td>\n",
       "      <td>1.179427e+06</td>\n",
       "      <td>6.198051e+08</td>\n",
       "      <td>6.309029e+07</td>\n",
       "      <td>3.229596e+05</td>\n",
       "      <td>6.290421e+07</td>\n",
       "      <td>0.231893</td>\n",
       "      <td>8.890124e+04</td>\n",
       "    </tr>\n",
       "    <tr>\n",
       "      <th>min</th>\n",
       "      <td>0.000000</td>\n",
       "      <td>0.000000e+00</td>\n",
       "      <td>1.240366e+09</td>\n",
       "      <td>1.241334e+09</td>\n",
       "      <td>0.008966</td>\n",
       "      <td>1.000000e-02</td>\n",
       "      <td>8.624000e+03</td>\n",
       "      <td>1.240603e+09</td>\n",
       "      <td>0.000000e+00</td>\n",
       "      <td>1.241334e+09</td>\n",
       "      <td>0.008771</td>\n",
       "      <td>0.000000e+00</td>\n",
       "    </tr>\n",
       "    <tr>\n",
       "      <th>25%</th>\n",
       "      <td>4.000000</td>\n",
       "      <td>1.060000e+02</td>\n",
       "      <td>1.413317e+09</td>\n",
       "      <td>1.420607e+09</td>\n",
       "      <td>1.000000</td>\n",
       "      <td>1.500000e+03</td>\n",
       "      <td>5.351054e+08</td>\n",
       "      <td>1.417639e+09</td>\n",
       "      <td>1.100000e+02</td>\n",
       "      <td>1.420485e+09</td>\n",
       "      <td>1.000000</td>\n",
       "      <td>1.060014e+02</td>\n",
       "    </tr>\n",
       "    <tr>\n",
       "      <th>50%</th>\n",
       "      <td>27.000000</td>\n",
       "      <td>1.537000e+03</td>\n",
       "      <td>1.457895e+09</td>\n",
       "      <td>1.464754e+09</td>\n",
       "      <td>1.000000</td>\n",
       "      <td>5.000000e+03</td>\n",
       "      <td>1.074579e+09</td>\n",
       "      <td>1.461924e+09</td>\n",
       "      <td>1.556000e+03</td>\n",
       "      <td>1.464709e+09</td>\n",
       "      <td>1.000000</td>\n",
       "      <td>1.537358e+03</td>\n",
       "    </tr>\n",
       "    <tr>\n",
       "      <th>75%</th>\n",
       "      <td>89.000000</td>\n",
       "      <td>6.548000e+03</td>\n",
       "      <td>1.511595e+09</td>\n",
       "      <td>1.519437e+09</td>\n",
       "      <td>1.000000</td>\n",
       "      <td>1.500000e+04</td>\n",
       "      <td>1.609369e+09</td>\n",
       "      <td>1.516694e+09</td>\n",
       "      <td>6.887200e+03</td>\n",
       "      <td>1.519366e+09</td>\n",
       "      <td>1.000000</td>\n",
       "      <td>6.550000e+03</td>\n",
       "    </tr>\n",
       "    <tr>\n",
       "      <th>max</th>\n",
       "      <td>105857.000000</td>\n",
       "      <td>8.596474e+06</td>\n",
       "      <td>1.552527e+09</td>\n",
       "      <td>1.557721e+09</td>\n",
       "      <td>1.876033</td>\n",
       "      <td>1.000000e+08</td>\n",
       "      <td>2.147476e+09</td>\n",
       "      <td>1.552537e+09</td>\n",
       "      <td>8.103074e+07</td>\n",
       "      <td>1.552537e+09</td>\n",
       "      <td>1.716408</td>\n",
       "      <td>8.596475e+06</td>\n",
       "    </tr>\n",
       "  </tbody>\n",
       "</table>\n",
       "</div>"
      ],
      "text/plain": [
       "       backers_count  converted_pledged_amount    created_at      deadline  \\\n",
       "count  209222.000000              2.092220e+05  2.092220e+05  2.092220e+05   \n",
       "mean      145.419057              1.289290e+04  1.456089e+09  1.463033e+09   \n",
       "std       885.967976              8.889414e+04  6.339711e+07  6.305618e+07   \n",
       "min         0.000000              0.000000e+00  1.240366e+09  1.241334e+09   \n",
       "25%         4.000000              1.060000e+02  1.413317e+09  1.420607e+09   \n",
       "50%        27.000000              1.537000e+03  1.457895e+09  1.464754e+09   \n",
       "75%        89.000000              6.548000e+03  1.511595e+09  1.519437e+09   \n",
       "max    105857.000000              8.596474e+06  1.552527e+09  1.557721e+09   \n",
       "\n",
       "             fx_rate          goal            id   launched_at       pledged  \\\n",
       "count  209222.000000  2.092220e+05  2.092220e+05  2.092220e+05  2.092220e+05   \n",
       "mean        0.994857  4.917604e+04  1.073222e+09  1.460206e+09  1.881403e+04   \n",
       "std         0.211654  1.179427e+06  6.198051e+08  6.309029e+07  3.229596e+05   \n",
       "min         0.008966  1.000000e-02  8.624000e+03  1.240603e+09  0.000000e+00   \n",
       "25%         1.000000  1.500000e+03  5.351054e+08  1.417639e+09  1.100000e+02   \n",
       "50%         1.000000  5.000000e+03  1.074579e+09  1.461924e+09  1.556000e+03   \n",
       "75%         1.000000  1.500000e+04  1.609369e+09  1.516694e+09  6.887200e+03   \n",
       "max         1.876033  1.000000e+08  2.147476e+09  1.552537e+09  8.103074e+07   \n",
       "\n",
       "       state_changed_at  static_usd_rate   usd_pledged  \n",
       "count      2.092220e+05    209222.000000  2.092220e+05  \n",
       "mean       1.462838e+09         1.010757  1.289213e+04  \n",
       "std        6.290421e+07         0.231893  8.890124e+04  \n",
       "min        1.241334e+09         0.008771  0.000000e+00  \n",
       "25%        1.420485e+09         1.000000  1.060014e+02  \n",
       "50%        1.464709e+09         1.000000  1.537358e+03  \n",
       "75%        1.519366e+09         1.000000  6.550000e+03  \n",
       "max        1.552537e+09         1.716408  8.596475e+06  "
      ]
     },
     "execution_count": 18,
     "metadata": {},
     "output_type": "execute_result"
    }
   ],
   "source": [
    "data.describe()"
   ]
  },
  {
   "cell_type": "markdown",
   "metadata": {
    "colab_type": "text",
    "id": "Vhd4OyUxxjl6"
   },
   "source": [
    "Description of columns would be helpful!"
   ]
  },
  {
   "cell_type": "code",
   "execution_count": 19,
   "metadata": {
    "colab": {},
    "colab_type": "code",
    "id": "BJdAUtFhxjl6"
   },
   "outputs": [
    {
     "name": "stdout",
     "output_type": "stream",
     "text": [
      "<class 'pandas.core.frame.DataFrame'>\n",
      "Int64Index: 209222 entries, 0 to 964\n",
      "Data columns (total 37 columns):\n",
      "backers_count               209222 non-null int64\n",
      "blurb                       209214 non-null object\n",
      "category                    209222 non-null object\n",
      "converted_pledged_amount    209222 non-null int64\n",
      "country                     209222 non-null object\n",
      "created_at                  209222 non-null int64\n",
      "creator                     209222 non-null object\n",
      "currency                    209222 non-null object\n",
      "currency_symbol             209222 non-null object\n",
      "currency_trailing_code      209222 non-null bool\n",
      "current_currency            209222 non-null object\n",
      "deadline                    209222 non-null int64\n",
      "disable_communication       209222 non-null bool\n",
      "friends                     300 non-null object\n",
      "fx_rate                     209222 non-null float64\n",
      "goal                        209222 non-null float64\n",
      "id                          209222 non-null int64\n",
      "is_backing                  300 non-null object\n",
      "is_starrable                209222 non-null bool\n",
      "is_starred                  300 non-null object\n",
      "launched_at                 209222 non-null int64\n",
      "location                    208996 non-null object\n",
      "name                        209222 non-null object\n",
      "permissions                 300 non-null object\n",
      "photo                       209222 non-null object\n",
      "pledged                     209222 non-null float64\n",
      "profile                     209222 non-null object\n",
      "slug                        209222 non-null object\n",
      "source_url                  209222 non-null object\n",
      "spotlight                   209222 non-null bool\n",
      "staff_pick                  209222 non-null bool\n",
      "state                       209222 non-null object\n",
      "state_changed_at            209222 non-null int64\n",
      "static_usd_rate             209222 non-null float64\n",
      "urls                        209222 non-null object\n",
      "usd_pledged                 209222 non-null float64\n",
      "usd_type                    208742 non-null object\n",
      "dtypes: bool(5), float64(5), int64(7), object(20)\n",
      "memory usage: 53.7+ MB\n"
     ]
    }
   ],
   "source": [
    "data.info()"
   ]
  },
  {
   "cell_type": "code",
   "execution_count": 20,
   "metadata": {
    "colab": {},
    "colab_type": "code",
    "id": "bVhuQCIgxjl_"
   },
   "outputs": [],
   "source": [
    "# significant amout of missing data in these columns, ignore for now\n",
    "# Define a list columns to drop\n",
    "droplist = []\n",
    "droplist = droplist+['friends', 'is_backing', 'is_starred', 'permissions']"
   ]
  },
  {
   "cell_type": "markdown",
   "metadata": {
    "colab_type": "text",
    "id": "_7x0SeiDxjmA"
   },
   "source": [
    "### The predicted variable: 'state'"
   ]
  },
  {
   "cell_type": "code",
   "execution_count": 21,
   "metadata": {
    "colab": {},
    "colab_type": "code",
    "id": "pJB8sY9hxjmB"
   },
   "outputs": [
    {
     "data": {
      "text/plain": [
       "count         209222\n",
       "unique             5\n",
       "top       successful\n",
       "freq          117465\n",
       "Name: state, dtype: object"
      ]
     },
     "execution_count": 21,
     "metadata": {},
     "output_type": "execute_result"
    }
   ],
   "source": [
    "data_sh['state'].describe()"
   ]
  },
  {
   "cell_type": "code",
   "execution_count": 22,
   "metadata": {
    "colab": {},
    "colab_type": "code",
    "id": "pAWW8LC2xjmD"
   },
   "outputs": [
    {
     "data": {
      "text/plain": [
       "successful    117465\n",
       "failed         75199\n",
       "canceled        8624\n",
       "live            7311\n",
       "suspended        623\n",
       "Name: state, dtype: int64"
      ]
     },
     "execution_count": 22,
     "metadata": {},
     "output_type": "execute_result"
    }
   ],
   "source": [
    "data_sh['state'].value_counts()"
   ]
  },
  {
   "cell_type": "code",
   "execution_count": 23,
   "metadata": {
    "colab": {},
    "colab_type": "code",
    "id": "SGUwxxfaxjmE"
   },
   "outputs": [
    {
     "data": {
      "text/plain": [
       "0.07914081693129786"
      ]
     },
     "execution_count": 23,
     "metadata": {},
     "output_type": "execute_result"
    }
   ],
   "source": [
    "# Calculate percentage of 'state' value that are not either 'successful' or 'failed'\n",
    "abs(len(data_sh[(data_sh['state'] == 'successful') | (data_sh['state'] == 'failed')]) - len(data_sh)) / len(data_sh)"
   ]
  },
  {
   "cell_type": "markdown",
   "metadata": {
    "colab_type": "text",
    "id": "E4m7htCQxjmG"
   },
   "source": [
    "'state' has 5 different values: 'successful', 'failed', 'canceled', 'live', and 'suspended'. If we want binary target class to be binary, we would loose approx 8% of the dataset."
   ]
  },
  {
   "cell_type": "code",
   "execution_count": 24,
   "metadata": {
    "colab": {},
    "colab_type": "code",
    "id": "Ju22qM49xjmH"
   },
   "outputs": [
    {
     "name": "stdout",
     "output_type": "stream",
     "text": [
      "<class 'pandas.core.frame.DataFrame'>\n",
      "Int64Index: 192664 entries, 0 to 964\n",
      "Data columns (total 20 columns):\n",
      "is_backing          0 non-null object\n",
      "is_starrable        192664 non-null bool\n",
      "is_starred          0 non-null object\n",
      "launched_at         192664 non-null int64\n",
      "location            192449 non-null object\n",
      "name                192664 non-null object\n",
      "permissions         0 non-null object\n",
      "photo               192664 non-null object\n",
      "pledged             192664 non-null float64\n",
      "profile             192664 non-null object\n",
      "slug                192664 non-null object\n",
      "source_url          192664 non-null object\n",
      "spotlight           192664 non-null bool\n",
      "staff_pick          192664 non-null bool\n",
      "state               192664 non-null object\n",
      "state_changed_at    192664 non-null int64\n",
      "static_usd_rate     192664 non-null float64\n",
      "urls                192664 non-null object\n",
      "usd_pledged         192664 non-null float64\n",
      "usd_type            192626 non-null object\n",
      "dtypes: bool(3), float64(3), int64(2), object(12)\n",
      "memory usage: 27.0+ MB\n"
     ]
    }
   ],
   "source": [
    "data_sh[(data_sh['state'] == 'successful') | (data_sh['state'] == 'failed')].info()"
   ]
  },
  {
   "cell_type": "code",
   "execution_count": 25,
   "metadata": {
    "colab": {},
    "colab_type": "code",
    "id": "2BJdigM8xjmI"
   },
   "outputs": [],
   "source": [
    "# New dataframe which contains only entries which have the state 'successful' or 'failed'\n",
    "filtered_df = data[(data['state'] == 'successful') | (data['state'] == 'failed')].copy()\n",
    "filtered_df.reset_index(inplace=True)"
   ]
  },
  {
   "cell_type": "code",
   "execution_count": 26,
   "metadata": {
    "colab": {},
    "colab_type": "code",
    "id": "_2GPDs89xjmK"
   },
   "outputs": [
    {
     "data": {
      "text/plain": [
       "Index(['index', 'backers_count', 'blurb', 'category',\n",
       "       'converted_pledged_amount', 'country', 'created_at', 'creator',\n",
       "       'currency', 'currency_symbol', 'currency_trailing_code',\n",
       "       'current_currency', 'deadline', 'disable_communication', 'friends',\n",
       "       'fx_rate', 'goal', 'id', 'is_backing', 'is_starrable', 'is_starred',\n",
       "       'launched_at', 'location', 'name', 'permissions', 'photo', 'pledged',\n",
       "       'profile', 'slug', 'source_url', 'spotlight', 'staff_pick', 'state',\n",
       "       'state_changed_at', 'static_usd_rate', 'urls', 'usd_pledged',\n",
       "       'usd_type'],\n",
       "      dtype='object')"
      ]
     },
     "execution_count": 26,
     "metadata": {},
     "output_type": "execute_result"
    }
   ],
   "source": [
    "filtered_df.columns"
   ]
  },
  {
   "cell_type": "markdown",
   "metadata": {
    "colab_type": "text",
    "id": "egrkVRGexjmM"
   },
   "source": [
    "### The 'is_starrable' column\n",
    "is_starrable - whether or not a project can be starred (liked and saved) by users"
   ]
  },
  {
   "cell_type": "code",
   "execution_count": 27,
   "metadata": {
    "colab": {},
    "colab_type": "code",
    "id": "AtQr_gICxjmM"
   },
   "outputs": [],
   "source": [
    "col = 'is_starrable'"
   ]
  },
  {
   "cell_type": "code",
   "execution_count": 28,
   "metadata": {
    "colab": {},
    "colab_type": "code",
    "id": "irZ_MpBXxjmO"
   },
   "outputs": [
    {
     "data": {
      "text/plain": [
       "0    False\n",
       "1    False\n",
       "2    False\n",
       "3    False\n",
       "4    False\n",
       "Name: is_starrable, dtype: bool"
      ]
     },
     "execution_count": 28,
     "metadata": {},
     "output_type": "execute_result"
    }
   ],
   "source": [
    "filtered_df[col].head()"
   ]
  },
  {
   "cell_type": "code",
   "execution_count": 29,
   "metadata": {
    "colab": {},
    "colab_type": "code",
    "id": "kHSUNrJzxjmP"
   },
   "outputs": [],
   "source": [
    "filtered_df[col] = filtered_df[col].astype(bool)"
   ]
  },
  {
   "cell_type": "code",
   "execution_count": 30,
   "metadata": {
    "colab": {},
    "colab_type": "code",
    "id": "5NPcK3ETxjmS"
   },
   "outputs": [
    {
     "data": {
      "text/plain": [
       "count     192664\n",
       "unique         1\n",
       "top        False\n",
       "freq      192664\n",
       "Name: is_starrable, dtype: object"
      ]
     },
     "execution_count": 30,
     "metadata": {},
     "output_type": "execute_result"
    }
   ],
   "source": [
    "filtered_df[col].describe()"
   ]
  },
  {
   "cell_type": "code",
   "execution_count": 31,
   "metadata": {
    "colab": {},
    "colab_type": "code",
    "id": "drF57Nj0xjmU"
   },
   "outputs": [
    {
     "data": {
      "text/plain": [
       "False    192664\n",
       "Name: is_starrable, dtype: int64"
      ]
     },
     "execution_count": 31,
     "metadata": {},
     "output_type": "execute_result"
    }
   ],
   "source": [
    "filtered_df[col].value_counts()"
   ]
  },
  {
   "cell_type": "code",
   "execution_count": 32,
   "metadata": {
    "colab": {},
    "colab_type": "code",
    "id": "6HXuixMwxjmW"
   },
   "outputs": [
    {
     "data": {
      "text/plain": [
       "0"
      ]
     },
     "execution_count": 32,
     "metadata": {},
     "output_type": "execute_result"
    }
   ],
   "source": [
    "# Any missing values?\n",
    "filtered_df[col].isnull().sum()"
   ]
  },
  {
   "cell_type": "markdown",
   "metadata": {
    "colab_type": "text",
    "id": "y36tYPZhxjmY"
   },
   "source": [
    "### The 'launched_at' column\n",
    "\n",
    "launched_at - date and time of when the project was launched for funding"
   ]
  },
  {
   "cell_type": "code",
   "execution_count": 33,
   "metadata": {
    "colab": {},
    "colab_type": "code",
    "id": "9lzXxqzVxjmY"
   },
   "outputs": [
    {
     "data": {
      "text/plain": [
       "0    1388011046\n",
       "1    1550073611\n",
       "2    1478012330\n",
       "3    1540684582\n",
       "4    1425919017\n",
       "Name: launched_at, dtype: int64"
      ]
     },
     "execution_count": 33,
     "metadata": {},
     "output_type": "execute_result"
    }
   ],
   "source": [
    "col = 'launched_at'\n",
    "filtered_df[col].head()"
   ]
  },
  {
   "cell_type": "code",
   "execution_count": 34,
   "metadata": {
    "colab": {},
    "colab_type": "code",
    "id": "H2W-iKtYxjma"
   },
   "outputs": [],
   "source": [
    "# Make human-readable dates out of timestamp\n",
    "filtered_df[col] = pd.to_datetime(filtered_df[col], unit='s')"
   ]
  },
  {
   "cell_type": "code",
   "execution_count": 35,
   "metadata": {
    "colab": {},
    "colab_type": "code",
    "id": "UfqMEQ_Xxjmc"
   },
   "outputs": [
    {
     "data": {
      "text/plain": [
       "dtype('O')"
      ]
     },
     "execution_count": 35,
     "metadata": {},
     "output_type": "execute_result"
    }
   ],
   "source": [
    "#data_sh['launched_at'].iloc[0].dayofweek\n",
    "\n",
    "filtered_df['launch_weekday'] = [x.day_name() for x in filtered_df['launched_at']]\n",
    "filtered_df['launch_weekday'] = filtered_df['launch_weekday'].astype(str)\n",
    "filtered_df['launch_weekday'].dtype"
   ]
  },
  {
   "cell_type": "code",
   "execution_count": 36,
   "metadata": {
    "colab": {},
    "colab_type": "code",
    "id": "e2T5rnklxjmd"
   },
   "outputs": [
    {
     "data": {
      "text/plain": [
       "dtype('int64')"
      ]
     },
     "execution_count": 36,
     "metadata": {},
     "output_type": "execute_result"
    }
   ],
   "source": [
    "filtered_df['launch_year'] = [x.year for x in filtered_df['launched_at']]\n",
    "filtered_df['launch_year'] = filtered_df['launch_year'].astype(int)\n",
    "filtered_df['launch_year'].dtype"
   ]
  },
  {
   "cell_type": "code",
   "execution_count": 37,
   "metadata": {
    "colab": {},
    "colab_type": "code",
    "id": "Kq4yWzZzxjmf"
   },
   "outputs": [
    {
     "data": {
      "text/plain": [
       "dtype('int64')"
      ]
     },
     "execution_count": 37,
     "metadata": {},
     "output_type": "execute_result"
    }
   ],
   "source": [
    "filtered_df['launch_month'] = [x.month for x in filtered_df['launched_at']]\n",
    "filtered_df['launch_month'] = filtered_df['launch_month'].astype(int)\n",
    "filtered_df['launch_month'].dtype"
   ]
  },
  {
   "cell_type": "code",
   "execution_count": 38,
   "metadata": {
    "colab": {},
    "colab_type": "code",
    "id": "LG2cYoiLxjmg"
   },
   "outputs": [
    {
     "data": {
      "text/plain": [
       "dtype('int64')"
      ]
     },
     "execution_count": 38,
     "metadata": {},
     "output_type": "execute_result"
    }
   ],
   "source": [
    "filtered_df['launch_day'] = [x.day for x in filtered_df['launched_at']]\n",
    "filtered_df['launch_day'] = filtered_df['launch_day'].astype(int)\n",
    "filtered_df['launch_day'].dtype"
   ]
  },
  {
   "cell_type": "code",
   "execution_count": 39,
   "metadata": {
    "colab": {},
    "colab_type": "code",
    "id": "S2ZPLkAaxjmi"
   },
   "outputs": [
    {
     "data": {
      "text/plain": [
       "dtype('int64')"
      ]
     },
     "execution_count": 39,
     "metadata": {},
     "output_type": "execute_result"
    }
   ],
   "source": [
    "# Create a new column for launch hour\n",
    "filtered_df['launch_hour'] = [x.hour for x in filtered_df['launched_at']]\n",
    "filtered_df['launch_hour'] = filtered_df['launch_hour'].astype(int)\n",
    "filtered_df['launch_hour'].dtype"
   ]
  },
  {
   "cell_type": "code",
   "execution_count": 40,
   "metadata": {
    "colab": {},
    "colab_type": "code",
    "id": "C6rw5ok3xjmk"
   },
   "outputs": [],
   "source": [
    "# TODO: Create bins for launch time"
   ]
  },
  {
   "cell_type": "code",
   "execution_count": 42,
   "metadata": {
    "colab": {},
    "colab_type": "code",
    "id": "kpTEK0n6xjmm"
   },
   "outputs": [],
   "source": [
    "# Compare launch hour of successfull and failed projects\n",
    "#plt.hist(filtered_df[filtered_df['state'] == 'successful']['hour'], bins=12, alpha=0.6)\n",
    "#plt.hist(filtered_df[filtered_df['state'] == 'failed']['hour'], bins=12, alpha=0.6, color='r')"
   ]
  },
  {
   "cell_type": "code",
   "execution_count": 43,
   "metadata": {
    "colab": {},
    "colab_type": "code",
    "id": "YS2_k4RJxjmn"
   },
   "outputs": [
    {
     "ename": "KeyError",
     "evalue": "'year'",
     "output_type": "error",
     "traceback": [
      "\u001b[0;31m---------------------------------------------------------------------------\u001b[0m",
      "\u001b[0;31mKeyError\u001b[0m                                  Traceback (most recent call last)",
      "\u001b[0;32m~/anaconda3/lib/python3.7/site-packages/pandas/core/indexes/base.py\u001b[0m in \u001b[0;36mget_loc\u001b[0;34m(self, key, method, tolerance)\u001b[0m\n\u001b[1;32m   2656\u001b[0m             \u001b[0;32mtry\u001b[0m\u001b[0;34m:\u001b[0m\u001b[0;34m\u001b[0m\u001b[0;34m\u001b[0m\u001b[0m\n\u001b[0;32m-> 2657\u001b[0;31m                 \u001b[0;32mreturn\u001b[0m \u001b[0mself\u001b[0m\u001b[0;34m.\u001b[0m\u001b[0m_engine\u001b[0m\u001b[0;34m.\u001b[0m\u001b[0mget_loc\u001b[0m\u001b[0;34m(\u001b[0m\u001b[0mkey\u001b[0m\u001b[0;34m)\u001b[0m\u001b[0;34m\u001b[0m\u001b[0;34m\u001b[0m\u001b[0m\n\u001b[0m\u001b[1;32m   2658\u001b[0m             \u001b[0;32mexcept\u001b[0m \u001b[0mKeyError\u001b[0m\u001b[0;34m:\u001b[0m\u001b[0;34m\u001b[0m\u001b[0;34m\u001b[0m\u001b[0m\n",
      "\u001b[0;32mpandas/_libs/index.pyx\u001b[0m in \u001b[0;36mpandas._libs.index.IndexEngine.get_loc\u001b[0;34m()\u001b[0m\n",
      "\u001b[0;32mpandas/_libs/index.pyx\u001b[0m in \u001b[0;36mpandas._libs.index.IndexEngine.get_loc\u001b[0;34m()\u001b[0m\n",
      "\u001b[0;32mpandas/_libs/hashtable_class_helper.pxi\u001b[0m in \u001b[0;36mpandas._libs.hashtable.PyObjectHashTable.get_item\u001b[0;34m()\u001b[0m\n",
      "\u001b[0;32mpandas/_libs/hashtable_class_helper.pxi\u001b[0m in \u001b[0;36mpandas._libs.hashtable.PyObjectHashTable.get_item\u001b[0;34m()\u001b[0m\n",
      "\u001b[0;31mKeyError\u001b[0m: 'year'",
      "\nDuring handling of the above exception, another exception occurred:\n",
      "\u001b[0;31mKeyError\u001b[0m                                  Traceback (most recent call last)",
      "\u001b[0;32m<ipython-input-43-31f873f5ea75>\u001b[0m in \u001b[0;36m<module>\u001b[0;34m\u001b[0m\n\u001b[0;32m----> 1\u001b[0;31m \u001b[0mfiltered_df\u001b[0m\u001b[0;34m[\u001b[0m\u001b[0;34m'year'\u001b[0m\u001b[0;34m]\u001b[0m\u001b[0;34m.\u001b[0m\u001b[0munique\u001b[0m\u001b[0;34m(\u001b[0m\u001b[0;34m)\u001b[0m\u001b[0;34m\u001b[0m\u001b[0;34m\u001b[0m\u001b[0m\n\u001b[0m",
      "\u001b[0;32m~/anaconda3/lib/python3.7/site-packages/pandas/core/frame.py\u001b[0m in \u001b[0;36m__getitem__\u001b[0;34m(self, key)\u001b[0m\n\u001b[1;32m   2925\u001b[0m             \u001b[0;32mif\u001b[0m \u001b[0mself\u001b[0m\u001b[0;34m.\u001b[0m\u001b[0mcolumns\u001b[0m\u001b[0;34m.\u001b[0m\u001b[0mnlevels\u001b[0m \u001b[0;34m>\u001b[0m \u001b[0;36m1\u001b[0m\u001b[0;34m:\u001b[0m\u001b[0;34m\u001b[0m\u001b[0;34m\u001b[0m\u001b[0m\n\u001b[1;32m   2926\u001b[0m                 \u001b[0;32mreturn\u001b[0m \u001b[0mself\u001b[0m\u001b[0;34m.\u001b[0m\u001b[0m_getitem_multilevel\u001b[0m\u001b[0;34m(\u001b[0m\u001b[0mkey\u001b[0m\u001b[0;34m)\u001b[0m\u001b[0;34m\u001b[0m\u001b[0;34m\u001b[0m\u001b[0m\n\u001b[0;32m-> 2927\u001b[0;31m             \u001b[0mindexer\u001b[0m \u001b[0;34m=\u001b[0m \u001b[0mself\u001b[0m\u001b[0;34m.\u001b[0m\u001b[0mcolumns\u001b[0m\u001b[0;34m.\u001b[0m\u001b[0mget_loc\u001b[0m\u001b[0;34m(\u001b[0m\u001b[0mkey\u001b[0m\u001b[0;34m)\u001b[0m\u001b[0;34m\u001b[0m\u001b[0;34m\u001b[0m\u001b[0m\n\u001b[0m\u001b[1;32m   2928\u001b[0m             \u001b[0;32mif\u001b[0m \u001b[0mis_integer\u001b[0m\u001b[0;34m(\u001b[0m\u001b[0mindexer\u001b[0m\u001b[0;34m)\u001b[0m\u001b[0;34m:\u001b[0m\u001b[0;34m\u001b[0m\u001b[0;34m\u001b[0m\u001b[0m\n\u001b[1;32m   2929\u001b[0m                 \u001b[0mindexer\u001b[0m \u001b[0;34m=\u001b[0m \u001b[0;34m[\u001b[0m\u001b[0mindexer\u001b[0m\u001b[0;34m]\u001b[0m\u001b[0;34m\u001b[0m\u001b[0;34m\u001b[0m\u001b[0m\n",
      "\u001b[0;32m~/anaconda3/lib/python3.7/site-packages/pandas/core/indexes/base.py\u001b[0m in \u001b[0;36mget_loc\u001b[0;34m(self, key, method, tolerance)\u001b[0m\n\u001b[1;32m   2657\u001b[0m                 \u001b[0;32mreturn\u001b[0m \u001b[0mself\u001b[0m\u001b[0;34m.\u001b[0m\u001b[0m_engine\u001b[0m\u001b[0;34m.\u001b[0m\u001b[0mget_loc\u001b[0m\u001b[0;34m(\u001b[0m\u001b[0mkey\u001b[0m\u001b[0;34m)\u001b[0m\u001b[0;34m\u001b[0m\u001b[0;34m\u001b[0m\u001b[0m\n\u001b[1;32m   2658\u001b[0m             \u001b[0;32mexcept\u001b[0m \u001b[0mKeyError\u001b[0m\u001b[0;34m:\u001b[0m\u001b[0;34m\u001b[0m\u001b[0;34m\u001b[0m\u001b[0m\n\u001b[0;32m-> 2659\u001b[0;31m                 \u001b[0;32mreturn\u001b[0m \u001b[0mself\u001b[0m\u001b[0;34m.\u001b[0m\u001b[0m_engine\u001b[0m\u001b[0;34m.\u001b[0m\u001b[0mget_loc\u001b[0m\u001b[0;34m(\u001b[0m\u001b[0mself\u001b[0m\u001b[0;34m.\u001b[0m\u001b[0m_maybe_cast_indexer\u001b[0m\u001b[0;34m(\u001b[0m\u001b[0mkey\u001b[0m\u001b[0;34m)\u001b[0m\u001b[0;34m)\u001b[0m\u001b[0;34m\u001b[0m\u001b[0;34m\u001b[0m\u001b[0m\n\u001b[0m\u001b[1;32m   2660\u001b[0m         \u001b[0mindexer\u001b[0m \u001b[0;34m=\u001b[0m \u001b[0mself\u001b[0m\u001b[0;34m.\u001b[0m\u001b[0mget_indexer\u001b[0m\u001b[0;34m(\u001b[0m\u001b[0;34m[\u001b[0m\u001b[0mkey\u001b[0m\u001b[0;34m]\u001b[0m\u001b[0;34m,\u001b[0m \u001b[0mmethod\u001b[0m\u001b[0;34m=\u001b[0m\u001b[0mmethod\u001b[0m\u001b[0;34m,\u001b[0m \u001b[0mtolerance\u001b[0m\u001b[0;34m=\u001b[0m\u001b[0mtolerance\u001b[0m\u001b[0;34m)\u001b[0m\u001b[0;34m\u001b[0m\u001b[0;34m\u001b[0m\u001b[0m\n\u001b[1;32m   2661\u001b[0m         \u001b[0;32mif\u001b[0m \u001b[0mindexer\u001b[0m\u001b[0;34m.\u001b[0m\u001b[0mndim\u001b[0m \u001b[0;34m>\u001b[0m \u001b[0;36m1\u001b[0m \u001b[0;32mor\u001b[0m \u001b[0mindexer\u001b[0m\u001b[0;34m.\u001b[0m\u001b[0msize\u001b[0m \u001b[0;34m>\u001b[0m \u001b[0;36m1\u001b[0m\u001b[0;34m:\u001b[0m\u001b[0;34m\u001b[0m\u001b[0;34m\u001b[0m\u001b[0m\n",
      "\u001b[0;32mpandas/_libs/index.pyx\u001b[0m in \u001b[0;36mpandas._libs.index.IndexEngine.get_loc\u001b[0;34m()\u001b[0m\n",
      "\u001b[0;32mpandas/_libs/index.pyx\u001b[0m in \u001b[0;36mpandas._libs.index.IndexEngine.get_loc\u001b[0;34m()\u001b[0m\n",
      "\u001b[0;32mpandas/_libs/hashtable_class_helper.pxi\u001b[0m in \u001b[0;36mpandas._libs.hashtable.PyObjectHashTable.get_item\u001b[0;34m()\u001b[0m\n",
      "\u001b[0;32mpandas/_libs/hashtable_class_helper.pxi\u001b[0m in \u001b[0;36mpandas._libs.hashtable.PyObjectHashTable.get_item\u001b[0;34m()\u001b[0m\n",
      "\u001b[0;31mKeyError\u001b[0m: 'year'"
     ]
    }
   ],
   "source": [
    "filtered_df['year'].unique()"
   ]
  },
  {
   "cell_type": "code",
   "execution_count": null,
   "metadata": {
    "colab": {},
    "colab_type": "code",
    "id": "H4N45T2qxjmp"
   },
   "outputs": [],
   "source": [
    "# TODO: check whether launch time has changed over years, see whether it changes over the months"
   ]
  },
  {
   "cell_type": "markdown",
   "metadata": {
    "colab_type": "text",
    "id": "XFWgcllCxjmr"
   },
   "source": [
    "### The 'location' column"
   ]
  },
  {
   "cell_type": "code",
   "execution_count": null,
   "metadata": {
    "colab": {},
    "colab_type": "code",
    "id": "dkv8Z-ZLxjms"
   },
   "outputs": [],
   "source": [
    "col = 'location'\n",
    "\n",
    "filtered_df[col].dtype"
   ]
  },
  {
   "cell_type": "code",
   "execution_count": null,
   "metadata": {
    "colab": {},
    "colab_type": "code",
    "id": "R4KapM6Vxjmt"
   },
   "outputs": [],
   "source": [
    "filtered_df[col].head(10)"
   ]
  },
  {
   "cell_type": "markdown",
   "metadata": {
    "colab_type": "text",
    "id": "lEU53n8Yxjmu"
   },
   "source": [
    "Looks like str representantion of a dictionary, turn into dict first."
   ]
  },
  {
   "cell_type": "code",
   "execution_count": null,
   "metadata": {
    "colab": {},
    "colab_type": "code",
    "id": "586oSlwyxjmv"
   },
   "outputs": [],
   "source": [
    "#start =time.time()\n",
    "del_idx = []\n",
    "count = 0\n",
    "\n",
    "for idx, x in enumerate(filtered_df[col]):\n",
    "\n",
    "    try:\n",
    "        filtered_df.at[idx, col] = eval(x.replace('false', 'False').replace('true', 'True').replace('null', 'None'))\n",
    "        #eval(x.replace('false', 'False').replace('true', 'True').replace('null', 'None'))\n",
    "\n",
    "    except:\n",
    "        filtered_df.drop(idx, axis=0, inplace=True)\n",
    "        del_idx.append(idx)\n",
    "#end = time.time()\n",
    "#print(end-start)\n",
    "filtered_df.reset_index(inplace=True)"
   ]
  },
  {
   "cell_type": "code",
   "execution_count": null,
   "metadata": {
    "colab": {},
    "colab_type": "code",
    "id": "H9joKezdxjmx"
   },
   "outputs": [],
   "source": [
    "filtered_df[col][0]"
   ]
  },
  {
   "cell_type": "code",
   "execution_count": null,
   "metadata": {
    "colab": {},
    "colab_type": "code",
    "id": "AIK7N44txjmy"
   },
   "outputs": [],
   "source": [
    "# Count number of unique locations\n",
    "\n",
    "#len(set([x['name'] for x in filtered_df[col]]))\n",
    "\n",
    "filtered_df['city'] = [x['name'] for x in filtered_df[col]]"
   ]
  },
  {
   "cell_type": "code",
   "execution_count": null,
   "metadata": {
    "colab": {},
    "colab_type": "code",
    "id": "JwNVJXgfxjmz"
   },
   "outputs": [],
   "source": [
    "# Top 20 cities by project frequency\n",
    "\n",
    "filtered_df['city'].value_counts().head(20).plot(kind='bar')"
   ]
  },
  {
   "cell_type": "code",
   "execution_count": null,
   "metadata": {
    "colab": {},
    "colab_type": "code",
    "id": "FUc1xKisxjm2"
   },
   "outputs": [],
   "source": [
    "# Top 20 non-US cities\n",
    "\n",
    "filtered_df['city'][filtered_df['location']['country'] != 'US'].value_counts().head(20).plot(kind='bar')"
   ]
  },
  {
   "cell_type": "code",
   "execution_count": null,
   "metadata": {
    "colab": {},
    "colab_type": "code",
    "id": "DwBiN7o7xjm4"
   },
   "outputs": [],
   "source": [
    "filtered_df['location'][0]['country']"
   ]
  },
  {
   "cell_type": "code",
   "execution_count": null,
   "metadata": {
    "colab": {},
    "colab_type": "code",
    "id": "vvE7GpVyxjm5"
   },
   "outputs": [],
   "source": [
    "plt.figure(figsize=(15,7))\n",
    "data['country'].value_counts().plot(kind='bar')"
   ]
  },
  {
   "cell_type": "markdown",
   "metadata": {
    "colab_type": "text",
    "id": "daEy0XmQxjm8"
   },
   "source": [
    "### The 'name' column"
   ]
  },
  {
   "cell_type": "code",
   "execution_count": null,
   "metadata": {
    "colab": {},
    "colab_type": "code",
    "id": "uCkQlA-Axjm9"
   },
   "outputs": [],
   "source": [
    "col = 'name'\n",
    "filtered_df[col].describe()"
   ]
  },
  {
   "cell_type": "code",
   "execution_count": null,
   "metadata": {
    "colab": {},
    "colab_type": "code",
    "id": "V_ZjSNn3xjm_"
   },
   "outputs": [],
   "source": [
    "filtered_df[[col]].isna().sum()"
   ]
  },
  {
   "cell_type": "markdown",
   "metadata": {
    "colab_type": "text",
    "id": "H6U8mhjhxjnA"
   },
   "source": [
    "No missing values but apparently 24000 non-unique entries / names. This certainly requires further addressing."
   ]
  },
  {
   "cell_type": "code",
   "execution_count": null,
   "metadata": {
    "colab": {},
    "colab_type": "code",
    "id": "OT7mYWEbxjnB"
   },
   "outputs": [],
   "source": [
    "# Look at the distribution of project name lengths\n",
    "plt.hist([len(x) for x in filtered_df[col]], bins=30)"
   ]
  },
  {
   "cell_type": "code",
   "execution_count": null,
   "metadata": {
    "colab": {},
    "colab_type": "code",
    "id": "7pIgtmK-xjnD"
   },
   "outputs": [],
   "source": [
    "# Look into:\n",
    "# lenght of name vs successful / failed funding\n",
    "# sentiment analysis vs. funding success"
   ]
  },
  {
   "cell_type": "markdown",
   "metadata": {
    "colab_type": "text",
    "id": "uGbtVaw8xjnF"
   },
   "source": [
    "### The 'photo' column"
   ]
  },
  {
   "cell_type": "code",
   "execution_count": null,
   "metadata": {
    "colab": {},
    "colab_type": "code",
    "id": "VTYWvffwxjnF"
   },
   "outputs": [],
   "source": [
    "col = 'photo'\n",
    "filtered_df[col].describe()"
   ]
  },
  {
   "cell_type": "code",
   "execution_count": null,
   "metadata": {
    "colab": {},
    "colab_type": "code",
    "id": "iwOZOs-2xjnH"
   },
   "outputs": [],
   "source": [
    "filtered_df[col].head()"
   ]
  },
  {
   "cell_type": "markdown",
   "metadata": {
    "colab_type": "text",
    "id": "aNnKfmVDxjnI"
   },
   "source": [
    "Another column that looks like str reprensentation of a dict"
   ]
  },
  {
   "cell_type": "code",
   "execution_count": null,
   "metadata": {
    "colab": {},
    "colab_type": "code",
    "id": "0zdPmbSxxjnI"
   },
   "outputs": [],
   "source": [
    "filtered_df[col].isna().sum()"
   ]
  },
  {
   "cell_type": "code",
   "execution_count": null,
   "metadata": {
    "colab": {},
    "colab_type": "code",
    "id": "02Sd4w3kxjnK"
   },
   "outputs": [],
   "source": [
    "eval(filtered_df[col][0])['1536x864']"
   ]
  },
  {
   "cell_type": "code",
   "execution_count": null,
   "metadata": {
    "colab": {},
    "colab_type": "code",
    "id": "Do3sGdRhxjnP"
   },
   "outputs": [],
   "source": [
    "# Turn strings into dicts and check for exceptions errors\n",
    "\n",
    "del_idx = []\n",
    "count = 0\n",
    "for idx, x in enumerate(filtered_df[col]):\n",
    "\n",
    "    try:\n",
    "        filtered_df.at[idx, col] = eval(x.replace('false', 'False').replace('true', 'True').replace('null', 'None'))\n",
    "        #eval(x.replace('null', 'None'))\n",
    "    except:\n",
    "        count += 1\n",
    "        del_idx.append(idx)\n",
    "print(count)"
   ]
  },
  {
   "cell_type": "markdown",
   "metadata": {
    "colab_type": "text",
    "id": "b2sNLj7sxjnR"
   },
   "source": [
    "TODO: Analyse 'photos'"
   ]
  },
  {
   "cell_type": "markdown",
   "metadata": {
    "colab_type": "text",
    "id": "FFBOYzV8xjnR"
   },
   "source": [
    "### The 'pledged' column"
   ]
  },
  {
   "cell_type": "markdown",
   "metadata": {
    "colab_type": "text",
    "id": "tK6s7vPOxjnS"
   },
   "source": [
    "pledged data is given in native currencies. **So can be dropped in favour of 'usd_pledged' which gives pledged amount in same currency (USD)**"
   ]
  },
  {
   "cell_type": "code",
   "execution_count": null,
   "metadata": {
    "colab": {},
    "colab_type": "code",
    "id": "TTrphoeAxjnT"
   },
   "outputs": [],
   "source": [
    "col = 'pledged'\n",
    "filtered_df[col].dtypes"
   ]
  },
  {
   "cell_type": "code",
   "execution_count": null,
   "metadata": {
    "colab": {},
    "colab_type": "code",
    "id": "L4Q9U7wXxjnU"
   },
   "outputs": [],
   "source": [
    "filtered_df[col].describe()"
   ]
  },
  {
   "cell_type": "code",
   "execution_count": null,
   "metadata": {
    "colab": {},
    "colab_type": "code",
    "id": "YWmr36EzxjnW"
   },
   "outputs": [],
   "source": [
    "filtered_df[col].isna().sum()"
   ]
  },
  {
   "cell_type": "markdown",
   "metadata": {
    "colab_type": "text",
    "id": "PO0973HqxjnX"
   },
   "source": [
    "No missing values "
   ]
  },
  {
   "cell_type": "code",
   "execution_count": 44,
   "metadata": {
    "colab": {},
    "colab_type": "code",
    "id": "2Lm0bs9SxjnX"
   },
   "outputs": [
    {
     "data": {
      "text/plain": [
       "2018-02-27 17:50:20    4\n",
       "2018-08-14 15:00:02    4\n",
       "2018-02-19 17:02:12    4\n",
       "2018-09-25 16:00:01    4\n",
       "2018-10-15 14:00:01    4\n",
       "2019-01-31 17:00:07    4\n",
       "2018-11-13 17:00:21    4\n",
       "2018-09-24 16:00:02    4\n",
       "2018-10-17 15:59:30    4\n",
       "2018-12-03 17:00:06    4\n",
       "2018-10-23 14:51:54    4\n",
       "2019-02-05 15:00:14    4\n",
       "2018-05-16 18:55:59    4\n",
       "2017-06-12 15:59:10    4\n",
       "2018-11-12 15:06:08    4\n",
       "2016-11-01 14:02:40    4\n",
       "2018-09-07 18:49:35    4\n",
       "2018-11-01 15:52:41    4\n",
       "2019-01-08 15:00:04    4\n",
       "2018-09-04 18:01:20    4\n",
       "2019-02-21 20:00:01    4\n",
       "2018-11-26 17:30:30    3\n",
       "2018-06-12 16:04:59    3\n",
       "2017-01-24 01:00:06    3\n",
       "2016-09-06 19:49:38    3\n",
       "2018-05-23 14:56:18    3\n",
       "2018-10-10 14:58:06    3\n",
       "2018-10-02 11:05:11    3\n",
       "2017-11-15 23:29:31    3\n",
       "2014-07-29 17:13:31    3\n",
       "                      ..\n",
       "2017-09-28 08:02:13    1\n",
       "2017-10-30 12:45:11    1\n",
       "2014-12-15 17:02:46    1\n",
       "2014-12-28 04:21:11    1\n",
       "2017-11-19 12:28:10    1\n",
       "2012-06-11 20:08:26    1\n",
       "2018-10-12 20:28:01    1\n",
       "2015-02-05 10:33:34    1\n",
       "2015-10-01 01:36:36    1\n",
       "2017-01-31 12:16:38    1\n",
       "2016-02-29 00:37:12    1\n",
       "2019-01-29 17:42:40    1\n",
       "2013-08-07 00:28:20    1\n",
       "2014-08-14 21:11:25    1\n",
       "2013-06-20 10:11:37    1\n",
       "2012-10-18 23:12:49    1\n",
       "2015-05-12 03:08:54    1\n",
       "2016-07-26 17:13:01    1\n",
       "2016-04-24 22:11:35    1\n",
       "2015-02-17 15:35:10    1\n",
       "2017-06-02 10:20:21    1\n",
       "2015-08-03 17:07:52    1\n",
       "2017-09-26 15:11:07    1\n",
       "2015-04-27 05:09:25    1\n",
       "2015-07-14 04:45:53    1\n",
       "2017-06-16 23:42:19    1\n",
       "2015-10-05 16:00:09    1\n",
       "2016-12-29 21:16:41    1\n",
       "2010-09-28 22:57:09    1\n",
       "2017-02-07 15:49:27    1\n",
       "Name: launched_at, Length: 168847, dtype: int64"
      ]
     },
     "execution_count": 44,
     "metadata": {},
     "output_type": "execute_result"
    }
   ],
   "source": [
    "filtered_df[col].value_counts()\n"
   ]
  },
  {
   "cell_type": "markdown",
   "metadata": {
    "colab_type": "text",
    "id": "PsrNxaj3xjnY"
   },
   "source": [
    "15003 projects that pledged 0 USD?"
   ]
  },
  {
   "cell_type": "code",
   "execution_count": 45,
   "metadata": {
    "colab": {},
    "colab_type": "code",
    "id": "0ixqb5tpxjnY"
   },
   "outputs": [],
   "source": [
    "droplist.append(col)\n",
    "#filtered_df.drop('pledged', inplace=True, axis=1)"
   ]
  },
  {
   "cell_type": "markdown",
   "metadata": {
    "colab_type": "text",
    "id": "YszSj6Ohxjnb"
   },
   "source": [
    "### The 'profile' column"
   ]
  },
  {
   "cell_type": "code",
   "execution_count": 46,
   "metadata": {
    "colab": {},
    "colab_type": "code",
    "id": "0gi8EtGsxjnc"
   },
   "outputs": [
    {
     "data": {
      "text/plain": [
       "0    {\"id\":822687,\"project_id\":822687,\"state\":\"inac...\n",
       "1    {\"id\":3665299,\"project_id\":3665299,\"state\":\"in...\n",
       "2    {\"id\":2730508,\"project_id\":2730508,\"state\":\"in...\n",
       "3    {\"id\":3498742,\"project_id\":3498742,\"state\":\"ac...\n",
       "4    {\"id\":1754403,\"project_id\":1754403,\"state\":\"in...\n",
       "Name: profile, dtype: object"
      ]
     },
     "execution_count": 46,
     "metadata": {},
     "output_type": "execute_result"
    }
   ],
   "source": [
    "col = 'profile'\n",
    "\n",
    "filtered_df[col].head()"
   ]
  },
  {
   "cell_type": "markdown",
   "metadata": {
    "colab_type": "text",
    "id": "UbnV_75Lxjnd"
   },
   "source": [
    "Yet another column with str reprensentation of a dict. Lets look into one entry:"
   ]
  },
  {
   "cell_type": "code",
   "execution_count": 47,
   "metadata": {
    "colab": {},
    "colab_type": "code",
    "id": "lATnErm-xjnd"
   },
   "outputs": [
    {
     "data": {
      "text/plain": [
       "{'id': 822687,\n",
       " 'project_id': 822687,\n",
       " 'state': 'inactive',\n",
       " 'state_changed_at': 1425915845,\n",
       " 'name': None,\n",
       " 'blurb': None,\n",
       " 'background_color': None,\n",
       " 'text_color': None,\n",
       " 'link_background_color': None,\n",
       " 'link_text_color': None,\n",
       " 'link_text': None,\n",
       " 'link_url': None,\n",
       " 'show_feature_image': False,\n",
       " 'background_image_opacity': 0.8,\n",
       " 'should_show_feature_image_section': True,\n",
       " 'feature_image_attributes': {'image_urls': {'default': 'https://ksr-ugc.imgix.net/assets/011/625/534/5bea1760d7f20943c4cd5e9b4911c1bd_original.jpg?ixlib=rb-1.1.0&crop=faces&w=1552&h=873&fit=crop&v=1463685705&auto=format&frame=1&q=92&s=90c72b785ef97539099dffb8531dcad3',\n",
       "   'baseball_card': 'https://ksr-ugc.imgix.net/assets/011/625/534/5bea1760d7f20943c4cd5e9b4911c1bd_original.jpg?ixlib=rb-1.1.0&crop=faces&w=560&h=315&fit=crop&v=1463685705&auto=format&frame=1&q=92&s=883b3ff098e5fc4cf6fec280665f5fd0'}}}"
      ]
     },
     "execution_count": 47,
     "metadata": {},
     "output_type": "execute_result"
    }
   ],
   "source": [
    "entry = eval(filtered_df[col][0].replace('null', 'None').replace('false', 'False').replace('true', 'True'))\n",
    "entry"
   ]
  },
  {
   "cell_type": "code",
   "execution_count": 48,
   "metadata": {
    "colab": {},
    "colab_type": "code",
    "id": "fr7swWuaxjnf"
   },
   "outputs": [
    {
     "data": {
      "text/plain": [
       "['id',\n",
       " 'project_id',\n",
       " 'state',\n",
       " 'state_changed_at',\n",
       " 'name',\n",
       " 'blurb',\n",
       " 'background_color',\n",
       " 'text_color',\n",
       " 'link_background_color',\n",
       " 'link_text_color',\n",
       " 'link_text',\n",
       " 'link_url',\n",
       " 'show_feature_image',\n",
       " 'background_image_opacity',\n",
       " 'should_show_feature_image_section',\n",
       " 'feature_image_attributes']"
      ]
     },
     "execution_count": 48,
     "metadata": {},
     "output_type": "execute_result"
    }
   ],
   "source": [
    "list(entry.keys())"
   ]
  },
  {
   "cell_type": "code",
   "execution_count": 49,
   "metadata": {
    "colab": {},
    "colab_type": "code",
    "id": "WNRFeKvSxjng"
   },
   "outputs": [
    {
     "name": "stdout",
     "output_type": "stream",
     "text": [
      "blurb\n",
      "id\n",
      "name\n",
      "state\n",
      "state_changed_at\n"
     ]
    }
   ],
   "source": [
    "# Check which of the entries of the 'profile' column already exist as separate column s\n",
    "\n",
    "for e in list(data.columns):\n",
    "    if e in list(entry.keys()):\n",
    "        print(e)"
   ]
  },
  {
   "cell_type": "code",
   "execution_count": 50,
   "metadata": {
    "colab": {},
    "colab_type": "code",
    "id": "bJKX66qexjni"
   },
   "outputs": [],
   "source": [
    "## TODO: Check whether contents also match"
   ]
  },
  {
   "cell_type": "markdown",
   "metadata": {
    "colab_type": "text",
    "id": "FmpmUHZKxjnj"
   },
   "source": [
    "Seems like a repetition of other columns. And some additional information. Well drop the column for now."
   ]
  },
  {
   "cell_type": "code",
   "execution_count": 51,
   "metadata": {
    "colab": {},
    "colab_type": "code",
    "id": "7hcIE0TBxjnj"
   },
   "outputs": [],
   "source": [
    "droplist.append(col)"
   ]
  },
  {
   "cell_type": "markdown",
   "metadata": {
    "colab_type": "text",
    "id": "aMdOgZuNxjnl"
   },
   "source": [
    "### The 'slug' column"
   ]
  },
  {
   "cell_type": "code",
   "execution_count": 52,
   "metadata": {
    "colab": {},
    "colab_type": "code",
    "id": "LVmxWqewxjnm"
   },
   "outputs": [
    {
     "data": {
      "text/plain": [
       "0                                new-final-round-album\n",
       "1                      princess-pals-enamel-pin-series\n",
       "2    their-life-through-their-lens-the-amish-and-me...\n",
       "3                             wao-the-eco-effect-shoes\n",
       "4                       apple-watch-development-course\n",
       "Name: slug, dtype: object"
      ]
     },
     "execution_count": 52,
     "metadata": {},
     "output_type": "execute_result"
    }
   ],
   "source": [
    "col = 'slug'\n",
    "filtered_df[col].head()"
   ]
  },
  {
   "cell_type": "code",
   "execution_count": 53,
   "metadata": {
    "colab": {},
    "colab_type": "code",
    "id": "6u7p8n3Yxjno"
   },
   "outputs": [
    {
     "data": {
      "text/plain": [
       "0                                New Final Round Album\n",
       "1                      Princess Pals Enamel Pin Series\n",
       "2    Their Life Through Their Lens-the Amish and Me...\n",
       "3                            WAO: THE ECO EFFECT SHOES\n",
       "4                       Apple Watch Development Course\n",
       "Name: name, dtype: object"
      ]
     },
     "execution_count": 53,
     "metadata": {},
     "output_type": "execute_result"
    }
   ],
   "source": [
    "filtered_df['name'].head()"
   ]
  },
  {
   "cell_type": "markdown",
   "metadata": {
    "colab_type": "text",
    "id": "wyLcRvdjxjnp"
   },
   "source": [
    "At first glance, this looks like the 'name' column in all lower case and with hyphens instead of whitespaces."
   ]
  },
  {
   "cell_type": "code",
   "execution_count": 54,
   "metadata": {
    "colab": {},
    "colab_type": "code",
    "id": "2jnc0Tktxjnq"
   },
   "outputs": [
    {
     "data": {
      "text/plain": [
       "count                        192664\n",
       "unique                       168979\n",
       "top       super-martinez-bros-scarf\n",
       "freq                              2\n",
       "Name: slug, dtype: object"
      ]
     },
     "execution_count": 54,
     "metadata": {},
     "output_type": "execute_result"
    }
   ],
   "source": [
    "filtered_df[col].describe()"
   ]
  },
  {
   "cell_type": "code",
   "execution_count": 55,
   "metadata": {
    "colab": {},
    "colab_type": "code",
    "id": "oyRVrfVLxjnr"
   },
   "outputs": [
    {
     "data": {
      "text/plain": [
       "[0         False\n",
       " 1         False\n",
       " 2         False\n",
       " 3         False\n",
       " 4         False\n",
       " 5         False\n",
       " 6         False\n",
       " 7         False\n",
       " 8         False\n",
       " 9          True\n",
       " 10        False\n",
       " 11        False\n",
       " 12        False\n",
       " 13         True\n",
       " 14        False\n",
       " 15        False\n",
       " 16        False\n",
       " 17        False\n",
       " 18        False\n",
       " 19        False\n",
       " 20        False\n",
       " 21        False\n",
       " 22        False\n",
       " 23        False\n",
       " 24        False\n",
       " 25        False\n",
       " 26        False\n",
       " 27        False\n",
       " 28        False\n",
       " 29        False\n",
       "           ...  \n",
       " 192634    False\n",
       " 192635    False\n",
       " 192636    False\n",
       " 192637    False\n",
       " 192638    False\n",
       " 192639    False\n",
       " 192640    False\n",
       " 192641    False\n",
       " 192642    False\n",
       " 192643    False\n",
       " 192644    False\n",
       " 192645    False\n",
       " 192646    False\n",
       " 192647    False\n",
       " 192648    False\n",
       " 192649    False\n",
       " 192650    False\n",
       " 192651    False\n",
       " 192652    False\n",
       " 192653    False\n",
       " 192654    False\n",
       " 192655    False\n",
       " 192656    False\n",
       " 192657    False\n",
       " 192658    False\n",
       " 192659    False\n",
       " 192660    False\n",
       " 192661    False\n",
       " 192662    False\n",
       " 192663    False\n",
       " Length: 192664, dtype: bool]"
      ]
     },
     "execution_count": 55,
     "metadata": {},
     "output_type": "execute_result"
    }
   ],
   "source": [
    "[filtered_df['name'].str.lower().replace(' ', '-').replace(':', '') == filtered_df[col]]"
   ]
  },
  {
   "cell_type": "code",
   "execution_count": 56,
   "metadata": {
    "colab": {},
    "colab_type": "code",
    "id": "FgLk4Bzrxjns"
   },
   "outputs": [],
   "source": [
    "li = []\n",
    "for i in range(10):\n",
    "    \n",
    "    li.append(filtered_df['name'][i].lower().replace(' ', '-').replace(':', '') == filtered_df['slug'][i])\n",
    "    "
   ]
  },
  {
   "cell_type": "code",
   "execution_count": 57,
   "metadata": {
    "colab": {},
    "colab_type": "code",
    "id": "C-RMuRqhxjnu"
   },
   "outputs": [
    {
     "data": {
      "text/plain": [
       "121"
      ]
     },
     "execution_count": 57,
     "metadata": {},
     "output_type": "execute_result"
    }
   ],
   "source": [
    "filtered_df[col].str.len().max()"
   ]
  },
  {
   "cell_type": "code",
   "execution_count": 58,
   "metadata": {
    "colab": {},
    "colab_type": "code",
    "id": "sv1K6mXZxjnv"
   },
   "outputs": [
    {
     "data": {
      "text/plain": [
       "'their-life-through-their-lens-the-amish-and-mennon'"
      ]
     },
     "execution_count": 58,
     "metadata": {},
     "output_type": "execute_result"
    }
   ],
   "source": [
    "filtered_df[col][2]"
   ]
  },
  {
   "cell_type": "code",
   "execution_count": 59,
   "metadata": {
    "colab": {},
    "colab_type": "code",
    "id": "PgeyvI0Gxjnx"
   },
   "outputs": [
    {
     "data": {
      "text/plain": [
       "'their-life-through-their-lens-the-amish-and-mennonite-people'"
      ]
     },
     "execution_count": 59,
     "metadata": {},
     "output_type": "execute_result"
    }
   ],
   "source": [
    "filtered_df['name'][2].lower().replace(' ', '-').replace(':', '')"
   ]
  },
  {
   "cell_type": "code",
   "execution_count": 60,
   "metadata": {
    "colab": {},
    "colab_type": "code",
    "id": "_ZUzLDdGxjny"
   },
   "outputs": [
    {
     "data": {
      "text/plain": [
       "0                                     new-final-round-album\n",
       "1                           princess-pals-enamel-pin-series\n",
       "2         their-life-through-their-lens-the-amish-and-me...\n",
       "3                                  wao-the-eco-effect-shoes\n",
       "4                            apple-watch-development-course\n",
       "5                                   saluki-totem-enamel-pin\n",
       "6                                 quickstarter-tao-of-maceo\n",
       "7                lolnub-web-theme-park-and-story-attraction\n",
       "8                  limited-edition-heroic-fireman-statuette\n",
       "9                                                   prattle\n",
       "10                  end-of-an-era-if-these-walls-could-talk\n",
       "11        line-in-the-sand-stories-from-the-northern-gat...\n",
       "12        avalon-nero-handcrafted-prestige-mens-shoes-lo...\n",
       "13                                                  nakefit\n",
       "14                       war-of-dragons-fight-to-the-finish\n",
       "15                japanese-burger-anime-cafe-gabutto-burger\n",
       "16               pacific-crest-trail-a-photographic-journey\n",
       "17                                from-darkroom-to-daylight\n",
       "18                                      the-marks-you-leave\n",
       "19                   the-secret-alleys-gallerythe-galallery\n",
       "20                pie-presents-the-lyris-quartet-in-concert\n",
       "21                         joe-head-debut-album-launch-2018\n",
       "22            human-beans-unique-candy-with-a-sweet-message\n",
       "23                            fund-construction-projectscom\n",
       "24                                    marriage-story-heaven\n",
       "25        sonata-1962-at-the-new-york-musical-festival-2018\n",
       "26                                 cryptid-hard-enamel-pins\n",
       "27                           aarons-first-full-length-album\n",
       "28                                                 new-ep-1\n",
       "29                                the-road-to-carnegie-hall\n",
       "                                ...                        \n",
       "192634                                        ship-of-death\n",
       "192635    the-showdown-board-game-a-hot-rodding-rpg-to-d...\n",
       "192636    piups-uninterruptible-power-supply-for-raspber...\n",
       "192637                   crypto-currency-whats-it-all-about\n",
       "192638               arkyd-a-space-telescope-for-everyone-0\n",
       "192639                                   atv-online-journey\n",
       "192640    pure-water-phone-box-safe-water-anywhere-by-sm...\n",
       "192641    xl-band-leather-for-apple-watch-and-24mm-rolex...\n",
       "192642    kickstarter-gold-good-night-stories-for-rebel-...\n",
       "192643      qus-the-worlds-most-advanced-textile-for-sports\n",
       "192644    aquacy-300m-limited-edition-dive-watch-with-to...\n",
       "192645                                       catch-22-redux\n",
       "192646                                 dirty-goat-roadhouse\n",
       "192647      debut-of-my-music-album-please-helpits-my-dream\n",
       "192648    bring-an-efficient-incentive-breath-to-your-li...\n",
       "192649                               anew-the-distant-light\n",
       "192650             buyers-remorse-ii-the-hunt-for-ray-clark\n",
       "192651                  misty-rae-carsons-debut-music-video\n",
       "192652    innovation-through-digitalization-anthony-wayn...\n",
       "192653    alison-gabrielles-debut-cd-bollywood-covers-el...\n",
       "192654    museum-of-non-visible-art-praxis-and-james-franco\n",
       "192655                             community-karmic-kitchen\n",
       "192656                           the-liberal-studies-leader\n",
       "192657                 art-and-craft-free-resources-website\n",
       "192658                                   enny-pennys-wishes\n",
       "192659                              steam-hollow-brewing-co\n",
       "192660    fusion-detox-chef-alan-wichert-creates-the-health\n",
       "192661                 gorgeous-princess-cheetah-collection\n",
       "192662    the-lion-and-the-lyceum-childrens-book-based-o...\n",
       "192663                   philip-e-west-aviation-masterworks\n",
       "Name: slug, Length: 192664, dtype: object"
      ]
     },
     "execution_count": 60,
     "metadata": {},
     "output_type": "execute_result"
    }
   ],
   "source": [
    "filtered_df[col].str.lower().replace(' ', '-').replace(':', '')"
   ]
  },
  {
   "cell_type": "markdown",
   "metadata": {
    "colab_type": "raw",
    "id": "q2jZwTExxjnz"
   },
   "source": [
    "droplist.append(col)"
   ]
  },
  {
   "cell_type": "markdown",
   "metadata": {
    "colab_type": "text",
    "id": "fntKfglCxjn0"
   },
   "source": [
    "### The 'source_url' column"
   ]
  },
  {
   "cell_type": "code",
   "execution_count": 61,
   "metadata": {
    "colab": {},
    "colab_type": "code",
    "id": "J0ezd74Zxjn0"
   },
   "outputs": [
    {
     "data": {
      "text/plain": [
       "'https://www.kickstarter.com/discover/categories/technology/software'"
      ]
     },
     "execution_count": 61,
     "metadata": {},
     "output_type": "execute_result"
    }
   ],
   "source": [
    "col = 'source_url'\n",
    "filtered_df[col][1000]"
   ]
  },
  {
   "cell_type": "markdown",
   "metadata": {
    "colab_type": "text",
    "id": "l1iO6zd3xjn1"
   },
   "source": [
    "This is just an url to the category of the project, drop."
   ]
  },
  {
   "cell_type": "code",
   "execution_count": 62,
   "metadata": {
    "colab": {},
    "colab_type": "code",
    "id": "6jcnNO7bxjn2"
   },
   "outputs": [],
   "source": [
    "droplist.append(col)"
   ]
  },
  {
   "cell_type": "markdown",
   "metadata": {
    "colab_type": "text",
    "id": "tTAD9wS_xjn3"
   },
   "source": [
    "### The 'staff_pick' column"
   ]
  },
  {
   "cell_type": "markdown",
   "metadata": {
    "colab_type": "text",
    "id": "Fcytr91Fxjn4"
   },
   "source": [
    "staff_pick - whether a project was highlighted as a staff_pick when it was launched/live\n",
    "\n",
    "Seems like an interesting variable. "
   ]
  },
  {
   "cell_type": "code",
   "execution_count": 63,
   "metadata": {
    "colab": {},
    "colab_type": "code",
    "id": "BX_RqoI8xjn4"
   },
   "outputs": [
    {
     "data": {
      "text/plain": [
       "0    False\n",
       "1    False\n",
       "2     True\n",
       "3    False\n",
       "4    False\n",
       "Name: staff_pick, dtype: bool"
      ]
     },
     "execution_count": 63,
     "metadata": {},
     "output_type": "execute_result"
    }
   ],
   "source": [
    "col = 'staff_pick'\n",
    "\n",
    "filtered_df[col].head()"
   ]
  },
  {
   "cell_type": "code",
   "execution_count": 64,
   "metadata": {
    "colab": {},
    "colab_type": "code",
    "id": "lGDuLDQDxjn5"
   },
   "outputs": [
    {
     "data": {
      "text/plain": [
       "False    166671\n",
       "True      25993\n",
       "Name: staff_pick, dtype: int64"
      ]
     },
     "execution_count": 64,
     "metadata": {},
     "output_type": "execute_result"
    }
   ],
   "source": [
    "filtered_df[col].value_counts()"
   ]
  },
  {
   "cell_type": "code",
   "execution_count": 65,
   "metadata": {
    "colab": {},
    "colab_type": "code",
    "id": "MdXlYmzbxjn8"
   },
   "outputs": [
    {
     "data": {
      "text/plain": [
       "13.48"
      ]
     },
     "execution_count": 65,
     "metadata": {},
     "output_type": "execute_result"
    }
   ],
   "source": [
    "round(25940/(25940+166509)*100, 2)"
   ]
  },
  {
   "cell_type": "markdown",
   "metadata": {
    "colab_type": "text",
    "id": "ClEk-feLxjn-"
   },
   "source": [
    "13.48 % of projects where highlighted as staff_pick, when they were launched/live."
   ]
  },
  {
   "cell_type": "markdown",
   "metadata": {
    "colab_type": "text",
    "id": "d3Wr7OGKxjn-"
   },
   "source": [
    "### The 'state_changed_at' column\n",
    "state_changed_at - date and time of when a project's status was changed (same as the deadline for successful and failed projects)"
   ]
  },
  {
   "cell_type": "code",
   "execution_count": 66,
   "metadata": {
    "colab": {},
    "colab_type": "code",
    "id": "jP50kj57xjn_"
   },
   "outputs": [
    {
     "data": {
      "text/plain": [
       "0    1391899046\n",
       "1    1551801611\n",
       "2    1480607932\n",
       "3    1544309940\n",
       "4    1428511019\n",
       "Name: state_changed_at, dtype: int64"
      ]
     },
     "execution_count": 66,
     "metadata": {},
     "output_type": "execute_result"
    }
   ],
   "source": [
    "col = 'state_changed_at'\n",
    "\n",
    "filtered_df[col].head()"
   ]
  },
  {
   "cell_type": "code",
   "execution_count": 67,
   "metadata": {
    "colab": {},
    "colab_type": "code",
    "id": "IdQ55hQ9xjoA"
   },
   "outputs": [],
   "source": [
    "# Conver to datetime object\n",
    "filtered_df[col] = pd.to_datetime(filtered_df[col], unit='s')"
   ]
  },
  {
   "cell_type": "markdown",
   "metadata": {
    "colab_type": "text",
    "id": "rwWHuSOIxjoA"
   },
   "source": [
    "### The 'static_usd_rate' column\n",
    "\n",
    "static_usd_rate - conversion rate between the original currency and USD"
   ]
  },
  {
   "cell_type": "code",
   "execution_count": 68,
   "metadata": {
    "colab": {},
    "colab_type": "code",
    "id": "Nfo3AR8OxjoB"
   },
   "outputs": [
    {
     "data": {
      "text/plain": [
       "0    1.000000\n",
       "1    1.000000\n",
       "2    1.000000\n",
       "3    1.136525\n",
       "4    1.000000\n",
       "Name: static_usd_rate, dtype: float64"
      ]
     },
     "execution_count": 68,
     "metadata": {},
     "output_type": "execute_result"
    }
   ],
   "source": [
    "col = 'static_usd_rate'\n",
    "\n",
    "filtered_df[col].head()"
   ]
  },
  {
   "cell_type": "markdown",
   "metadata": {
    "colab_type": "text",
    "id": "vo8nYSohxjoD"
   },
   "source": [
    "Assume column is just a mulitplier to convert 'pledge' to 'usd_plegded', drop."
   ]
  },
  {
   "cell_type": "code",
   "execution_count": 69,
   "metadata": {
    "colab": {},
    "colab_type": "code",
    "id": "w-hTkeMTxjoD"
   },
   "outputs": [],
   "source": [
    "droplist.append(col)"
   ]
  },
  {
   "cell_type": "markdown",
   "metadata": {
    "colab_type": "text",
    "id": "G8avRU07xjoE"
   },
   "source": [
    "### The 'urls' columns\n",
    "urls - url to the project's page"
   ]
  },
  {
   "cell_type": "code",
   "execution_count": 70,
   "metadata": {
    "colab": {},
    "colab_type": "code",
    "id": "Idxbxid2xjoF"
   },
   "outputs": [
    {
     "data": {
      "text/plain": [
       "0    {\"web\":{\"project\":\"https://www.kickstarter.com...\n",
       "1    {\"web\":{\"project\":\"https://www.kickstarter.com...\n",
       "2    {\"web\":{\"project\":\"https://www.kickstarter.com...\n",
       "3    {\"web\":{\"project\":\"https://www.kickstarter.com...\n",
       "4    {\"web\":{\"project\":\"https://www.kickstarter.com...\n",
       "Name: urls, dtype: object"
      ]
     },
     "execution_count": 70,
     "metadata": {},
     "output_type": "execute_result"
    }
   ],
   "source": [
    "col = 'urls'\n",
    "\n",
    "filtered_df[col].head()"
   ]
  },
  {
   "cell_type": "code",
   "execution_count": 71,
   "metadata": {
    "colab": {},
    "colab_type": "code",
    "id": "PAWv3cNnxjoG"
   },
   "outputs": [
    {
     "data": {
      "text/plain": [
       "{'web': {'project': 'https://www.kickstarter.com/projects/1495925645/new-final-round-album?ref=discovery_category_newest',\n",
       "  'rewards': 'https://www.kickstarter.com/projects/1495925645/new-final-round-album/rewards'}}"
      ]
     },
     "execution_count": 71,
     "metadata": {},
     "output_type": "execute_result"
    }
   ],
   "source": [
    "eval(filtered_df[col][0])"
   ]
  },
  {
   "cell_type": "markdown",
   "metadata": {
    "colab_type": "text",
    "id": "1EHmKoUKxjoI"
   },
   "source": [
    "Just links to the project page, drop."
   ]
  },
  {
   "cell_type": "code",
   "execution_count": 72,
   "metadata": {
    "colab": {},
    "colab_type": "code",
    "id": "FF-cxKTSxjoJ"
   },
   "outputs": [],
   "source": [
    "droplist.append(col)"
   ]
  },
  {
   "cell_type": "markdown",
   "metadata": {
    "colab_type": "text",
    "id": "Bedwyn5YxjoL"
   },
   "source": [
    "### The 'usd_pledged' column\n",
    "usd_pledged - amount pledged in USD"
   ]
  },
  {
   "cell_type": "code",
   "execution_count": 73,
   "metadata": {
    "colab": {},
    "colab_type": "code",
    "id": "ROuVZbK6xjoM"
   },
   "outputs": [
    {
     "data": {
      "text/plain": [
       "0      802.00000\n",
       "1     2259.00000\n",
       "2    29638.00000\n",
       "3    49075.15252\n",
       "4      549.00000\n",
       "Name: usd_pledged, dtype: float64"
      ]
     },
     "execution_count": 73,
     "metadata": {},
     "output_type": "execute_result"
    }
   ],
   "source": [
    "col = 'usd_pledged'\n",
    "\n",
    "filtered_df[col].head()"
   ]
  },
  {
   "cell_type": "code",
   "execution_count": 74,
   "metadata": {
    "colab": {},
    "colab_type": "code",
    "id": "xpCIVNf2xjoN"
   },
   "outputs": [
    {
     "data": {
      "text/plain": [
       "count    1.926640e+05\n",
       "mean     1.351672e+04\n",
       "std      8.918397e+04\n",
       "min      0.000000e+00\n",
       "25%      1.500000e+02\n",
       "50%      1.772000e+03\n",
       "75%      7.096621e+03\n",
       "max      8.596475e+06\n",
       "Name: usd_pledged, dtype: float64"
      ]
     },
     "execution_count": 74,
     "metadata": {},
     "output_type": "execute_result"
    }
   ],
   "source": [
    "filtered_df[col].describe()"
   ]
  },
  {
   "cell_type": "code",
   "execution_count": 75,
   "metadata": {
    "colab": {},
    "colab_type": "code",
    "id": "NecANAK7xjoO"
   },
   "outputs": [
    {
     "data": {
      "text/plain": [
       "0"
      ]
     },
     "execution_count": 75,
     "metadata": {},
     "output_type": "execute_result"
    }
   ],
   "source": [
    "filtered_df[col].isna().sum()"
   ]
  },
  {
   "cell_type": "code",
   "execution_count": 76,
   "metadata": {
    "colab": {},
    "colab_type": "code",
    "id": "Myq3Q9rHxjoP"
   },
   "outputs": [
    {
     "data": {
      "text/plain": [
       "0.000000e+00    15009\n",
       "1.000000e+00     3561\n",
       "1.000000e+01     1116\n",
       "2.500000e+01      972\n",
       "2.000000e+00      917\n",
       "5.000000e+00      797\n",
       "5.000000e+01      790\n",
       "1.000000e+02      719\n",
       "2.000000e+01      655\n",
       "3.000000e+01      478\n",
       "1.100000e+01      462\n",
       "1.500000e+01      408\n",
       "6.000000e+00      363\n",
       "2.600000e+01      353\n",
       "4.000000e+01      319\n",
       "6.000000e+01      318\n",
       "5.100000e+01      314\n",
       "3.500000e+01      310\n",
       "3.000000e+00      302\n",
       "5.000000e+02      294\n",
       "1.000000e+03      293\n",
       "2.100000e+01      286\n",
       "2.000000e+02      259\n",
       "1.010000e+02      249\n",
       "1.500000e+02      246\n",
       "7.500000e+01      245\n",
       "5.500000e+01      217\n",
       "3.000000e+02      212\n",
       "1.250000e+02      205\n",
       "7.000000e+01      200\n",
       "                ...  \n",
       "4.639332e+05        1\n",
       "7.390990e+03        1\n",
       "2.536778e+04        1\n",
       "5.060865e+03        1\n",
       "1.566900e+04        1\n",
       "1.213481e+03        1\n",
       "3.256543e+04        1\n",
       "5.429192e+04        1\n",
       "1.229205e+04        1\n",
       "2.352124e+04        1\n",
       "3.349738e+04        1\n",
       "2.534012e+01        1\n",
       "4.488010e+03        1\n",
       "8.835529e+03        1\n",
       "1.086235e+02        1\n",
       "4.059300e+04        1\n",
       "9.609978e+02        1\n",
       "4.083757e+04        1\n",
       "4.283140e+03        1\n",
       "7.760511e+01        1\n",
       "2.147407e+03        1\n",
       "3.550784e+02        1\n",
       "1.823228e+06        1\n",
       "5.311360e+04        1\n",
       "4.235101e+03        1\n",
       "2.075929e+02        1\n",
       "1.101160e+03        1\n",
       "9.529073e+02        1\n",
       "2.389871e+00        1\n",
       "3.134565e+02        1\n",
       "Name: usd_pledged, Length: 75218, dtype: int64"
      ]
     },
     "execution_count": 76,
     "metadata": {},
     "output_type": "execute_result"
    }
   ],
   "source": [
    "filtered_df[col].value_counts()"
   ]
  },
  {
   "cell_type": "code",
   "execution_count": 77,
   "metadata": {
    "colab": {},
    "colab_type": "code",
    "id": "MwR_SIHv2M1Z"
   },
   "outputs": [
    {
     "data": {
      "text/plain": [
       "failed    15009\n",
       "Name: state, dtype: int64"
      ]
     },
     "execution_count": 77,
     "metadata": {},
     "output_type": "execute_result"
    }
   ],
   "source": [
    "filtered_df[filtered_df[col] == np.float(0)]['state'].value_counts()"
   ]
  },
  {
   "cell_type": "markdown",
   "metadata": {
    "colab_type": "text",
    "id": "Mq-FbpSmxjoQ"
   },
   "source": [
    "### The 'usd_type' column\n",
    "usd_type - domestic or international"
   ]
  },
  {
   "cell_type": "code",
   "execution_count": null,
   "metadata": {
    "colab": {},
    "colab_type": "code",
    "id": "ZkxGwpzp2Ly0"
   },
   "outputs": [],
   "source": []
  },
  {
   "cell_type": "code",
   "execution_count": 78,
   "metadata": {
    "colab": {},
    "colab_type": "code",
    "id": "u452tztXxjoQ"
   },
   "outputs": [
    {
     "data": {
      "text/plain": [
       "0    international\n",
       "1    international\n",
       "2    international\n",
       "3    international\n",
       "4         domestic\n",
       "Name: usd_type, dtype: object"
      ]
     },
     "execution_count": 78,
     "metadata": {},
     "output_type": "execute_result"
    }
   ],
   "source": [
    "col = 'usd_type'\n",
    "\n",
    "filtered_df[col].head()"
   ]
  },
  {
   "cell_type": "code",
   "execution_count": 79,
   "metadata": {
    "colab": {},
    "colab_type": "code",
    "id": "Tx7MZcmlxjoR"
   },
   "outputs": [
    {
     "data": {
      "text/plain": [
       "array(['international', 'domestic', nan], dtype=object)"
      ]
     },
     "execution_count": 79,
     "metadata": {},
     "output_type": "execute_result"
    }
   ],
   "source": [
    "filtered_df[col].unique()"
   ]
  },
  {
   "cell_type": "code",
   "execution_count": 80,
   "metadata": {
    "colab": {},
    "colab_type": "code",
    "id": "UOXYvsBQxjoS"
   },
   "outputs": [
    {
     "data": {
      "text/plain": [
       "38"
      ]
     },
     "execution_count": 80,
     "metadata": {},
     "output_type": "execute_result"
    }
   ],
   "source": [
    "filtered_df[col].isna().sum()"
   ]
  },
  {
   "cell_type": "markdown",
   "metadata": {
    "colab_type": "text",
    "id": "GPBAe9WdxjoT"
   },
   "source": [
    "38 missing values, but can be ignored as columns will be dropped anyways."
   ]
  },
  {
   "cell_type": "code",
   "execution_count": 81,
   "metadata": {
    "colab": {},
    "colab_type": "code",
    "id": "Psg-WnG5xjoV"
   },
   "outputs": [],
   "source": [
    "droplist.append(col)"
   ]
  },
  {
   "cell_type": "code",
   "execution_count": 82,
   "metadata": {
    "colab": {},
    "colab_type": "code",
    "id": "TfL_OoDzxjoV"
   },
   "outputs": [
    {
     "data": {
      "text/plain": [
       "['friends',\n",
       " 'is_backing',\n",
       " 'is_starred',\n",
       " 'permissions',\n",
       " 'launched_at',\n",
       " 'profile',\n",
       " 'source_url',\n",
       " 'static_usd_rate',\n",
       " 'urls',\n",
       " 'usd_type']"
      ]
     },
     "execution_count": 82,
     "metadata": {},
     "output_type": "execute_result"
    }
   ],
   "source": [
    "droplist"
   ]
  },
  {
   "cell_type": "code",
   "execution_count": 83,
   "metadata": {
    "colab": {},
    "colab_type": "code",
    "id": "z16LvNpjxjoW"
   },
   "outputs": [
    {
     "data": {
      "text/plain": [
       "(192664, 43)"
      ]
     },
     "execution_count": 83,
     "metadata": {},
     "output_type": "execute_result"
    }
   ],
   "source": [
    "filtered_df.shape"
   ]
  },
  {
   "cell_type": "code",
   "execution_count": 84,
   "metadata": {
    "colab": {},
    "colab_type": "code",
    "id": "plKZsLdAxjoX"
   },
   "outputs": [],
   "source": [
    "filtered_df.drop(droplist, axis=1, inplace=True)"
   ]
  },
  {
   "cell_type": "code",
   "execution_count": 85,
   "metadata": {
    "colab": {},
    "colab_type": "code",
    "id": "sLB80oQVxjoZ"
   },
   "outputs": [
    {
     "data": {
      "text/plain": [
       "(192664, 33)"
      ]
     },
     "execution_count": 85,
     "metadata": {},
     "output_type": "execute_result"
    }
   ],
   "source": [
    "filtered_df.shape"
   ]
  },
  {
   "cell_type": "code",
   "execution_count": 86,
   "metadata": {
    "colab": {},
    "colab_type": "code",
    "id": "e_OMoRi7xjoa"
   },
   "outputs": [
    {
     "data": {
      "text/plain": [
       "Index(['index', 'backers_count', 'blurb', 'category',\n",
       "       'converted_pledged_amount', 'country', 'created_at', 'creator',\n",
       "       'currency', 'currency_symbol', 'currency_trailing_code',\n",
       "       'current_currency', 'deadline', 'disable_communication', 'fx_rate',\n",
       "       'goal', 'id', 'is_starrable', 'location', 'name', 'photo', 'pledged',\n",
       "       'slug', 'spotlight', 'staff_pick', 'state', 'state_changed_at',\n",
       "       'usd_pledged', 'launch_weekday', 'launch_year', 'launch_month',\n",
       "       'launch_day', 'launch_hour'],\n",
       "      dtype='object')"
      ]
     },
     "execution_count": 86,
     "metadata": {},
     "output_type": "execute_result"
    }
   ],
   "source": [
    "filtered_df.columns"
   ]
  },
  {
   "cell_type": "code",
   "execution_count": null,
   "metadata": {
    "colab": {},
    "colab_type": "code",
    "id": "hdcOKRm-xjob"
   },
   "outputs": [],
   "source": []
  },
  {
   "cell_type": "markdown",
   "metadata": {
    "colab_type": "text",
    "id": "JSgEO_jhHz72"
   },
   "source": [
    "###The rest of the columns"
   ]
  },
  {
   "cell_type": "code",
   "execution_count": 89,
   "metadata": {
    "colab": {},
    "colab_type": "code",
    "id": "YOckxeuhH3Kv"
   },
   "outputs": [
    {
     "name": "stdout",
     "output_type": "stream",
     "text": [
      "16 65 67\n",
      "16 32 50\n",
      "16 65 67\n",
      "17 33 36\n",
      "17 43 57\n",
      "5\n",
      "<class 'pandas.core.frame.DataFrame'>\n",
      "RangeIndex: 192659 entries, 0 to 192658\n",
      "Data columns (total 7 columns):\n",
      "crea_avatar             192659 non-null object\n",
      "crea_chosen_currency    0 non-null object\n",
      "crea_id                 192659 non-null int64\n",
      "crea_is_registered      0 non-null object\n",
      "crea_name               192659 non-null object\n",
      "crea_slug               57324 non-null object\n",
      "crea_urls               192659 non-null object\n",
      "dtypes: int64(1), object(6)\n",
      "memory usage: 10.3+ MB\n"
     ]
    }
   ],
   "source": [
    "# split creator column entry in sub_columns\n",
    "df_tot = filtered_df\n",
    "import json \n",
    "#df_creator = pd.DataFrame(json.loads(df_tot.creator.values))\n",
    "creator_dlist = list()\n",
    "idx_drop = list()\n",
    "backup = None\n",
    "#print(json.loads(df_tot.creator.values[0]))\n",
    "count = 0\n",
    "for idx, x in enumerate(df_tot.creator.values):\n",
    "  try:\n",
    "    creator_dlist.append(json.loads(x))\n",
    "    #df_tot.creator.values[idx] = json.loads(x)\n",
    "  except:\n",
    "    # catches the other cases with the exception of 7 cases\n",
    "    a = x.index(\"\\\"name\\\":\")\n",
    "    b = x.index(\"\\\"\", a + 8)\n",
    "    x = x[:b] + \"'\" + x[b + 1:]\n",
    "    c = x.index(\"\\\"\", b)\n",
    "    x = x[:c] + \"'\" + x[c + 1:]\n",
    "    try:\n",
    "      creator_dlist.append(json.loads(x))\n",
    "    except:\n",
    "      print(a,b,c)\n",
    "      count += 1\n",
    "      idx_drop.append(idx)\n",
    "print(count)\n",
    "df_creator = pd.DataFrame(creator_dlist)\n",
    "df_creator.columns = ['crea_' + x for x in df_creator.columns]\n",
    "df_creator.info()\n",
    "df_tot2 = df_tot.drop(idx_drop, axis = 0).reset_index()\n"
   ]
  },
  {
   "cell_type": "code",
   "execution_count": 90,
   "metadata": {
    "colab": {},
    "colab_type": "code",
    "id": "H4Foam01Jwn1"
   },
   "outputs": [
    {
     "data": {
      "text/html": [
       "<div>\n",
       "<style scoped>\n",
       "    .dataframe tbody tr th:only-of-type {\n",
       "        vertical-align: middle;\n",
       "    }\n",
       "\n",
       "    .dataframe tbody tr th {\n",
       "        vertical-align: top;\n",
       "    }\n",
       "\n",
       "    .dataframe thead th {\n",
       "        text-align: right;\n",
       "    }\n",
       "</style>\n",
       "<table border=\"1\" class=\"dataframe\">\n",
       "  <thead>\n",
       "    <tr style=\"text-align: right;\">\n",
       "      <th></th>\n",
       "      <th>crea_avatar</th>\n",
       "      <th>crea_id</th>\n",
       "      <th>crea_name</th>\n",
       "      <th>crea_slug</th>\n",
       "      <th>crea_urls</th>\n",
       "    </tr>\n",
       "  </thead>\n",
       "  <tbody>\n",
       "    <tr>\n",
       "      <th>0</th>\n",
       "      <td>{'thumb': 'https://ksr-ugc.imgix.net/assets/00...</td>\n",
       "      <td>1495925645</td>\n",
       "      <td>Daniel</td>\n",
       "      <td>NaN</td>\n",
       "      <td>{'web': {'user': 'https://www.kickstarter.com/...</td>\n",
       "    </tr>\n",
       "    <tr>\n",
       "      <th>1</th>\n",
       "      <td>{'thumb': 'https://ksr-ugc.imgix.net/assets/02...</td>\n",
       "      <td>1175589980</td>\n",
       "      <td>Katherine</td>\n",
       "      <td>freckleddisney</td>\n",
       "      <td>{'web': {'user': 'https://www.kickstarter.com/...</td>\n",
       "    </tr>\n",
       "    <tr>\n",
       "      <th>2</th>\n",
       "      <td>{'thumb': 'https://ksr-ugc.imgix.net/assets/01...</td>\n",
       "      <td>1196856269</td>\n",
       "      <td>MelissaThomas</td>\n",
       "      <td>NaN</td>\n",
       "      <td>{'web': {'user': 'https://www.kickstarter.com/...</td>\n",
       "    </tr>\n",
       "    <tr>\n",
       "      <th>3</th>\n",
       "      <td>{'thumb': 'https://ksr-ugc.imgix.net/assets/02...</td>\n",
       "      <td>1569700626</td>\n",
       "      <td>WAO</td>\n",
       "      <td>wearewao</td>\n",
       "      <td>{'web': {'user': 'https://www.kickstarter.com/...</td>\n",
       "    </tr>\n",
       "    <tr>\n",
       "      <th>4</th>\n",
       "      <td>{'thumb': 'https://ksr-ugc.imgix.net/assets/00...</td>\n",
       "      <td>1870845385</td>\n",
       "      <td>Kalpit Jain</td>\n",
       "      <td>NaN</td>\n",
       "      <td>{'web': {'user': 'https://www.kickstarter.com/...</td>\n",
       "    </tr>\n",
       "  </tbody>\n",
       "</table>\n",
       "</div>"
      ],
      "text/plain": [
       "                                         crea_avatar     crea_id  \\\n",
       "0  {'thumb': 'https://ksr-ugc.imgix.net/assets/00...  1495925645   \n",
       "1  {'thumb': 'https://ksr-ugc.imgix.net/assets/02...  1175589980   \n",
       "2  {'thumb': 'https://ksr-ugc.imgix.net/assets/01...  1196856269   \n",
       "3  {'thumb': 'https://ksr-ugc.imgix.net/assets/02...  1569700626   \n",
       "4  {'thumb': 'https://ksr-ugc.imgix.net/assets/00...  1870845385   \n",
       "\n",
       "       crea_name       crea_slug  \\\n",
       "0         Daniel             NaN   \n",
       "1      Katherine  freckleddisney   \n",
       "2  MelissaThomas             NaN   \n",
       "3            WAO        wearewao   \n",
       "4    Kalpit Jain             NaN   \n",
       "\n",
       "                                           crea_urls  \n",
       "0  {'web': {'user': 'https://www.kickstarter.com/...  \n",
       "1  {'web': {'user': 'https://www.kickstarter.com/...  \n",
       "2  {'web': {'user': 'https://www.kickstarter.com/...  \n",
       "3  {'web': {'user': 'https://www.kickstarter.com/...  \n",
       "4  {'web': {'user': 'https://www.kickstarter.com/...  "
      ]
     },
     "execution_count": 90,
     "metadata": {},
     "output_type": "execute_result"
    }
   ],
   "source": [
    "# drop two columns with only null entry\n",
    "df_creator.drop(['crea_is_registered', 'crea_chosen_currency'], axis = 1, inplace = True)\n",
    "df_creator.head()"
   ]
  },
  {
   "cell_type": "code",
   "execution_count": 91,
   "metadata": {
    "colab": {},
    "colab_type": "code",
    "id": "ox5gJyC7KUnz"
   },
   "outputs": [
    {
     "name": "stdout",
     "output_type": "stream",
     "text": [
      "0\n",
      "<class 'pandas.core.frame.DataFrame'>\n",
      "RangeIndex: 192659 entries, 0 to 192658\n",
      "Data columns (total 7 columns):\n",
      "cat_color        192659 non-null int64\n",
      "cat_id           192659 non-null int64\n",
      "cat_name         192659 non-null object\n",
      "cat_parent_id    184383 non-null float64\n",
      "cat_position     192659 non-null int64\n",
      "cat_slug         192659 non-null object\n",
      "cat_urls         192659 non-null object\n",
      "dtypes: float64(1), int64(3), object(3)\n",
      "memory usage: 10.3+ MB\n"
     ]
    }
   ],
   "source": [
    "category_dlist = list()\n",
    "count = 0\n",
    "for idx, x in enumerate(df_tot2.category.values):\n",
    "  try:\n",
    "    category_dlist.append(json.loads(x))\n",
    "  except:\n",
    "    count += 1\n",
    "\n",
    "print(count)\n",
    "\n",
    "df_category = pd.DataFrame(category_dlist)\n",
    "df_category.columns = ['cat_' + x for x in df_category.columns]\n",
    "df_category.info()"
   ]
  },
  {
   "cell_type": "code",
   "execution_count": 92,
   "metadata": {
    "colab": {},
    "colab_type": "code",
    "id": "U9iPJqVqKm9E"
   },
   "outputs": [
    {
     "data": {
      "text/html": [
       "<div>\n",
       "<style scoped>\n",
       "    .dataframe tbody tr th:only-of-type {\n",
       "        vertical-align: middle;\n",
       "    }\n",
       "\n",
       "    .dataframe tbody tr th {\n",
       "        vertical-align: top;\n",
       "    }\n",
       "\n",
       "    .dataframe thead th {\n",
       "        text-align: right;\n",
       "    }\n",
       "</style>\n",
       "<table border=\"1\" class=\"dataframe\">\n",
       "  <thead>\n",
       "    <tr style=\"text-align: right;\">\n",
       "      <th></th>\n",
       "      <th>cat_color</th>\n",
       "      <th>cat_id</th>\n",
       "      <th>cat_name</th>\n",
       "      <th>cat_parent_id</th>\n",
       "      <th>cat_position</th>\n",
       "      <th>cat_super</th>\n",
       "      <th>cat_urls</th>\n",
       "    </tr>\n",
       "  </thead>\n",
       "  <tbody>\n",
       "    <tr>\n",
       "      <th>192654</th>\n",
       "      <td>16725570</td>\n",
       "      <td>307</td>\n",
       "      <td>drinks</td>\n",
       "      <td>10.0</td>\n",
       "      <td>4</td>\n",
       "      <td>food</td>\n",
       "      <td>{'web': {'discover': 'http://www.kickstarter.c...</td>\n",
       "    </tr>\n",
       "    <tr>\n",
       "      <th>192655</th>\n",
       "      <td>16725570</td>\n",
       "      <td>306</td>\n",
       "      <td>cookbooks</td>\n",
       "      <td>10.0</td>\n",
       "      <td>3</td>\n",
       "      <td>food</td>\n",
       "      <td>{'web': {'discover': 'http://www.kickstarter.c...</td>\n",
       "    </tr>\n",
       "    <tr>\n",
       "      <th>192656</th>\n",
       "      <td>16752598</td>\n",
       "      <td>264</td>\n",
       "      <td>childrenswear</td>\n",
       "      <td>9.0</td>\n",
       "      <td>3</td>\n",
       "      <td>fashion</td>\n",
       "      <td>{'web': {'discover': 'http://www.kickstarter.c...</td>\n",
       "    </tr>\n",
       "    <tr>\n",
       "      <th>192657</th>\n",
       "      <td>14867664</td>\n",
       "      <td>46</td>\n",
       "      <td>children's_books</td>\n",
       "      <td>18.0</td>\n",
       "      <td>5</td>\n",
       "      <td>publishing</td>\n",
       "      <td>{'web': {'discover': 'http://www.kickstarter.c...</td>\n",
       "    </tr>\n",
       "    <tr>\n",
       "      <th>192658</th>\n",
       "      <td>16760235</td>\n",
       "      <td>23</td>\n",
       "      <td>painting</td>\n",
       "      <td>1.0</td>\n",
       "      <td>7</td>\n",
       "      <td>art</td>\n",
       "      <td>{'web': {'discover': 'http://www.kickstarter.c...</td>\n",
       "    </tr>\n",
       "  </tbody>\n",
       "</table>\n",
       "</div>"
      ],
      "text/plain": [
       "        cat_color  cat_id          cat_name  cat_parent_id  cat_position  \\\n",
       "192654   16725570     307            drinks           10.0             4   \n",
       "192655   16725570     306         cookbooks           10.0             3   \n",
       "192656   16752598     264     childrenswear            9.0             3   \n",
       "192657   14867664      46  children's_books           18.0             5   \n",
       "192658   16760235      23          painting            1.0             7   \n",
       "\n",
       "         cat_super                                           cat_urls  \n",
       "192654        food  {'web': {'discover': 'http://www.kickstarter.c...  \n",
       "192655        food  {'web': {'discover': 'http://www.kickstarter.c...  \n",
       "192656     fashion  {'web': {'discover': 'http://www.kickstarter.c...  \n",
       "192657  publishing  {'web': {'discover': 'http://www.kickstarter.c...  \n",
       "192658         art  {'web': {'discover': 'http://www.kickstarter.c...  "
      ]
     },
     "execution_count": 92,
     "metadata": {},
     "output_type": "execute_result"
    }
   ],
   "source": [
    "df_category.cat_name = df_category.cat_name.str.lower()\n",
    "df_category.cat_name = df_category.cat_name.str.replace(\" \", \"_\")\n",
    "df_category.columns = ['cat_super' if x=='cat_slug' else x for x in df_category.columns]\n",
    "df_category.cat_super = [str(x).split(sep = '/')[0] for x in df_category.cat_super.values]\n",
    "df_category.cat_super = df_category.cat_super.replace(\" \", \"_\")\n",
    "df_category.tail()"
   ]
  },
  {
   "cell_type": "code",
   "execution_count": 93,
   "metadata": {
    "colab": {},
    "colab_type": "code",
    "id": "jCxMR4uPKqew"
   },
   "outputs": [
    {
     "name": "stdout",
     "output_type": "stream",
     "text": [
      "<class 'pandas.core.frame.DataFrame'>\n",
      "RangeIndex: 192659 entries, 0 to 192658\n",
      "Data columns (total 44 columns):\n",
      "level_0                     192659 non-null int64\n",
      "index                       192659 non-null int64\n",
      "backers_count               192659 non-null int64\n",
      "blurb                       192657 non-null object\n",
      "converted_pledged_amount    192659 non-null int64\n",
      "country                     192659 non-null object\n",
      "created_at                  192659 non-null int64\n",
      "currency                    192659 non-null object\n",
      "currency_symbol             192659 non-null object\n",
      "currency_trailing_code      192659 non-null bool\n",
      "current_currency            192659 non-null object\n",
      "deadline                    192659 non-null int64\n",
      "disable_communication       192659 non-null bool\n",
      "fx_rate                     192659 non-null float64\n",
      "goal                        192659 non-null float64\n",
      "id                          192659 non-null int64\n",
      "is_starrable                192659 non-null bool\n",
      "location                    192444 non-null object\n",
      "name                        192659 non-null object\n",
      "photo                       192659 non-null object\n",
      "pledged                     192659 non-null float64\n",
      "slug                        192659 non-null object\n",
      "spotlight                   192659 non-null bool\n",
      "staff_pick                  192659 non-null bool\n",
      "state                       192659 non-null object\n",
      "state_changed_at            192659 non-null datetime64[ns]\n",
      "usd_pledged                 192659 non-null float64\n",
      "launch_weekday              192659 non-null object\n",
      "launch_year                 192659 non-null int64\n",
      "launch_month                192659 non-null int64\n",
      "launch_day                  192659 non-null int64\n",
      "launch_hour                 192659 non-null int64\n",
      "crea_avatar                 192659 non-null object\n",
      "crea_id                     192659 non-null int64\n",
      "crea_name                   192659 non-null object\n",
      "crea_slug                   57324 non-null object\n",
      "crea_urls                   192659 non-null object\n",
      "cat_color                   192659 non-null int64\n",
      "cat_id                      192659 non-null int64\n",
      "cat_name                    192659 non-null object\n",
      "cat_parent_id               184383 non-null float64\n",
      "cat_position                192659 non-null int64\n",
      "cat_super                   192659 non-null object\n",
      "cat_urls                    192659 non-null object\n",
      "dtypes: bool(5), datetime64[ns](1), float64(5), int64(15), object(18)\n",
      "memory usage: 58.2+ MB\n"
     ]
    }
   ],
   "source": [
    "df_tot3 = pd.concat([df_tot2, df_creator, df_category],axis = 1)\n",
    "df_tot3.drop(['creator', 'category'], inplace = True, axis = 1)\n",
    "df_tot3.info()"
   ]
  },
  {
   "cell_type": "code",
   "execution_count": 94,
   "metadata": {
    "colab": {},
    "colab_type": "code",
    "id": "3rLFZ-5UKuQG"
   },
   "outputs": [],
   "source": [
    "df_tot3.created_at = pd.to_datetime(df_tot3.created_at, unit='s')\n",
    "df_tot3.deadline = pd.to_datetime(df_tot3.deadline, unit='s')"
   ]
  },
  {
   "cell_type": "code",
   "execution_count": 95,
   "metadata": {
    "colab": {},
    "colab_type": "code",
    "id": "VmTRyBgcKxOv"
   },
   "outputs": [],
   "source": [
    "df_tot3.id = df_tot3.id.astype('category')"
   ]
  },
  {
   "cell_type": "code",
   "execution_count": 96,
   "metadata": {
    "colab": {},
    "colab_type": "code",
    "id": "1ryEzWUGK2qy"
   },
   "outputs": [
    {
     "name": "stdout",
     "output_type": "stream",
     "text": [
      "211926\n",
      "{0, 1, 2, 3, 4, 5, 6, 7, 8, 9, 10, 11, 12, 13, 14, 15, 16, 17, 18, 19, 20, 21, 22, 23, 24, 25, 26, 27, 28, 29, 30, 31, 32, 33, 34, 35}\n"
     ]
    }
   ],
   "source": [
    "df_tot3.blurb = df_tot3.blurb.fillna('')\n",
    "df_tot3.blurb = df_tot3.blurb.astype(str)\n",
    "blurb_wc = [len(str(x).lower().split()) for x in df_tot3.blurb]\n",
    "blurb_un_words = [set(str(x).lower().split()) for x in df_tot3.blurb]\n",
    "blurb_un_words = set.union(*blurb_un_words)\n",
    "print(len(blurb_un_words))\n",
    "print(set(blurb_wc))\n",
    "df_tot3['blurb_wordcount'] = blurb_wc\n",
    "#df_tot3[df_tot3.blurb.isna()]\n",
    "# keyword analysis in blurb as bonus"
   ]
  },
  {
   "cell_type": "code",
   "execution_count": 97,
   "metadata": {
    "colab": {},
    "colab_type": "code",
    "id": "bX0FkV7QK-LS"
   },
   "outputs": [],
   "source": [
    "df_tot3.country = df_tot3.country.astype('category')\n",
    "df_tot3.currency = df_tot3.currency.astype('category')\n",
    "df_tot3.currency_symbol = df_tot3.currency_symbol.astype('category')\n",
    "df_tot3.current_currency = df_tot3.current_currency.astype('category')"
   ]
  },
  {
   "cell_type": "code",
   "execution_count": 98,
   "metadata": {
    "colab": {},
    "colab_type": "code",
    "id": "54E72TyZLAT9"
   },
   "outputs": [],
   "source": [
    "# deletes columns that contain only little information\n",
    "#df_tot4 = df_tot3.drop(['friends', 'is_backing', 'is_starred', 'permissions'], axis = 1)\n",
    "df_tot4 = df_tot3"
   ]
  },
  {
   "cell_type": "code",
   "execution_count": 99,
   "metadata": {
    "colab": {},
    "colab_type": "code",
    "id": "Rt0wIWUYLf1y"
   },
   "outputs": [],
   "source": [
    "df_tot4.crea_slug = df_tot4.crea_slug.fillna('')\n",
    "df_tot4.cat_parent_id = df_tot4.cat_parent_id.fillna(0)"
   ]
  },
  {
   "cell_type": "code",
   "execution_count": 100,
   "metadata": {
    "colab": {},
    "colab_type": "code",
    "id": "kDthxSwzL3qF"
   },
   "outputs": [],
   "source": [
    "# list of project list according to unique ids\n",
    "id_groupby = df_tot4.groupby('id')\n",
    "\n",
    "id_groupby2 = id_groupby.size().reset_index(name='counts')\n",
    "indexid = id_groupby2[id_groupby2.counts > 1].index\n",
    "iddouble_list = id_groupby2[id_groupby2.counts > 1].id.unique()\n"
   ]
  },
  {
   "cell_type": "code",
   "execution_count": 101,
   "metadata": {
    "colab": {},
    "colab_type": "code",
    "id": "ekxbaSj-MBPz"
   },
   "outputs": [],
   "source": [
    "double_entries_sublist = [df_tot4[df_tot4.id == x].index[1:] for x in iddouble_list]\n",
    "double_entries_sublist_flat = list()\n",
    "for y in double_entries_sublist:\n",
    "  for x in y:\n",
    "    double_entries_sublist_flat.append(x)\n",
    "#double_entries_sublist_flat"
   ]
  },
  {
   "cell_type": "code",
   "execution_count": 102,
   "metadata": {
    "colab": {},
    "colab_type": "code",
    "id": "mJIf91tMMCDK"
   },
   "outputs": [],
   "source": [
    "df_tot5 = df_tot4.drop(double_entries_sublist_flat, axis = 0)"
   ]
  },
  {
   "cell_type": "code",
   "execution_count": 103,
   "metadata": {
    "colab": {},
    "colab_type": "code",
    "id": "gK_xBThPMLGM"
   },
   "outputs": [],
   "source": [
    "# list of project list of unique creator\n",
    "unique_crea_set = set(df_tot5.crea_id.unique())\n",
    "#crea_id_entry\n",
    "\n",
    "creaid_groupby = df_tot5.groupby('crea_id')\n",
    "\n",
    "\n",
    "creaid_groupby2 = creaid_groupby.size().reset_index(name='counts')\n",
    "indexcreaid = creaid_groupby2[creaid_groupby2.counts > 1].index\n",
    "creaiddouble_list = creaid_groupby2[creaid_groupby2.counts > 1].crea_id.unique()\n",
    "# number of creators with x projects\n",
    "multi_proj = list()\n",
    "x_list = list()\n",
    "for x in range(1,75):\n",
    "  a = len(creaid_groupby2[creaid_groupby2.counts == x].crea_id.unique())\n",
    "  multi_proj.append(a)\n",
    "  x_list.append(x)\n",
    "  #print(x, np.log10(a))"
   ]
  },
  {
   "cell_type": "code",
   "execution_count": 104,
   "metadata": {
    "colab": {},
    "colab_type": "code",
    "id": "a7RpOJZwMY8w"
   },
   "outputs": [
    {
     "data": {
      "text/plain": [
       "<matplotlib.axes._subplots.AxesSubplot at 0x1a7619d5f8>"
      ]
     },
     "execution_count": 104,
     "metadata": {},
     "output_type": "execute_result"
    },
    {
     "data": {
      "image/png": "[encoded data removed]",
      "text/plain": [
       "<Figure size 1224x1224 with 1 Axes>"
      ]
     },
     "metadata": {
      "needs_background": "light"
     },
     "output_type": "display_data"
    }
   ],
   "source": [
    "df_tot5.cat_super.hist(bins = len(df_tot5.cat_super.unique()), figsize = (17,17), grid = False)"
   ]
  },
  {
   "cell_type": "code",
   "execution_count": 105,
   "metadata": {
    "colab": {},
    "colab_type": "code",
    "id": "BmAW-XoxMZZ9"
   },
   "outputs": [
    {
     "data": {
      "text/plain": [
       "<matplotlib.axes._subplots.AxesSubplot at 0x1a760f8cf8>"
      ]
     },
     "execution_count": 105,
     "metadata": {},
     "output_type": "execute_result"
    },
    {
     "data": {
      "image/png": "[encoded data removed]",
      "text/plain": [
       "<Figure size 1224x1224 with 1 Axes>"
      ]
     },
     "metadata": {
      "needs_background": "light"
     },
     "output_type": "display_data"
    }
   ],
   "source": [
    "df_tot5[df_tot5.state == 'successful'].cat_super.hist(bins = len(df_tot5.cat_super.unique()), figsize = (17,17), grid = False)"
   ]
  },
  {
   "cell_type": "code",
   "execution_count": 106,
   "metadata": {
    "colab": {},
    "colab_type": "code",
    "id": "u7JE1_u4Mc0Q"
   },
   "outputs": [
    {
     "data": {
      "text/plain": [
       "<matplotlib.axes._subplots.AxesSubplot at 0x1a75fdbba8>"
      ]
     },
     "execution_count": 106,
     "metadata": {},
     "output_type": "execute_result"
    },
    {
     "data": {
      "image/png": "[encoded data removed]",
      "text/plain": [
       "<Figure size 1224x1224 with 1 Axes>"
      ]
     },
     "metadata": {
      "needs_background": "light"
     },
     "output_type": "display_data"
    }
   ],
   "source": [
    "df_tot5[df_tot5.state == 'failed'].cat_super.hist(bins = len(df_tot5.cat_super.unique()), figsize = (17,17), grid = False)"
   ]
  },
  {
   "cell_type": "code",
   "execution_count": 107,
   "metadata": {
    "colab": {},
    "colab_type": "code",
    "id": "SIFybCfyMsKB"
   },
   "outputs": [
    {
     "name": "stdout",
     "output_type": "stream",
     "text": [
      "2019-02-08T21:02:48.000000000 2\n"
     ]
    },
    {
     "data": {
      "text/plain": [
       "2019"
      ]
     },
     "execution_count": 107,
     "metadata": {},
     "output_type": "execute_result"
    }
   ],
   "source": [
    "init_month = [x.astype('datetime64[M]').astype(int) % 12 + 1 for x in df_tot5.created_at.values]\n",
    "end_month = [x.astype('datetime64[M]').astype(int) % 12 + 1 for x in df_tot5.deadline.values]\n",
    "init_year = [x.astype('datetime64[Y]').astype(int) + 1970 for x in df_tot5.created_at.values]\n",
    "end_year = [x.astype('datetime64[Y]').astype(int) + 1970 for x in df_tot5.deadline.values]\n",
    "init_month_succ = [x.astype('datetime64[M]').astype(int) % 12 + 1 for x in df_tot5[df_tot5.state == 'successful'].created_at.values]\n",
    "end_month_succ = [x.astype('datetime64[M]').astype(int) % 12 + 1 for x in df_tot5[df_tot5.state == 'successful'].deadline.values]\n",
    "init_year_succ = [x.astype('datetime64[Y]').astype(int) + 1970 for x in df_tot5[df_tot5.state == 'successful'].created_at.values]\n",
    "end_year_succ = [x.astype('datetime64[Y]').astype(int) + 1970 for x in df_tot5[df_tot5.state == 'successful'].deadline.values]\n",
    "print(df_tot5.created_at.values[1], df_tot5.created_at.values[1].astype('datetime64[M]').astype(int) % 12 + 1)\n",
    "init_year[1]"
   ]
  },
  {
   "cell_type": "code",
   "execution_count": 108,
   "metadata": {
    "colab": {},
    "colab_type": "code",
    "id": "5ZSK6nfRNM4X"
   },
   "outputs": [
    {
     "data": {
      "text/plain": [
       "(array([28707., 14956., 14210., 14729., 13663., 16350., 14547., 13921.,\n",
       "        14453., 23439.]),\n",
       " array([ 1. ,  2.1,  3.2,  4.3,  5.4,  6.5,  7.6,  8.7,  9.8, 10.9, 12. ]),\n",
       " <a list of 10 Patch objects>)"
      ]
     },
     "execution_count": 108,
     "metadata": {},
     "output_type": "execute_result"
    },
    {
     "data": {
      "image/png": "[encoded data removed]",
      "text/plain": [
       "<Figure size 432x288 with 1 Axes>"
      ]
     },
     "metadata": {
      "needs_background": "light"
     },
     "output_type": "display_data"
    }
   ],
   "source": [
    "plt.hist(init_month)"
   ]
  },
  {
   "cell_type": "code",
   "execution_count": 109,
   "metadata": {
    "colab": {},
    "colab_type": "code",
    "id": "lFTNqSVdNaFV"
   },
   "outputs": [
    {
     "data": {
      "text/plain": [
       "(array([16505.,  8819.,  8133.,  8464.,  7521.,  8224.,  8039.,  7933.,\n",
       "         8240., 12898.]),\n",
       " array([ 1. ,  2.1,  3.2,  4.3,  5.4,  6.5,  7.6,  8.7,  9.8, 10.9, 12. ]),\n",
       " <a list of 10 Patch objects>)"
      ]
     },
     "execution_count": 109,
     "metadata": {},
     "output_type": "execute_result"
    },
    {
     "data": {
      "image/png": "[encoded data removed]",
      "text/plain": [
       "<Figure size 432x288 with 1 Axes>"
      ]
     },
     "metadata": {
      "needs_background": "light"
     },
     "output_type": "display_data"
    }
   ],
   "source": [
    "plt.hist(init_month_succ)"
   ]
  },
  {
   "cell_type": "code",
   "execution_count": 110,
   "metadata": {
    "colab": {},
    "colab_type": "code",
    "id": "9slcSuDONcqQ"
   },
   "outputs": [
    {
     "data": {
      "text/plain": [
       "(array([22530., 15135., 13815., 14510., 14327., 14976., 15677., 13916.,\n",
       "        14543., 29546.]),\n",
       " array([ 1. ,  2.1,  3.2,  4.3,  5.4,  6.5,  7.6,  8.7,  9.8, 10.9, 12. ]),\n",
       " <a list of 10 Patch objects>)"
      ]
     },
     "execution_count": 110,
     "metadata": {},
     "output_type": "execute_result"
    },
    {
     "data": {
      "image/png": "[encoded data removed]",
      "text/plain": [
       "<Figure size 432x288 with 1 Axes>"
      ]
     },
     "metadata": {
      "needs_background": "light"
     },
     "output_type": "display_data"
    }
   ],
   "source": [
    "plt.hist(end_month)"
   ]
  },
  {
   "cell_type": "code",
   "execution_count": 111,
   "metadata": {
    "colab": {},
    "colab_type": "code",
    "id": "qb5u1t1iNfh7"
   },
   "outputs": [
    {
     "data": {
      "text/plain": [
       "(array([12250.,  8680.,  8070.,  8404.,  8152.,  8402.,  8240.,  7386.,\n",
       "         8314., 16878.]),\n",
       " array([ 1. ,  2.1,  3.2,  4.3,  5.4,  6.5,  7.6,  8.7,  9.8, 10.9, 12. ]),\n",
       " <a list of 10 Patch objects>)"
      ]
     },
     "execution_count": 111,
     "metadata": {},
     "output_type": "execute_result"
    },
    {
     "data": {
      "image/png": "[encoded data removed]",
      "text/plain": [
       "<Figure size 432x288 with 1 Axes>"
      ]
     },
     "metadata": {
      "needs_background": "light"
     },
     "output_type": "display_data"
    }
   ],
   "source": [
    "plt.hist(end_month_succ)"
   ]
  },
  {
   "cell_type": "code",
   "execution_count": 112,
   "metadata": {
    "colab": {},
    "colab_type": "code",
    "id": "9gQRR9D_Nlqy"
   },
   "outputs": [
    {
     "data": {
      "text/plain": [
       "(array([  249.,  1467.,  4424.,  9684., 12025., 27361., 34191., 25992.,\n",
       "        25767., 27815.]),\n",
       " array([2009., 2010., 2011., 2012., 2013., 2014., 2015., 2016., 2017.,\n",
       "        2018., 2019.]),\n",
       " <a list of 10 Patch objects>)"
      ]
     },
     "execution_count": 112,
     "metadata": {},
     "output_type": "execute_result"
    },
    {
     "data": {
      "image/png": "[encoded data removed]",
      "text/plain": [
       "<Figure size 432x288 with 1 Axes>"
      ]
     },
     "metadata": {
      "needs_background": "light"
     },
     "output_type": "display_data"
    }
   ],
   "source": [
    "plt.hist(init_year)"
   ]
  },
  {
   "cell_type": "code",
   "execution_count": 113,
   "metadata": {
    "colab": {},
    "colab_type": "code",
    "id": "VmNs-ndLNoEs"
   },
   "outputs": [
    {
     "data": {
      "text/plain": [
       "(array([  202.,  1145.,  3482.,  7492.,  9322., 14080., 14893., 12647.,\n",
       "        13288., 18225.]),\n",
       " array([2009., 2010., 2011., 2012., 2013., 2014., 2015., 2016., 2017.,\n",
       "        2018., 2019.]),\n",
       " <a list of 10 Patch objects>)"
      ]
     },
     "execution_count": 113,
     "metadata": {},
     "output_type": "execute_result"
    },
    {
     "data": {
      "image/png": "[encoded data removed]",
      "text/plain": [
       "<Figure size 432x288 with 1 Axes>"
      ]
     },
     "metadata": {
      "needs_background": "light"
     },
     "output_type": "display_data"
    }
   ],
   "source": [
    "plt.hist(init_year_succ)"
   ]
  },
  {
   "cell_type": "code",
   "execution_count": 114,
   "metadata": {
    "colab": {},
    "colab_type": "code",
    "id": "VJaFheKwNq1a"
   },
   "outputs": [
    {
     "data": {
      "text/plain": [
       "(array([  142.,  1226.,  3816.,  8352., 10875., 24369., 35100., 26795.,\n",
       "        25872., 32428.]),\n",
       " array([2009., 2010., 2011., 2012., 2013., 2014., 2015., 2016., 2017.,\n",
       "        2018., 2019.]),\n",
       " <a list of 10 Patch objects>)"
      ]
     },
     "execution_count": 114,
     "metadata": {},
     "output_type": "execute_result"
    },
    {
     "data": {
      "image/png": "[encoded data removed]",
      "text/plain": [
       "<Figure size 432x288 with 1 Axes>"
      ]
     },
     "metadata": {
      "needs_background": "light"
     },
     "output_type": "display_data"
    }
   ],
   "source": [
    "plt.hist(end_year)"
   ]
  },
  {
   "cell_type": "code",
   "execution_count": 115,
   "metadata": {
    "colab": {},
    "colab_type": "code",
    "id": "Qum6_TA5NtQm"
   },
   "outputs": [
    {
     "data": {
      "text/plain": [
       "(array([  118.,   950.,  3042.,  6511.,  8717., 13273., 15469., 12839.,\n",
       "        12959., 20898.]),\n",
       " array([2009., 2010., 2011., 2012., 2013., 2014., 2015., 2016., 2017.,\n",
       "        2018., 2019.]),\n",
       " <a list of 10 Patch objects>)"
      ]
     },
     "execution_count": 115,
     "metadata": {},
     "output_type": "execute_result"
    },
    {
     "data": {
      "image/png": "[encoded data removed]",
      "text/plain": [
       "<Figure size 432x288 with 1 Axes>"
      ]
     },
     "metadata": {
      "needs_background": "light"
     },
     "output_type": "display_data"
    }
   ],
   "source": [
    "plt.hist(end_year_succ)"
   ]
  },
  {
   "cell_type": "code",
   "execution_count": 116,
   "metadata": {
    "colab": {},
    "colab_type": "code",
    "id": "I7GxH_1MN1YN"
   },
   "outputs": [
    {
     "data": {
      "image/png": "[encoded data removed]",
      "text/plain": [
       "<Figure size 432x288 with 1 Axes>"
      ]
     },
     "metadata": {
      "needs_background": "light"
     },
     "output_type": "display_data"
    }
   ],
   "source": [
    "stategroupby = df_tot5.groupby('state').count().blurb\n",
    "statedict = dict(stategroupby)\n",
    "plt.bar(statedict.keys(), statedict.values());"
   ]
  },
  {
   "cell_type": "code",
   "execution_count": 117,
   "metadata": {
    "colab": {},
    "colab_type": "code",
    "id": "vgeCVZYTN7Q3"
   },
   "outputs": [
    {
     "name": "stdout",
     "output_type": "stream",
     "text": [
      "Requirement already satisfied: gender-guesser in /Users/peterniksa/anaconda3/lib/python3.7/site-packages (0.4.0)\r\n"
     ]
    }
   ],
   "source": [
    "!pip install gender-guesser\n",
    "import gender_guesser.detector as gender"
   ]
  },
  {
   "cell_type": "code",
   "execution_count": 118,
   "metadata": {
    "colab": {},
    "colab_type": "code",
    "id": "H7GsVK5dODnh"
   },
   "outputs": [
    {
     "name": "stdout",
     "output_type": "stream",
     "text": [
      "68970 6643 30247 6488 54938 1689\n"
     ]
    }
   ],
   "source": [
    "d = gender.Detector()\n",
    "gender_list = list()\n",
    "for x in df_tot5.crea_name.values:\n",
    "  gender_list.append(d.get_gender(x.split()[0]))\n",
    "gender_list\n",
    "male_count = 0\n",
    "mmale_count = 0\n",
    "female_count = 0\n",
    "mfemale_count = 0\n",
    "unknown_count = 0\n",
    "unclear_count = 0\n",
    "\n",
    "for x in gender_list:\n",
    "  if x == 'male':\n",
    "    male_count += 1\n",
    "  elif x == 'mostly_male':\n",
    "    mmale_count += 1\n",
    "  elif x == 'female':\n",
    "    female_count += 1\n",
    "  elif x == 'mostly_female':\n",
    "    mfemale_count += 1\n",
    "  elif x == 'unknown':\n",
    "    unknown_count += 1\n",
    "  else:\n",
    "    unclear_count += 1\n",
    "print(male_count, mmale_count, female_count, mfemale_count, unknown_count, unclear_count)\n",
    "for idx, x in enumerate(gender_list):\n",
    "  if x == 'mostly_male':\n",
    "    gender_list[idx] = 'male'\n",
    "  elif x == 'mostly_female':\n",
    "    gender_list[idx] = 'female'\n",
    "  elif x == 'andy':\n",
    "    gender_list[idx] = 'unknown'"
   ]
  },
  {
   "cell_type": "code",
   "execution_count": 827,
   "metadata": {},
   "outputs": [],
   "source": [
    "df_tot5['gender'] = gender_list"
   ]
  },
  {
   "cell_type": "code",
   "execution_count": 120,
   "metadata": {
    "colab": {},
    "colab_type": "code",
    "id": "R93wQCuYOMVJ"
   },
   "outputs": [
    {
     "data": {
      "text/html": [
       "<div>\n",
       "<style scoped>\n",
       "    .dataframe tbody tr th:only-of-type {\n",
       "        vertical-align: middle;\n",
       "    }\n",
       "\n",
       "    .dataframe tbody tr th {\n",
       "        vertical-align: top;\n",
       "    }\n",
       "\n",
       "    .dataframe thead th {\n",
       "        text-align: right;\n",
       "    }\n",
       "</style>\n",
       "<table border=\"1\" class=\"dataframe\">\n",
       "  <thead>\n",
       "    <tr style=\"text-align: right;\">\n",
       "      <th></th>\n",
       "      <th>level_0</th>\n",
       "      <th>index</th>\n",
       "      <th>backers_count</th>\n",
       "      <th>converted_pledged_amount</th>\n",
       "      <th>fx_rate</th>\n",
       "      <th>goal</th>\n",
       "      <th>pledged</th>\n",
       "      <th>usd_pledged</th>\n",
       "      <th>launch_year</th>\n",
       "      <th>launch_month</th>\n",
       "      <th>launch_day</th>\n",
       "      <th>launch_hour</th>\n",
       "      <th>crea_id</th>\n",
       "      <th>cat_color</th>\n",
       "      <th>cat_id</th>\n",
       "      <th>cat_parent_id</th>\n",
       "      <th>cat_position</th>\n",
       "      <th>blurb_wordcount</th>\n",
       "    </tr>\n",
       "  </thead>\n",
       "  <tbody>\n",
       "    <tr>\n",
       "      <th>count</th>\n",
       "      <td>168975.000000</td>\n",
       "      <td>168975.000000</td>\n",
       "      <td>168975.000000</td>\n",
       "      <td>1.689750e+05</td>\n",
       "      <td>168975.000000</td>\n",
       "      <td>1.689750e+05</td>\n",
       "      <td>1.689750e+05</td>\n",
       "      <td>1.689750e+05</td>\n",
       "      <td>168975.000000</td>\n",
       "      <td>168975.000000</td>\n",
       "      <td>168975.000000</td>\n",
       "      <td>168975.000000</td>\n",
       "      <td>1.689750e+05</td>\n",
       "      <td>1.689750e+05</td>\n",
       "      <td>168975.000000</td>\n",
       "      <td>168975.000000</td>\n",
       "      <td>168975.000000</td>\n",
       "      <td>168975.000000</td>\n",
       "    </tr>\n",
       "    <tr>\n",
       "      <th>mean</th>\n",
       "      <td>91813.010978</td>\n",
       "      <td>1885.937511</td>\n",
       "      <td>140.070247</td>\n",
       "      <td>1.210176e+04</td>\n",
       "      <td>0.996635</td>\n",
       "      <td>4.840039e+04</td>\n",
       "      <td>1.656718e+04</td>\n",
       "      <td>1.211115e+04</td>\n",
       "      <td>2015.449481</td>\n",
       "      <td>6.426306</td>\n",
       "      <td>15.232638</td>\n",
       "      <td>13.581589</td>\n",
       "      <td>1.074617e+09</td>\n",
       "      <td>1.206971e+07</td>\n",
       "      <td>171.895381</td>\n",
       "      <td>11.173114</td>\n",
       "      <td>7.125279</td>\n",
       "      <td>19.010729</td>\n",
       "    </tr>\n",
       "    <tr>\n",
       "      <th>std</th>\n",
       "      <td>55447.370870</td>\n",
       "      <td>1095.006645</td>\n",
       "      <td>894.942272</td>\n",
       "      <td>8.368440e+04</td>\n",
       "      <td>0.201111</td>\n",
       "      <td>1.159842e+06</td>\n",
       "      <td>3.027074e+05</td>\n",
       "      <td>8.374030e+04</td>\n",
       "      <td>1.955962</td>\n",
       "      <td>3.350061</td>\n",
       "      <td>8.864365</td>\n",
       "      <td>6.939571</td>\n",
       "      <td>6.203820e+08</td>\n",
       "      <td>5.866254e+06</td>\n",
       "      <td>134.314508</td>\n",
       "      <td>5.938268</td>\n",
       "      <td>4.609389</td>\n",
       "      <td>4.982480</td>\n",
       "    </tr>\n",
       "    <tr>\n",
       "      <th>min</th>\n",
       "      <td>0.000000</td>\n",
       "      <td>0.000000</td>\n",
       "      <td>0.000000</td>\n",
       "      <td>0.000000e+00</td>\n",
       "      <td>0.008966</td>\n",
       "      <td>1.000000e-02</td>\n",
       "      <td>0.000000e+00</td>\n",
       "      <td>0.000000e+00</td>\n",
       "      <td>2009.000000</td>\n",
       "      <td>1.000000</td>\n",
       "      <td>1.000000</td>\n",
       "      <td>0.000000</td>\n",
       "      <td>3.000000e+00</td>\n",
       "      <td>5.162700e+04</td>\n",
       "      <td>1.000000</td>\n",
       "      <td>0.000000</td>\n",
       "      <td>1.000000</td>\n",
       "      <td>0.000000</td>\n",
       "    </tr>\n",
       "    <tr>\n",
       "      <th>25%</th>\n",
       "      <td>43435.500000</td>\n",
       "      <td>933.000000</td>\n",
       "      <td>3.000000</td>\n",
       "      <td>1.000000e+02</td>\n",
       "      <td>1.000000</td>\n",
       "      <td>1.500000e+03</td>\n",
       "      <td>1.000000e+02</td>\n",
       "      <td>1.000000e+02</td>\n",
       "      <td>2014.000000</td>\n",
       "      <td>4.000000</td>\n",
       "      <td>8.000000</td>\n",
       "      <td>8.000000</td>\n",
       "      <td>5.365239e+08</td>\n",
       "      <td>6.526716e+06</td>\n",
       "      <td>37.000000</td>\n",
       "      <td>9.000000</td>\n",
       "      <td>3.000000</td>\n",
       "      <td>16.000000</td>\n",
       "    </tr>\n",
       "    <tr>\n",
       "      <th>50%</th>\n",
       "      <td>89581.000000</td>\n",
       "      <td>1882.000000</td>\n",
       "      <td>25.000000</td>\n",
       "      <td>1.455000e+03</td>\n",
       "      <td>1.000000</td>\n",
       "      <td>5.000000e+03</td>\n",
       "      <td>1.475000e+03</td>\n",
       "      <td>1.457000e+03</td>\n",
       "      <td>2015.000000</td>\n",
       "      <td>6.000000</td>\n",
       "      <td>15.000000</td>\n",
       "      <td>15.000000</td>\n",
       "      <td>1.074100e+09</td>\n",
       "      <td>1.486766e+07</td>\n",
       "      <td>250.000000</td>\n",
       "      <td>12.000000</td>\n",
       "      <td>6.000000</td>\n",
       "      <td>20.000000</td>\n",
       "    </tr>\n",
       "    <tr>\n",
       "      <th>75%</th>\n",
       "      <td>139011.500000</td>\n",
       "      <td>2836.000000</td>\n",
       "      <td>85.000000</td>\n",
       "      <td>6.232500e+03</td>\n",
       "      <td>1.000000</td>\n",
       "      <td>1.500000e+04</td>\n",
       "      <td>6.419000e+03</td>\n",
       "      <td>6.235000e+03</td>\n",
       "      <td>2017.000000</td>\n",
       "      <td>9.000000</td>\n",
       "      <td>23.000000</td>\n",
       "      <td>19.000000</td>\n",
       "      <td>1.613096e+09</td>\n",
       "      <td>1.674378e+07</td>\n",
       "      <td>301.000000</td>\n",
       "      <td>16.000000</td>\n",
       "      <td>10.000000</td>\n",
       "      <td>22.000000</td>\n",
       "    </tr>\n",
       "    <tr>\n",
       "      <th>max</th>\n",
       "      <td>192662.000000</td>\n",
       "      <td>3795.000000</td>\n",
       "      <td>105857.000000</td>\n",
       "      <td>8.596474e+06</td>\n",
       "      <td>1.748586</td>\n",
       "      <td>1.000000e+08</td>\n",
       "      <td>8.103074e+07</td>\n",
       "      <td>8.596475e+06</td>\n",
       "      <td>2019.000000</td>\n",
       "      <td>12.000000</td>\n",
       "      <td>31.000000</td>\n",
       "      <td>23.000000</td>\n",
       "      <td>2.147483e+09</td>\n",
       "      <td>1.677606e+07</td>\n",
       "      <td>389.000000</td>\n",
       "      <td>26.000000</td>\n",
       "      <td>19.000000</td>\n",
       "      <td>35.000000</td>\n",
       "    </tr>\n",
       "  </tbody>\n",
       "</table>\n",
       "</div>"
      ],
      "text/plain": [
       "             level_0          index  backers_count  converted_pledged_amount  \\\n",
       "count  168975.000000  168975.000000  168975.000000              1.689750e+05   \n",
       "mean    91813.010978    1885.937511     140.070247              1.210176e+04   \n",
       "std     55447.370870    1095.006645     894.942272              8.368440e+04   \n",
       "min         0.000000       0.000000       0.000000              0.000000e+00   \n",
       "25%     43435.500000     933.000000       3.000000              1.000000e+02   \n",
       "50%     89581.000000    1882.000000      25.000000              1.455000e+03   \n",
       "75%    139011.500000    2836.000000      85.000000              6.232500e+03   \n",
       "max    192662.000000    3795.000000  105857.000000              8.596474e+06   \n",
       "\n",
       "             fx_rate          goal       pledged   usd_pledged    launch_year  \\\n",
       "count  168975.000000  1.689750e+05  1.689750e+05  1.689750e+05  168975.000000   \n",
       "mean        0.996635  4.840039e+04  1.656718e+04  1.211115e+04    2015.449481   \n",
       "std         0.201111  1.159842e+06  3.027074e+05  8.374030e+04       1.955962   \n",
       "min         0.008966  1.000000e-02  0.000000e+00  0.000000e+00    2009.000000   \n",
       "25%         1.000000  1.500000e+03  1.000000e+02  1.000000e+02    2014.000000   \n",
       "50%         1.000000  5.000000e+03  1.475000e+03  1.457000e+03    2015.000000   \n",
       "75%         1.000000  1.500000e+04  6.419000e+03  6.235000e+03    2017.000000   \n",
       "max         1.748586  1.000000e+08  8.103074e+07  8.596475e+06    2019.000000   \n",
       "\n",
       "        launch_month     launch_day    launch_hour       crea_id  \\\n",
       "count  168975.000000  168975.000000  168975.000000  1.689750e+05   \n",
       "mean        6.426306      15.232638      13.581589  1.074617e+09   \n",
       "std         3.350061       8.864365       6.939571  6.203820e+08   \n",
       "min         1.000000       1.000000       0.000000  3.000000e+00   \n",
       "25%         4.000000       8.000000       8.000000  5.365239e+08   \n",
       "50%         6.000000      15.000000      15.000000  1.074100e+09   \n",
       "75%         9.000000      23.000000      19.000000  1.613096e+09   \n",
       "max        12.000000      31.000000      23.000000  2.147483e+09   \n",
       "\n",
       "          cat_color         cat_id  cat_parent_id   cat_position  \\\n",
       "count  1.689750e+05  168975.000000  168975.000000  168975.000000   \n",
       "mean   1.206971e+07     171.895381      11.173114       7.125279   \n",
       "std    5.866254e+06     134.314508       5.938268       4.609389   \n",
       "min    5.162700e+04       1.000000       0.000000       1.000000   \n",
       "25%    6.526716e+06      37.000000       9.000000       3.000000   \n",
       "50%    1.486766e+07     250.000000      12.000000       6.000000   \n",
       "75%    1.674378e+07     301.000000      16.000000      10.000000   \n",
       "max    1.677606e+07     389.000000      26.000000      19.000000   \n",
       "\n",
       "       blurb_wordcount  \n",
       "count    168975.000000  \n",
       "mean         19.010729  \n",
       "std           4.982480  \n",
       "min           0.000000  \n",
       "25%          16.000000  \n",
       "50%          20.000000  \n",
       "75%          22.000000  \n",
       "max          35.000000  "
      ]
     },
     "execution_count": 120,
     "metadata": {},
     "output_type": "execute_result"
    }
   ],
   "source": [
    "df_tot5.describe()"
   ]
  },
  {
   "cell_type": "code",
   "execution_count": 121,
   "metadata": {},
   "outputs": [
    {
     "data": {
      "text/plain": [
       "array(['successful', 'failed'], dtype=object)"
      ]
     },
     "execution_count": 121,
     "metadata": {},
     "output_type": "execute_result"
    }
   ],
   "source": [
    "df_tot5.state.unique()"
   ]
  },
  {
   "cell_type": "code",
   "execution_count": 838,
   "metadata": {},
   "outputs": [],
   "source": [
    "suclist = list()\n",
    "for x in df_tot5.state.values:\n",
    "    if x == 'successful':\n",
    "        suclist.append(1)\n",
    "    else:\n",
    "        suclist.append(0)\n",
    "df_tot5['success'] = suclist"
   ]
  },
  {
   "cell_type": "code",
   "execution_count": 123,
   "metadata": {
    "colab": {},
    "colab_type": "code",
    "id": "iGgnlMkYOQgz"
   },
   "outputs": [
    {
     "data": {
      "text/plain": [
       "level_0                     14821\n",
       "index                       14821\n",
       "backers_count               14821\n",
       "blurb                       14821\n",
       "converted_pledged_amount    14821\n",
       "country                     14821\n",
       "created_at                  14821\n",
       "currency                    14821\n",
       "currency_symbol             14821\n",
       "currency_trailing_code      14821\n",
       "current_currency            14821\n",
       "deadline                    14821\n",
       "disable_communication       14821\n",
       "fx_rate                     14821\n",
       "goal                        14821\n",
       "id                          14821\n",
       "is_starrable                14821\n",
       "location                    14815\n",
       "name                        14821\n",
       "photo                       14821\n",
       "pledged                     14821\n",
       "slug                        14821\n",
       "spotlight                   14821\n",
       "staff_pick                  14821\n",
       "state                       14821\n",
       "state_changed_at            14821\n",
       "usd_pledged                 14821\n",
       "launch_weekday              14821\n",
       "launch_year                 14821\n",
       "launch_month                14821\n",
       "launch_day                  14821\n",
       "launch_hour                 14821\n",
       "crea_avatar                 14821\n",
       "crea_id                     14821\n",
       "crea_name                   14821\n",
       "crea_slug                   14821\n",
       "crea_urls                   14821\n",
       "cat_color                   14821\n",
       "cat_id                      14821\n",
       "cat_name                    14821\n",
       "cat_parent_id               14821\n",
       "cat_position                14821\n",
       "cat_super                   14821\n",
       "cat_urls                    14821\n",
       "blurb_wordcount             14821\n",
       "gender                      14821\n",
       "success                     14821\n",
       "dtype: int64"
      ]
     },
     "execution_count": 123,
     "metadata": {},
     "output_type": "execute_result"
    }
   ],
   "source": [
    "df_tot5[df_tot5.usd_pledged == 0.].count()"
   ]
  },
  {
   "cell_type": "code",
   "execution_count": 124,
   "metadata": {},
   "outputs": [],
   "source": [
    "corrm = df_tot5.corr()"
   ]
  },
  {
   "cell_type": "code",
   "execution_count": 125,
   "metadata": {},
   "outputs": [
    {
     "data": {
      "text/plain": [
       "<matplotlib.axes._subplots.AxesSubplot at 0x1a73ef2e10>"
      ]
     },
     "execution_count": 125,
     "metadata": {},
     "output_type": "execute_result"
    },
    {
     "data": {
      "image/png": "[encoded data removed]",
      "text/plain": [
       "<Figure size 1080x1080 with 2 Axes>"
      ]
     },
     "metadata": {
      "needs_background": "light"
     },
     "output_type": "display_data"
    }
   ],
   "source": [
    "plt.figure(figsize = (15,15))\n",
    "sns.heatmap(corrm)"
   ]
  },
  {
   "cell_type": "code",
   "execution_count": 828,
   "metadata": {},
   "outputs": [
    {
     "name": "stdout",
     "output_type": "stream",
     "text": [
      "<class 'pandas.core.frame.DataFrame'>\n",
      "Int64Index: 168975 entries, 0 to 192657\n",
      "Data columns (total 46 columns):\n",
      "level_0                     168975 non-null int64\n",
      "index                       168975 non-null int64\n",
      "backers_count               168975 non-null int64\n",
      "blurb                       168975 non-null object\n",
      "converted_pledged_amount    168975 non-null int64\n",
      "country                     168975 non-null category\n",
      "created_at                  168975 non-null datetime64[ns]\n",
      "currency                    168975 non-null category\n",
      "currency_symbol             168975 non-null category\n",
      "currency_trailing_code      168975 non-null bool\n",
      "current_currency            168975 non-null category\n",
      "deadline                    168975 non-null datetime64[ns]\n",
      "disable_communication       168975 non-null bool\n",
      "fx_rate                     168975 non-null float64\n",
      "goal                        168975 non-null float64\n",
      "id                          168975 non-null category\n",
      "is_starrable                168975 non-null bool\n",
      "location                    168762 non-null object\n",
      "name                        168975 non-null object\n",
      "photo                       168975 non-null object\n",
      "pledged                     168975 non-null float64\n",
      "slug                        168975 non-null object\n",
      "spotlight                   168975 non-null bool\n",
      "staff_pick                  168975 non-null bool\n",
      "state                       168975 non-null object\n",
      "state_changed_at            168975 non-null datetime64[ns]\n",
      "usd_pledged                 168975 non-null float64\n",
      "launch_weekday              168975 non-null object\n",
      "launch_year                 168975 non-null int64\n",
      "launch_month                168975 non-null int64\n",
      "launch_day                  168975 non-null int64\n",
      "launch_hour                 168975 non-null int64\n",
      "crea_avatar                 168975 non-null object\n",
      "crea_id                     168975 non-null int64\n",
      "crea_name                   168975 non-null object\n",
      "crea_slug                   168975 non-null object\n",
      "crea_urls                   168975 non-null object\n",
      "cat_color                   168975 non-null int64\n",
      "cat_id                      168975 non-null int64\n",
      "cat_name                    168975 non-null object\n",
      "cat_parent_id               168975 non-null float64\n",
      "cat_position                168975 non-null int64\n",
      "cat_super                   168975 non-null object\n",
      "cat_urls                    168975 non-null object\n",
      "blurb_wordcount             168975 non-null int64\n",
      "gender                      168975 non-null object\n",
      "dtypes: bool(5), category(5), datetime64[ns](3), float64(5), int64(13), object(15)\n",
      "memory usage: 56.1+ MB\n"
     ]
    }
   ],
   "source": [
    "df_tot5.info()"
   ]
  },
  {
   "cell_type": "code",
   "execution_count": 839,
   "metadata": {},
   "outputs": [],
   "source": [
    "df_tot5.gender = df_tot5.gender.astype('category')\n",
    "df_tot5.cat_super = df_tot5.cat_super.astype('category')\n",
    "df_tot5.cat_parent_id = df_tot5.cat_parent_id.astype('category')\n",
    "#df_tot5.city = df_tot5.city.astype('category')\n",
    "df_tot5.gender = df_tot5.gender.astype('category')"
   ]
  },
  {
   "cell_type": "code",
   "execution_count": 130,
   "metadata": {},
   "outputs": [
    {
     "data": {
      "text/plain": [
       "array([ 1,  2,  3,  4,  5,  6,  7,  8,  9, 10, 11, 12, 13, 14, 15, 16, 17,\n",
       "       18, 19])"
      ]
     },
     "execution_count": 130,
     "metadata": {},
     "output_type": "execute_result"
    }
   ],
   "source": [
    "np.sort(list(df_tot5.cat_position.unique()))"
   ]
  },
  {
   "cell_type": "code",
   "execution_count": 131,
   "metadata": {},
   "outputs": [
    {
     "name": "stdout",
     "output_type": "stream",
     "text": [
      "0 level_0\n",
      "1 index\n",
      "3 blurb\n",
      "4 converted_pledged_amount\n",
      "7 currency\n",
      "8 currency_symbol\n",
      "9 currency_trailing_code\n",
      "15 id\n",
      "18 name\n",
      "19 photo\n",
      "21 slug\n",
      "24 state\n",
      "25 state_changed_at\n",
      "32 crea_avatar\n",
      "34 crea_name\n",
      "35 crea_slug\n",
      "36 crea_urls\n",
      "37 cat_color\n",
      "38 cat_id\n",
      "40 cat_parent_id\n",
      "43 cat_urls\n"
     ]
    }
   ],
   "source": [
    "a = 0\n",
    "for x in df_tot5.columns:\n",
    "    if x in ['level_0', 'index', 'blurb', 'converted_pledged_amount',\\\n",
    "        'currency', 'currency_symbol', 'currency_trailing_code',\\\n",
    "        'id', 'name', 'slug', 'photo', 'state', 'state_changed_at',\\\n",
    "        'crea_name', 'crea_avatar', 'crea_urls', 'crea_slug',\\\n",
    "        'cat_color', 'cat_urls', 'cat_parent_id', 'cat_id']:\n",
    "        print(a,x)\n",
    "    a += 1"
   ]
  },
  {
   "cell_type": "code",
   "execution_count": 132,
   "metadata": {},
   "outputs": [
    {
     "data": {
      "text/html": [
       "<div>\n",
       "<style scoped>\n",
       "    .dataframe tbody tr th:only-of-type {\n",
       "        vertical-align: middle;\n",
       "    }\n",
       "\n",
       "    .dataframe tbody tr th {\n",
       "        vertical-align: top;\n",
       "    }\n",
       "\n",
       "    .dataframe thead th {\n",
       "        text-align: right;\n",
       "    }\n",
       "</style>\n",
       "<table border=\"1\" class=\"dataframe\">\n",
       "  <thead>\n",
       "    <tr style=\"text-align: right;\">\n",
       "      <th></th>\n",
       "      <th>level_0</th>\n",
       "      <th>index</th>\n",
       "      <th>blurb</th>\n",
       "      <th>converted_pledged_amount</th>\n",
       "      <th>currency</th>\n",
       "      <th>currency_symbol</th>\n",
       "      <th>currency_trailing_code</th>\n",
       "      <th>id</th>\n",
       "      <th>name</th>\n",
       "      <th>slug</th>\n",
       "      <th>...</th>\n",
       "      <th>state</th>\n",
       "      <th>state_changed_at</th>\n",
       "      <th>crea_name</th>\n",
       "      <th>crea_avatar</th>\n",
       "      <th>crea_urls</th>\n",
       "      <th>crea_slug</th>\n",
       "      <th>cat_color</th>\n",
       "      <th>cat_urls</th>\n",
       "      <th>cat_parent_id</th>\n",
       "      <th>cat_id</th>\n",
       "    </tr>\n",
       "  </thead>\n",
       "  <tbody>\n",
       "    <tr>\n",
       "      <th>0</th>\n",
       "      <td>0</td>\n",
       "      <td>0</td>\n",
       "      <td>2006 was almost 7 years ago.... Can you believ...</td>\n",
       "      <td>802</td>\n",
       "      <td>USD</td>\n",
       "      <td>$</td>\n",
       "      <td>True</td>\n",
       "      <td>287514992</td>\n",
       "      <td>New Final Round Album</td>\n",
       "      <td>new-final-round-album</td>\n",
       "      <td>...</td>\n",
       "      <td>successful</td>\n",
       "      <td>2014-02-08 22:37:26</td>\n",
       "      <td>Daniel</td>\n",
       "      <td>{'thumb': 'https://ksr-ugc.imgix.net/assets/00...</td>\n",
       "      <td>{'web': {'user': 'https://www.kickstarter.com/...</td>\n",
       "      <td></td>\n",
       "      <td>10878931</td>\n",
       "      <td>{'web': {'discover': 'http://www.kickstarter.c...</td>\n",
       "      <td>14.0</td>\n",
       "      <td>43</td>\n",
       "    </tr>\n",
       "    <tr>\n",
       "      <th>1</th>\n",
       "      <td>1</td>\n",
       "      <td>1</td>\n",
       "      <td>An adorable fantasy enamel pin series of princ...</td>\n",
       "      <td>2259</td>\n",
       "      <td>USD</td>\n",
       "      <td>$</td>\n",
       "      <td>True</td>\n",
       "      <td>385129759</td>\n",
       "      <td>Princess Pals Enamel Pin Series</td>\n",
       "      <td>princess-pals-enamel-pin-series</td>\n",
       "      <td>...</td>\n",
       "      <td>successful</td>\n",
       "      <td>2019-03-05 16:00:11</td>\n",
       "      <td>Katherine</td>\n",
       "      <td>{'thumb': 'https://ksr-ugc.imgix.net/assets/02...</td>\n",
       "      <td>{'web': {'user': 'https://www.kickstarter.com/...</td>\n",
       "      <td>freckleddisney</td>\n",
       "      <td>16760235</td>\n",
       "      <td>{'web': {'discover': 'http://www.kickstarter.c...</td>\n",
       "      <td>1.0</td>\n",
       "      <td>54</td>\n",
       "    </tr>\n",
       "    <tr>\n",
       "      <th>2</th>\n",
       "      <td>2</td>\n",
       "      <td>2</td>\n",
       "      <td>Helping a community come together to set the s...</td>\n",
       "      <td>29638</td>\n",
       "      <td>USD</td>\n",
       "      <td>$</td>\n",
       "      <td>True</td>\n",
       "      <td>681033598</td>\n",
       "      <td>Their Life Through Their Lens-the Amish and Me...</td>\n",
       "      <td>their-life-through-their-lens-the-amish-and-me...</td>\n",
       "      <td>...</td>\n",
       "      <td>successful</td>\n",
       "      <td>2016-12-01 15:58:52</td>\n",
       "      <td>MelissaThomas</td>\n",
       "      <td>{'thumb': 'https://ksr-ugc.imgix.net/assets/01...</td>\n",
       "      <td>{'web': {'user': 'https://www.kickstarter.com/...</td>\n",
       "      <td></td>\n",
       "      <td>58341</td>\n",
       "      <td>{'web': {'discover': 'http://www.kickstarter.c...</td>\n",
       "      <td>15.0</td>\n",
       "      <td>280</td>\n",
       "    </tr>\n",
       "    <tr>\n",
       "      <th>3</th>\n",
       "      <td>3</td>\n",
       "      <td>3</td>\n",
       "      <td>Every revolution starts from the bottom and we...</td>\n",
       "      <td>49158</td>\n",
       "      <td>EUR</td>\n",
       "      <td>€</td>\n",
       "      <td>False</td>\n",
       "      <td>1031782682</td>\n",
       "      <td>WAO: THE ECO EFFECT SHOES</td>\n",
       "      <td>wao-the-eco-effect-shoes</td>\n",
       "      <td>...</td>\n",
       "      <td>successful</td>\n",
       "      <td>2018-12-08 22:59:00</td>\n",
       "      <td>WAO</td>\n",
       "      <td>{'thumb': 'https://ksr-ugc.imgix.net/assets/02...</td>\n",
       "      <td>{'web': {'user': 'https://www.kickstarter.com/...</td>\n",
       "      <td>wearewao</td>\n",
       "      <td>16752598</td>\n",
       "      <td>{'web': {'discover': 'http://www.kickstarter.c...</td>\n",
       "      <td>9.0</td>\n",
       "      <td>266</td>\n",
       "    </tr>\n",
       "    <tr>\n",
       "      <th>4</th>\n",
       "      <td>4</td>\n",
       "      <td>4</td>\n",
       "      <td>Learn to build 10+ Applications in this comple...</td>\n",
       "      <td>549</td>\n",
       "      <td>USD</td>\n",
       "      <td>$</td>\n",
       "      <td>True</td>\n",
       "      <td>904085819</td>\n",
       "      <td>Apple Watch Development Course</td>\n",
       "      <td>apple-watch-development-course</td>\n",
       "      <td>...</td>\n",
       "      <td>failed</td>\n",
       "      <td>2015-04-08 16:36:59</td>\n",
       "      <td>Kalpit Jain</td>\n",
       "      <td>{'thumb': 'https://ksr-ugc.imgix.net/assets/00...</td>\n",
       "      <td>{'web': {'user': 'https://www.kickstarter.com/...</td>\n",
       "      <td></td>\n",
       "      <td>6526716</td>\n",
       "      <td>{'web': {'discover': 'http://www.kickstarter.c...</td>\n",
       "      <td>16.0</td>\n",
       "      <td>51</td>\n",
       "    </tr>\n",
       "    <tr>\n",
       "      <th>5</th>\n",
       "      <td>5</td>\n",
       "      <td>5</td>\n",
       "      <td>'Eclipse' - A 30mm hard enamel pin in jet blac...</td>\n",
       "      <td>2117</td>\n",
       "      <td>GBP</td>\n",
       "      <td>£</td>\n",
       "      <td>False</td>\n",
       "      <td>1140013344</td>\n",
       "      <td>Saluki Totem Enamel Pin</td>\n",
       "      <td>saluki-totem-enamel-pin</td>\n",
       "      <td>...</td>\n",
       "      <td>successful</td>\n",
       "      <td>2018-02-17 11:01:13</td>\n",
       "      <td>Jennifer Hawkyard</td>\n",
       "      <td>{'thumb': 'https://ksr-ugc.imgix.net/assets/00...</td>\n",
       "      <td>{'web': {'user': 'https://www.kickstarter.com/...</td>\n",
       "      <td>jezhawk</td>\n",
       "      <td>16752598</td>\n",
       "      <td>{'web': {'discover': 'http://www.kickstarter.c...</td>\n",
       "      <td>9.0</td>\n",
       "      <td>262</td>\n",
       "    </tr>\n",
       "    <tr>\n",
       "      <th>6</th>\n",
       "      <td>6</td>\n",
       "      <td>6</td>\n",
       "      <td>Tao Of Maceo is a professionally printed journ...</td>\n",
       "      <td>886</td>\n",
       "      <td>USD</td>\n",
       "      <td>$</td>\n",
       "      <td>True</td>\n",
       "      <td>1136128624</td>\n",
       "      <td>Quickstarter: Tao Of Maceo</td>\n",
       "      <td>quickstarter-tao-of-maceo</td>\n",
       "      <td>...</td>\n",
       "      <td>successful</td>\n",
       "      <td>2018-08-20 19:00:02</td>\n",
       "      <td>Maceo Paisley</td>\n",
       "      <td>{'thumb': 'https://ksr-ugc.imgix.net/assets/00...</td>\n",
       "      <td>{'web': {'user': 'https://www.kickstarter.com/...</td>\n",
       "      <td>maceopaisley</td>\n",
       "      <td>14867664</td>\n",
       "      <td>{'web': {'discover': 'http://www.kickstarter.c...</td>\n",
       "      <td>18.0</td>\n",
       "      <td>48</td>\n",
       "    </tr>\n",
       "    <tr>\n",
       "      <th>7</th>\n",
       "      <td>7</td>\n",
       "      <td>7</td>\n",
       "      <td>Let's build and remix a new Personal Web Theme...</td>\n",
       "      <td>30</td>\n",
       "      <td>USD</td>\n",
       "      <td>$</td>\n",
       "      <td>True</td>\n",
       "      <td>1502040661</td>\n",
       "      <td>#lolnub. Web Theme Park and Story Attraction.</td>\n",
       "      <td>lolnub-web-theme-park-and-story-attraction</td>\n",
       "      <td>...</td>\n",
       "      <td>failed</td>\n",
       "      <td>2014-11-22 18:22:02</td>\n",
       "      <td>Mike Evans</td>\n",
       "      <td>{'thumb': 'https://ksr-ugc.imgix.net/assets/00...</td>\n",
       "      <td>{'web': {'user': 'https://www.kickstarter.com/...</td>\n",
       "      <td>lolnub</td>\n",
       "      <td>6526716</td>\n",
       "      <td>{'web': {'discover': 'http://www.kickstarter.c...</td>\n",
       "      <td>16.0</td>\n",
       "      <td>51</td>\n",
       "    </tr>\n",
       "    <tr>\n",
       "      <th>8</th>\n",
       "      <td>8</td>\n",
       "      <td>8</td>\n",
       "      <td>A limited edition, signed and numbered hand sc...</td>\n",
       "      <td>70</td>\n",
       "      <td>USD</td>\n",
       "      <td>$</td>\n",
       "      <td>True</td>\n",
       "      <td>1163929691</td>\n",
       "      <td>Limited Edition Heroic Fireman Statuette</td>\n",
       "      <td>limited-edition-heroic-fireman-statuette</td>\n",
       "      <td>...</td>\n",
       "      <td>failed</td>\n",
       "      <td>2012-10-06 16:37:31</td>\n",
       "      <td>Michael</td>\n",
       "      <td>{'thumb': 'https://ksr-ugc.imgix.net/assets/00...</td>\n",
       "      <td>{'web': {'user': 'https://www.kickstarter.com/...</td>\n",
       "      <td></td>\n",
       "      <td>16760235</td>\n",
       "      <td>{'web': {'discover': 'http://www.kickstarter.c...</td>\n",
       "      <td>1.0</td>\n",
       "      <td>25</td>\n",
       "    </tr>\n",
       "    <tr>\n",
       "      <th>9</th>\n",
       "      <td>9</td>\n",
       "      <td>9</td>\n",
       "      <td>Play this hilarious, nonsensical card game for...</td>\n",
       "      <td>1344</td>\n",
       "      <td>USD</td>\n",
       "      <td>$</td>\n",
       "      <td>True</td>\n",
       "      <td>410663165</td>\n",
       "      <td>PRATTLE</td>\n",
       "      <td>prattle</td>\n",
       "      <td>...</td>\n",
       "      <td>failed</td>\n",
       "      <td>2016-07-29 23:57:59</td>\n",
       "      <td>Nathan Hatch</td>\n",
       "      <td>{'thumb': 'https://ksr-ugc.imgix.net/assets/00...</td>\n",
       "      <td>{'web': {'user': 'https://www.kickstarter.com/...</td>\n",
       "      <td></td>\n",
       "      <td>51627</td>\n",
       "      <td>{'web': {'discover': 'http://www.kickstarter.c...</td>\n",
       "      <td>12.0</td>\n",
       "      <td>273</td>\n",
       "    </tr>\n",
       "    <tr>\n",
       "      <th>10</th>\n",
       "      <td>10</td>\n",
       "      <td>10</td>\n",
       "      <td>An homage to Mark Twain Manor, our former home...</td>\n",
       "      <td>230</td>\n",
       "      <td>USD</td>\n",
       "      <td>$</td>\n",
       "      <td>True</td>\n",
       "      <td>1931303220</td>\n",
       "      <td>End of an Era — If These Walls Could Talk</td>\n",
       "      <td>end-of-an-era-if-these-walls-could-talk</td>\n",
       "      <td>...</td>\n",
       "      <td>successful</td>\n",
       "      <td>2014-12-21 07:59:00</td>\n",
       "      <td>Kris Vagner</td>\n",
       "      <td>{'thumb': 'https://ksr-ugc.imgix.net/assets/00...</td>\n",
       "      <td>{'web': {'user': 'https://www.kickstarter.com/...</td>\n",
       "      <td>krisvagner</td>\n",
       "      <td>58341</td>\n",
       "      <td>{'web': {'discover': 'http://www.kickstarter.c...</td>\n",
       "      <td>15.0</td>\n",
       "      <td>276</td>\n",
       "    </tr>\n",
       "    <tr>\n",
       "      <th>11</th>\n",
       "      <td>11</td>\n",
       "      <td>11</td>\n",
       "      <td>A project giving voice to individuals living a...</td>\n",
       "      <td>6902</td>\n",
       "      <td>CAD</td>\n",
       "      <td>$</td>\n",
       "      <td>True</td>\n",
       "      <td>1475503766</td>\n",
       "      <td>Line In The Sand: Stories from the Northern Ga...</td>\n",
       "      <td>line-in-the-sand-stories-from-the-northern-gat...</td>\n",
       "      <td>...</td>\n",
       "      <td>successful</td>\n",
       "      <td>2013-11-14 00:57:22</td>\n",
       "      <td>Tomas Borsa</td>\n",
       "      <td>{'thumb': 'https://ksr-ugc.imgix.net/assets/00...</td>\n",
       "      <td>{'web': {'user': 'https://www.kickstarter.com/...</td>\n",
       "      <td></td>\n",
       "      <td>14867664</td>\n",
       "      <td>{'web': {'discover': 'http://www.kickstarter.c...</td>\n",
       "      <td>18.0</td>\n",
       "      <td>48</td>\n",
       "    </tr>\n",
       "    <tr>\n",
       "      <th>12</th>\n",
       "      <td>12</td>\n",
       "      <td>12</td>\n",
       "      <td>Award Winning Footwear Designs | Crafted Using...</td>\n",
       "      <td>631</td>\n",
       "      <td>GBP</td>\n",
       "      <td>£</td>\n",
       "      <td>False</td>\n",
       "      <td>413235128</td>\n",
       "      <td>Avalon Nero | Handcrafted Prestige Men's Shoes...</td>\n",
       "      <td>avalon-nero-handcrafted-prestige-mens-shoes-lo...</td>\n",
       "      <td>...</td>\n",
       "      <td>successful</td>\n",
       "      <td>2018-05-17 23:55:52</td>\n",
       "      <td>London Navy</td>\n",
       "      <td>{'thumb': 'https://ksr-ugc.imgix.net/assets/02...</td>\n",
       "      <td>{'web': {'user': 'https://www.kickstarter.com/...</td>\n",
       "      <td></td>\n",
       "      <td>16752598</td>\n",
       "      <td>{'web': {'discover': 'http://www.kickstarter.c...</td>\n",
       "      <td>9.0</td>\n",
       "      <td>266</td>\n",
       "    </tr>\n",
       "    <tr>\n",
       "      <th>13</th>\n",
       "      <td>13</td>\n",
       "      <td>13</td>\n",
       "      <td>NAKEFIT: Hypoallergenic adhesive pad for walki...</td>\n",
       "      <td>336729</td>\n",
       "      <td>EUR</td>\n",
       "      <td>€</td>\n",
       "      <td>False</td>\n",
       "      <td>191854267</td>\n",
       "      <td>Nakefit</td>\n",
       "      <td>nakefit</td>\n",
       "      <td>...</td>\n",
       "      <td>successful</td>\n",
       "      <td>2017-07-07 19:32:14</td>\n",
       "      <td>Sabato Alterio</td>\n",
       "      <td>{'thumb': 'https://ksr-ugc.imgix.net/assets/01...</td>\n",
       "      <td>{'web': {'user': 'https://www.kickstarter.com/...</td>\n",
       "      <td></td>\n",
       "      <td>16752598</td>\n",
       "      <td>{'web': {'discover': 'http://www.kickstarter.c...</td>\n",
       "      <td>9.0</td>\n",
       "      <td>266</td>\n",
       "    </tr>\n",
       "    <tr>\n",
       "      <th>14</th>\n",
       "      <td>14</td>\n",
       "      <td>14</td>\n",
       "      <td>OVERTHROW THE KING AND TAKE WHAT IS YOURS &amp; Ki...</td>\n",
       "      <td>0</td>\n",
       "      <td>USD</td>\n",
       "      <td>$</td>\n",
       "      <td>True</td>\n",
       "      <td>1651386891</td>\n",
       "      <td>War of Dragons ,Fight to the Finish</td>\n",
       "      <td>war-of-dragons-fight-to-the-finish</td>\n",
       "      <td>...</td>\n",
       "      <td>failed</td>\n",
       "      <td>2016-06-01 09:47:00</td>\n",
       "      <td>Lauren</td>\n",
       "      <td>{'thumb': 'https://ksr-ugc.imgix.net/assets/01...</td>\n",
       "      <td>{'web': {'user': 'https://www.kickstarter.com/...</td>\n",
       "      <td></td>\n",
       "      <td>51627</td>\n",
       "      <td>{'web': {'discover': 'http://www.kickstarter.c...</td>\n",
       "      <td>12.0</td>\n",
       "      <td>273</td>\n",
       "    </tr>\n",
       "    <tr>\n",
       "      <th>15</th>\n",
       "      <td>15</td>\n",
       "      <td>15</td>\n",
       "      <td>We are trying to reopen Gabutto Burger! Our Ja...</td>\n",
       "      <td>10053</td>\n",
       "      <td>USD</td>\n",
       "      <td>$</td>\n",
       "      <td>True</td>\n",
       "      <td>1572137431</td>\n",
       "      <td>Japanese Burger Anime Cafe (Gabutto Burger)</td>\n",
       "      <td>japanese-burger-anime-cafe-gabutto-burger</td>\n",
       "      <td>...</td>\n",
       "      <td>successful</td>\n",
       "      <td>2015-07-09 01:08:02</td>\n",
       "      <td>Misha</td>\n",
       "      <td>{'thumb': 'https://ksr-ugc.imgix.net/assets/00...</td>\n",
       "      <td>{'web': {'user': 'https://www.kickstarter.com/...</td>\n",
       "      <td></td>\n",
       "      <td>16725570</td>\n",
       "      <td>{'web': {'discover': 'http://www.kickstarter.c...</td>\n",
       "      <td>10.0</td>\n",
       "      <td>312</td>\n",
       "    </tr>\n",
       "    <tr>\n",
       "      <th>16</th>\n",
       "      <td>16</td>\n",
       "      <td>16</td>\n",
       "      <td>As a landscape photographer and avid hiker thi...</td>\n",
       "      <td>2478</td>\n",
       "      <td>USD</td>\n",
       "      <td>$</td>\n",
       "      <td>True</td>\n",
       "      <td>641147491</td>\n",
       "      <td>Pacific Crest Trail - A Photographic Journey</td>\n",
       "      <td>pacific-crest-trail-a-photographic-journey</td>\n",
       "      <td>...</td>\n",
       "      <td>successful</td>\n",
       "      <td>2015-04-16 23:22:18</td>\n",
       "      <td>Michael White</td>\n",
       "      <td>{'thumb': 'https://ksr-ugc.imgix.net/assets/00...</td>\n",
       "      <td>{'web': {'user': 'https://www.kickstarter.com/...</td>\n",
       "      <td></td>\n",
       "      <td>58341</td>\n",
       "      <td>{'web': {'discover': 'http://www.kickstarter.c...</td>\n",
       "      <td>15.0</td>\n",
       "      <td>277</td>\n",
       "    </tr>\n",
       "    <tr>\n",
       "      <th>17</th>\n",
       "      <td>17</td>\n",
       "      <td>17</td>\n",
       "      <td>A project that tells the stories of photograph...</td>\n",
       "      <td>20769</td>\n",
       "      <td>USD</td>\n",
       "      <td>$</td>\n",
       "      <td>True</td>\n",
       "      <td>1627504478</td>\n",
       "      <td>FROM DARKROOM TO DAYLIGHT</td>\n",
       "      <td>from-darkroom-to-daylight</td>\n",
       "      <td>...</td>\n",
       "      <td>successful</td>\n",
       "      <td>2014-07-31 04:48:00</td>\n",
       "      <td>Harvey Wang</td>\n",
       "      <td>{'thumb': 'https://ksr-ugc.imgix.net/assets/00...</td>\n",
       "      <td>{'web': {'user': 'https://www.kickstarter.com/...</td>\n",
       "      <td></td>\n",
       "      <td>58341</td>\n",
       "      <td>{'web': {'discover': 'http://www.kickstarter.c...</td>\n",
       "      <td>15.0</td>\n",
       "      <td>280</td>\n",
       "    </tr>\n",
       "    <tr>\n",
       "      <th>18</th>\n",
       "      <td>18</td>\n",
       "      <td>18</td>\n",
       "      <td>The Marks You Leave, a new play by Tyler Andre...</td>\n",
       "      <td>11550</td>\n",
       "      <td>USD</td>\n",
       "      <td>$</td>\n",
       "      <td>True</td>\n",
       "      <td>603811861</td>\n",
       "      <td>The Marks You Leave</td>\n",
       "      <td>the-marks-you-leave</td>\n",
       "      <td>...</td>\n",
       "      <td>successful</td>\n",
       "      <td>2016-07-04 03:59:00</td>\n",
       "      <td>Tyler Andrew Jones</td>\n",
       "      <td>{'thumb': 'https://ksr-ugc.imgix.net/assets/01...</td>\n",
       "      <td>{'web': {'user': 'https://www.kickstarter.com/...</td>\n",
       "      <td></td>\n",
       "      <td>16743775</td>\n",
       "      <td>{'web': {'discover': 'http://www.kickstarter.c...</td>\n",
       "      <td>17.0</td>\n",
       "      <td>282</td>\n",
       "    </tr>\n",
       "    <tr>\n",
       "      <th>19</th>\n",
       "      <td>19</td>\n",
       "      <td>19</td>\n",
       "      <td>We need to renovate to move forward, and conti...</td>\n",
       "      <td>6420</td>\n",
       "      <td>USD</td>\n",
       "      <td>$</td>\n",
       "      <td>True</td>\n",
       "      <td>956020785</td>\n",
       "      <td>The Secret Alley's Gallery...The Galallery!</td>\n",
       "      <td>the-secret-alleys-gallerythe-galallery</td>\n",
       "      <td>...</td>\n",
       "      <td>successful</td>\n",
       "      <td>2013-05-10 02:49:55</td>\n",
       "      <td>The Secret Alley/Galallery</td>\n",
       "      <td>{'thumb': 'https://ksr-ugc.imgix.net/assets/00...</td>\n",
       "      <td>{'web': {'user': 'https://www.kickstarter.com/...</td>\n",
       "      <td></td>\n",
       "      <td>16760235</td>\n",
       "      <td>{'web': {'discover': 'http://www.kickstarter.c...</td>\n",
       "      <td>1.0</td>\n",
       "      <td>54</td>\n",
       "    </tr>\n",
       "    <tr>\n",
       "      <th>20</th>\n",
       "      <td>20</td>\n",
       "      <td>20</td>\n",
       "      <td>Called \"focused. penetrating. radiant.\", the L...</td>\n",
       "      <td>25</td>\n",
       "      <td>USD</td>\n",
       "      <td>$</td>\n",
       "      <td>True</td>\n",
       "      <td>1684328646</td>\n",
       "      <td>PiE presents the Lyris Quartet in Concert</td>\n",
       "      <td>pie-presents-the-lyris-quartet-in-concert</td>\n",
       "      <td>...</td>\n",
       "      <td>failed</td>\n",
       "      <td>2013-10-09 20:00:14</td>\n",
       "      <td>People Inside Electronics</td>\n",
       "      <td>{'thumb': 'https://ksr-ugc.imgix.net/assets/00...</td>\n",
       "      <td>{'web': {'user': 'https://www.kickstarter.com/...</td>\n",
       "      <td>pielectro</td>\n",
       "      <td>10878931</td>\n",
       "      <td>{'web': {'discover': 'http://www.kickstarter.c...</td>\n",
       "      <td>14.0</td>\n",
       "      <td>36</td>\n",
       "    </tr>\n",
       "    <tr>\n",
       "      <th>21</th>\n",
       "      <td>21</td>\n",
       "      <td>21</td>\n",
       "      <td>Help me with the cost of digital and physical ...</td>\n",
       "      <td>699</td>\n",
       "      <td>GBP</td>\n",
       "      <td>£</td>\n",
       "      <td>False</td>\n",
       "      <td>1117018758</td>\n",
       "      <td>Joe Head - Debut Album Launch - 2018</td>\n",
       "      <td>joe-head-debut-album-launch-2018</td>\n",
       "      <td>...</td>\n",
       "      <td>successful</td>\n",
       "      <td>2018-01-19 13:59:00</td>\n",
       "      <td>Joe Head</td>\n",
       "      <td>{'thumb': 'https://ksr-ugc.imgix.net/assets/01...</td>\n",
       "      <td>{'web': {'user': 'https://www.kickstarter.com/...</td>\n",
       "      <td></td>\n",
       "      <td>10878931</td>\n",
       "      <td>{'web': {'discover': 'http://www.kickstarter.c...</td>\n",
       "      <td>14.0</td>\n",
       "      <td>43</td>\n",
       "    </tr>\n",
       "    <tr>\n",
       "      <th>22</th>\n",
       "      <td>22</td>\n",
       "      <td>22</td>\n",
       "      <td>Inspire acceptance, unity and inclusion! For p...</td>\n",
       "      <td>6022</td>\n",
       "      <td>USD</td>\n",
       "      <td>$</td>\n",
       "      <td>True</td>\n",
       "      <td>1442831759</td>\n",
       "      <td>HUMAN BEANS: Unique Candy with a Sweet Message!</td>\n",
       "      <td>human-beans-unique-candy-with-a-sweet-message</td>\n",
       "      <td>...</td>\n",
       "      <td>successful</td>\n",
       "      <td>2014-11-28 03:00:13</td>\n",
       "      <td>Tracy Jackson</td>\n",
       "      <td>{'thumb': 'https://ksr-ugc.imgix.net/assets/00...</td>\n",
       "      <td>{'web': {'user': 'https://www.kickstarter.com/...</td>\n",
       "      <td></td>\n",
       "      <td>16725570</td>\n",
       "      <td>{'web': {'discover': 'http://www.kickstarter.c...</td>\n",
       "      <td>10.0</td>\n",
       "      <td>313</td>\n",
       "    </tr>\n",
       "    <tr>\n",
       "      <th>23</th>\n",
       "      <td>23</td>\n",
       "      <td>23</td>\n",
       "      <td>Commercial and residential construction projec...</td>\n",
       "      <td>30</td>\n",
       "      <td>USD</td>\n",
       "      <td>$</td>\n",
       "      <td>True</td>\n",
       "      <td>917498042</td>\n",
       "      <td>Fund Construction Projects.com</td>\n",
       "      <td>fund-construction-projectscom</td>\n",
       "      <td>...</td>\n",
       "      <td>failed</td>\n",
       "      <td>2015-08-01 21:32:10</td>\n",
       "      <td>Chad Arel</td>\n",
       "      <td>{'thumb': 'https://ksr-ugc.imgix.net/assets/00...</td>\n",
       "      <td>{'web': {'user': 'https://www.kickstarter.com/...</td>\n",
       "      <td>chadwickmarcus</td>\n",
       "      <td>6526716</td>\n",
       "      <td>{'web': {'discover': 'http://www.kickstarter.c...</td>\n",
       "      <td>16.0</td>\n",
       "      <td>51</td>\n",
       "    </tr>\n",
       "    <tr>\n",
       "      <th>24</th>\n",
       "      <td>24</td>\n",
       "      <td>24</td>\n",
       "      <td>An incredibly short (and hopefully fun) book n...</td>\n",
       "      <td>582</td>\n",
       "      <td>USD</td>\n",
       "      <td>$</td>\n",
       "      <td>True</td>\n",
       "      <td>2085616029</td>\n",
       "      <td>Marriage. Story. Heaven.</td>\n",
       "      <td>marriage-story-heaven</td>\n",
       "      <td>...</td>\n",
       "      <td>successful</td>\n",
       "      <td>2019-02-26 01:35:00</td>\n",
       "      <td>Jeremy Secrest</td>\n",
       "      <td>{'thumb': 'https://ksr-ugc.imgix.net/assets/01...</td>\n",
       "      <td>{'web': {'user': 'https://www.kickstarter.com/...</td>\n",
       "      <td></td>\n",
       "      <td>14867664</td>\n",
       "      <td>{'web': {'discover': 'http://www.kickstarter.c...</td>\n",
       "      <td>18.0</td>\n",
       "      <td>48</td>\n",
       "    </tr>\n",
       "    <tr>\n",
       "      <th>25</th>\n",
       "      <td>25</td>\n",
       "      <td>25</td>\n",
       "      <td>A new LGBTQ musical by Thomas Hodges and Patri...</td>\n",
       "      <td>21506</td>\n",
       "      <td>USD</td>\n",
       "      <td>$</td>\n",
       "      <td>True</td>\n",
       "      <td>247017583</td>\n",
       "      <td>Sonata 1962 at the New York Musical Festival 2...</td>\n",
       "      <td>sonata-1962-at-the-new-york-musical-festival-2018</td>\n",
       "      <td>...</td>\n",
       "      <td>successful</td>\n",
       "      <td>2018-06-01 02:00:56</td>\n",
       "      <td>Hodges &amp; Loughrey</td>\n",
       "      <td>{'thumb': 'https://ksr-ugc.imgix.net/assets/02...</td>\n",
       "      <td>{'web': {'user': 'https://www.kickstarter.com/...</td>\n",
       "      <td></td>\n",
       "      <td>16743775</td>\n",
       "      <td>{'web': {'discover': 'http://www.kickstarter.c...</td>\n",
       "      <td>17.0</td>\n",
       "      <td>284</td>\n",
       "    </tr>\n",
       "    <tr>\n",
       "      <th>26</th>\n",
       "      <td>26</td>\n",
       "      <td>26</td>\n",
       "      <td>Preorder some jackalope and nessie pins!</td>\n",
       "      <td>567</td>\n",
       "      <td>USD</td>\n",
       "      <td>$</td>\n",
       "      <td>True</td>\n",
       "      <td>991505653</td>\n",
       "      <td>Cryptid Hard Enamel Pins</td>\n",
       "      <td>cryptid-hard-enamel-pins</td>\n",
       "      <td>...</td>\n",
       "      <td>successful</td>\n",
       "      <td>2018-07-19 15:22:25</td>\n",
       "      <td>Milica</td>\n",
       "      <td>{'thumb': 'https://ksr-ugc.imgix.net/assets/01...</td>\n",
       "      <td>{'web': {'user': 'https://www.kickstarter.com/...</td>\n",
       "      <td></td>\n",
       "      <td>16752598</td>\n",
       "      <td>{'web': {'discover': 'http://www.kickstarter.c...</td>\n",
       "      <td>9.0</td>\n",
       "      <td>262</td>\n",
       "    </tr>\n",
       "    <tr>\n",
       "      <th>27</th>\n",
       "      <td>27</td>\n",
       "      <td>27</td>\n",
       "      <td>These songs have been with me for years, and i...</td>\n",
       "      <td>1791</td>\n",
       "      <td>USD</td>\n",
       "      <td>$</td>\n",
       "      <td>True</td>\n",
       "      <td>2088052382</td>\n",
       "      <td>Aaron's FIRST Full-Length Album</td>\n",
       "      <td>aarons-first-full-length-album</td>\n",
       "      <td>...</td>\n",
       "      <td>successful</td>\n",
       "      <td>2019-03-12 04:59:00</td>\n",
       "      <td>Aaron Simmons</td>\n",
       "      <td>{'thumb': 'https://ksr-ugc.imgix.net/assets/02...</td>\n",
       "      <td>{'web': {'user': 'https://www.kickstarter.com/...</td>\n",
       "      <td>aaronsimmonsalbum</td>\n",
       "      <td>10878931</td>\n",
       "      <td>{'web': {'discover': 'http://www.kickstarter.c...</td>\n",
       "      <td>14.0</td>\n",
       "      <td>37</td>\n",
       "    </tr>\n",
       "    <tr>\n",
       "      <th>28</th>\n",
       "      <td>28</td>\n",
       "      <td>28</td>\n",
       "      <td>We've worked hard over the past months to crea...</td>\n",
       "      <td>515</td>\n",
       "      <td>USD</td>\n",
       "      <td>$</td>\n",
       "      <td>True</td>\n",
       "      <td>1442962702</td>\n",
       "      <td>New EP</td>\n",
       "      <td>new-ep-1</td>\n",
       "      <td>...</td>\n",
       "      <td>successful</td>\n",
       "      <td>2016-10-07 15:14:28</td>\n",
       "      <td>Winner Take All</td>\n",
       "      <td>{'thumb': 'https://ksr-ugc.imgix.net/assets/01...</td>\n",
       "      <td>{'web': {'user': 'https://www.kickstarter.com/...</td>\n",
       "      <td>winnertakealltheband</td>\n",
       "      <td>10878931</td>\n",
       "      <td>{'web': {'discover': 'http://www.kickstarter.c...</td>\n",
       "      <td>14.0</td>\n",
       "      <td>43</td>\n",
       "    </tr>\n",
       "    <tr>\n",
       "      <th>29</th>\n",
       "      <td>29</td>\n",
       "      <td>29</td>\n",
       "      <td>The Virginia Tech Wind Ensemble is traveling t...</td>\n",
       "      <td>3309</td>\n",
       "      <td>USD</td>\n",
       "      <td>$</td>\n",
       "      <td>True</td>\n",
       "      <td>1496594919</td>\n",
       "      <td>The Road to Carnegie Hall</td>\n",
       "      <td>the-road-to-carnegie-hall</td>\n",
       "      <td>...</td>\n",
       "      <td>successful</td>\n",
       "      <td>2013-02-25 22:29:23</td>\n",
       "      <td>Virginia Tech Symphonic Wind Ensemble</td>\n",
       "      <td>{'thumb': 'https://ksr-ugc.imgix.net/assets/00...</td>\n",
       "      <td>{'web': {'user': 'https://www.kickstarter.com/...</td>\n",
       "      <td>vtswe</td>\n",
       "      <td>10878931</td>\n",
       "      <td>{'web': {'discover': 'http://www.kickstarter.c...</td>\n",
       "      <td>14.0</td>\n",
       "      <td>36</td>\n",
       "    </tr>\n",
       "    <tr>\n",
       "      <th>...</th>\n",
       "      <td>...</td>\n",
       "      <td>...</td>\n",
       "      <td>...</td>\n",
       "      <td>...</td>\n",
       "      <td>...</td>\n",
       "      <td>...</td>\n",
       "      <td>...</td>\n",
       "      <td>...</td>\n",
       "      <td>...</td>\n",
       "      <td>...</td>\n",
       "      <td>...</td>\n",
       "      <td>...</td>\n",
       "      <td>...</td>\n",
       "      <td>...</td>\n",
       "      <td>...</td>\n",
       "      <td>...</td>\n",
       "      <td>...</td>\n",
       "      <td>...</td>\n",
       "      <td>...</td>\n",
       "      <td>...</td>\n",
       "      <td>...</td>\n",
       "    </tr>\n",
       "    <tr>\n",
       "      <th>192620</th>\n",
       "      <td>192625</td>\n",
       "      <td>924</td>\n",
       "      <td>The 90's greatest super hero team returns to f...</td>\n",
       "      <td>100</td>\n",
       "      <td>USD</td>\n",
       "      <td>$</td>\n",
       "      <td>True</td>\n",
       "      <td>2025199767</td>\n",
       "      <td>\"Power Rangers Legend of the Dragon\"</td>\n",
       "      <td>power-rangers-legend-of-the-dragon</td>\n",
       "      <td>...</td>\n",
       "      <td>failed</td>\n",
       "      <td>2014-09-05 20:30:43</td>\n",
       "      <td>Matthew Bell</td>\n",
       "      <td>{'thumb': 'https://ksr-ugc.imgix.net/assets/00...</td>\n",
       "      <td>{'web': {'user': 'https://www.kickstarter.com/...</td>\n",
       "      <td></td>\n",
       "      <td>16776056</td>\n",
       "      <td>{'web': {'discover': 'http://www.kickstarter.c...</td>\n",
       "      <td>3.0</td>\n",
       "      <td>253</td>\n",
       "    </tr>\n",
       "    <tr>\n",
       "      <th>192623</th>\n",
       "      <td>192628</td>\n",
       "      <td>927</td>\n",
       "      <td>This event is meant to give inexperienced acto...</td>\n",
       "      <td>205</td>\n",
       "      <td>USD</td>\n",
       "      <td>$</td>\n",
       "      <td>True</td>\n",
       "      <td>1577298340</td>\n",
       "      <td>\"I've Changed, Therefore I AM\" Performance</td>\n",
       "      <td>ive-changed-therefore-i-am-performance</td>\n",
       "      <td>...</td>\n",
       "      <td>failed</td>\n",
       "      <td>2018-02-04 06:00:01</td>\n",
       "      <td>Tayo Talabi</td>\n",
       "      <td>{'thumb': 'https://ksr-ugc.imgix.net/assets/01...</td>\n",
       "      <td>{'web': {'user': 'https://www.kickstarter.com/...</td>\n",
       "      <td></td>\n",
       "      <td>16743775</td>\n",
       "      <td>{'web': {'discover': 'http://www.kickstarter.c...</td>\n",
       "      <td>17.0</td>\n",
       "      <td>282</td>\n",
       "    </tr>\n",
       "    <tr>\n",
       "      <th>192624</th>\n",
       "      <td>192629</td>\n",
       "      <td>928</td>\n",
       "      <td>There are no nerdy things. There are only nerd...</td>\n",
       "      <td>15</td>\n",
       "      <td>USD</td>\n",
       "      <td>$</td>\n",
       "      <td>True</td>\n",
       "      <td>1553699078</td>\n",
       "      <td>The NerdSync Podcast</td>\n",
       "      <td>the-nerdsync-podcast</td>\n",
       "      <td>...</td>\n",
       "      <td>failed</td>\n",
       "      <td>2013-07-03 18:05:37</td>\n",
       "      <td>Scotty Niswander</td>\n",
       "      <td>{'thumb': 'https://ksr-ugc.imgix.net/assets/00...</td>\n",
       "      <td>{'web': {'user': 'https://www.kickstarter.com/...</td>\n",
       "      <td>nerdsync</td>\n",
       "      <td>14867664</td>\n",
       "      <td>{'web': {'discover': 'http://www.kickstarter.c...</td>\n",
       "      <td>18.0</td>\n",
       "      <td>239</td>\n",
       "    </tr>\n",
       "    <tr>\n",
       "      <th>192625</th>\n",
       "      <td>192630</td>\n",
       "      <td>929</td>\n",
       "      <td>I will be recording an 8-bit \"chiptune\" versio...</td>\n",
       "      <td>461</td>\n",
       "      <td>USD</td>\n",
       "      <td>$</td>\n",
       "      <td>True</td>\n",
       "      <td>1697638421</td>\n",
       "      <td>8-bit Music Postcard</td>\n",
       "      <td>8-bit-music-postcard</td>\n",
       "      <td>...</td>\n",
       "      <td>failed</td>\n",
       "      <td>2014-04-06 22:17:36</td>\n",
       "      <td>Norwood Cheek</td>\n",
       "      <td>{'thumb': 'https://ksr-ugc.imgix.net/assets/00...</td>\n",
       "      <td>{'web': {'user': 'https://www.kickstarter.com/...</td>\n",
       "      <td></td>\n",
       "      <td>10878931</td>\n",
       "      <td>{'web': {'discover': 'http://www.kickstarter.c...</td>\n",
       "      <td>14.0</td>\n",
       "      <td>38</td>\n",
       "    </tr>\n",
       "    <tr>\n",
       "      <th>192626</th>\n",
       "      <td>192631</td>\n",
       "      <td>930</td>\n",
       "      <td>inspired by the 80s, 90s synthpop, electronica...</td>\n",
       "      <td>0</td>\n",
       "      <td>CAD</td>\n",
       "      <td>$</td>\n",
       "      <td>True</td>\n",
       "      <td>1663042523</td>\n",
       "      <td>Machine Mother</td>\n",
       "      <td>machine-mother</td>\n",
       "      <td>...</td>\n",
       "      <td>failed</td>\n",
       "      <td>2014-08-28 04:09:51</td>\n",
       "      <td>soroush</td>\n",
       "      <td>{'thumb': 'https://ksr-ugc.imgix.net/assets/00...</td>\n",
       "      <td>{'web': {'user': 'https://www.kickstarter.com/...</td>\n",
       "      <td></td>\n",
       "      <td>10878931</td>\n",
       "      <td>{'web': {'discover': 'http://www.kickstarter.c...</td>\n",
       "      <td>14.0</td>\n",
       "      <td>38</td>\n",
       "    </tr>\n",
       "    <tr>\n",
       "      <th>192627</th>\n",
       "      <td>192632</td>\n",
       "      <td>931</td>\n",
       "      <td>I want to publish a book of my recent painting...</td>\n",
       "      <td>4132</td>\n",
       "      <td>USD</td>\n",
       "      <td>$</td>\n",
       "      <td>True</td>\n",
       "      <td>48578839</td>\n",
       "      <td>ILLUSTRATED SOUNDS OF PHILLY</td>\n",
       "      <td>illustrated-sounds-of-philly</td>\n",
       "      <td>...</td>\n",
       "      <td>successful</td>\n",
       "      <td>2012-07-21 16:23:20</td>\n",
       "      <td>Andre Jones</td>\n",
       "      <td>{'thumb': 'https://ksr-ugc.imgix.net/assets/00...</td>\n",
       "      <td>{'web': {'user': 'https://www.kickstarter.com/...</td>\n",
       "      <td>andrejones</td>\n",
       "      <td>14867664</td>\n",
       "      <td>{'web': {'discover': 'http://www.kickstarter.c...</td>\n",
       "      <td>18.0</td>\n",
       "      <td>45</td>\n",
       "    </tr>\n",
       "    <tr>\n",
       "      <th>192628</th>\n",
       "      <td>192633</td>\n",
       "      <td>932</td>\n",
       "      <td>An iOS and Android game of physics and action ...</td>\n",
       "      <td>108195</td>\n",
       "      <td>USD</td>\n",
       "      <td>$</td>\n",
       "      <td>True</td>\n",
       "      <td>326561469</td>\n",
       "      <td>Girl Genius and the Rats of Mechanicsburg</td>\n",
       "      <td>girl-genius-and-the-rats-of-mechanicsburg</td>\n",
       "      <td>...</td>\n",
       "      <td>successful</td>\n",
       "      <td>2012-12-24 08:01:01</td>\n",
       "      <td>Stephen Beeman</td>\n",
       "      <td>{'thumb': 'https://ksr-ugc.imgix.net/assets/00...</td>\n",
       "      <td>{'web': {'user': 'https://www.kickstarter.com/...</td>\n",
       "      <td>stephenbeeman</td>\n",
       "      <td>51627</td>\n",
       "      <td>{'web': {'discover': 'http://www.kickstarter.c...</td>\n",
       "      <td>12.0</td>\n",
       "      <td>272</td>\n",
       "    </tr>\n",
       "    <tr>\n",
       "      <th>192629</th>\n",
       "      <td>192634</td>\n",
       "      <td>933</td>\n",
       "      <td>Ship Of Death - A story of a young girl who di...</td>\n",
       "      <td>1</td>\n",
       "      <td>USD</td>\n",
       "      <td>$</td>\n",
       "      <td>True</td>\n",
       "      <td>1734116718</td>\n",
       "      <td>Ship Of Death</td>\n",
       "      <td>ship-of-death</td>\n",
       "      <td>...</td>\n",
       "      <td>failed</td>\n",
       "      <td>2017-11-30 10:46:01</td>\n",
       "      <td>J.Michael Piper</td>\n",
       "      <td>{'thumb': 'https://ksr-ugc.imgix.net/assets/01...</td>\n",
       "      <td>{'web': {'user': 'https://www.kickstarter.com/...</td>\n",
       "      <td></td>\n",
       "      <td>16734574</td>\n",
       "      <td>{'web': {'discover': 'http://www.kickstarter.c...</td>\n",
       "      <td>11.0</td>\n",
       "      <td>297</td>\n",
       "    </tr>\n",
       "    <tr>\n",
       "      <th>192631</th>\n",
       "      <td>192636</td>\n",
       "      <td>935</td>\n",
       "      <td>PiUPS is Uninterruptible Power Supply &amp; Portab...</td>\n",
       "      <td>13445</td>\n",
       "      <td>USD</td>\n",
       "      <td>$</td>\n",
       "      <td>True</td>\n",
       "      <td>346719935</td>\n",
       "      <td>PiUPS - Uninterruptible power supply for Raspb...</td>\n",
       "      <td>piups-uninterruptible-power-supply-for-raspber...</td>\n",
       "      <td>...</td>\n",
       "      <td>successful</td>\n",
       "      <td>2014-03-26 18:43:02</td>\n",
       "      <td>OpenElectrons.com</td>\n",
       "      <td>{'thumb': 'https://ksr-ugc.imgix.net/assets/00...</td>\n",
       "      <td>{'web': {'user': 'https://www.kickstarter.com/...</td>\n",
       "      <td></td>\n",
       "      <td>6526716</td>\n",
       "      <td>{'web': {'discover': 'http://www.kickstarter.c...</td>\n",
       "      <td>16.0</td>\n",
       "      <td>52</td>\n",
       "    </tr>\n",
       "    <tr>\n",
       "      <th>192632</th>\n",
       "      <td>192637</td>\n",
       "      <td>936</td>\n",
       "      <td>A straight talking  Online Course about Crypto...</td>\n",
       "      <td>17797</td>\n",
       "      <td>EUR</td>\n",
       "      <td>€</td>\n",
       "      <td>False</td>\n",
       "      <td>1037710032</td>\n",
       "      <td>Cryptocurrency - What's it all about ?</td>\n",
       "      <td>crypto-currency-whats-it-all-about</td>\n",
       "      <td>...</td>\n",
       "      <td>successful</td>\n",
       "      <td>2018-12-30 23:01:00</td>\n",
       "      <td>Esoteric Trading Solutions</td>\n",
       "      <td>{'thumb': 'https://ksr-ugc.imgix.net/assets/02...</td>\n",
       "      <td>{'web': {'user': 'https://www.kickstarter.com/...</td>\n",
       "      <td></td>\n",
       "      <td>6526716</td>\n",
       "      <td>{'web': {'discover': 'http://www.kickstarter.c...</td>\n",
       "      <td>0.0</td>\n",
       "      <td>16</td>\n",
       "    </tr>\n",
       "    <tr>\n",
       "      <th>192633</th>\n",
       "      <td>192638</td>\n",
       "      <td>938</td>\n",
       "      <td>The first publicly accessible space telescope!...</td>\n",
       "      <td>1505366</td>\n",
       "      <td>USD</td>\n",
       "      <td>$</td>\n",
       "      <td>True</td>\n",
       "      <td>1966069095</td>\n",
       "      <td>ARKYD: A Space Telescope for Everyone</td>\n",
       "      <td>arkyd-a-space-telescope-for-everyone-0</td>\n",
       "      <td>...</td>\n",
       "      <td>successful</td>\n",
       "      <td>2013-07-01 02:00:34</td>\n",
       "      <td>Planetary Resources</td>\n",
       "      <td>{'thumb': 'https://ksr-ugc.imgix.net/assets/00...</td>\n",
       "      <td>{'web': {'user': 'https://www.kickstarter.com/...</td>\n",
       "      <td>arkydforeveryone</td>\n",
       "      <td>6526716</td>\n",
       "      <td>{'web': {'discover': 'http://www.kickstarter.c...</td>\n",
       "      <td>16.0</td>\n",
       "      <td>340</td>\n",
       "    </tr>\n",
       "    <tr>\n",
       "      <th>192634</th>\n",
       "      <td>192639</td>\n",
       "      <td>939</td>\n",
       "      <td>Real time video streaming of 3 days journey on...</td>\n",
       "      <td>17</td>\n",
       "      <td>GBP</td>\n",
       "      <td>£</td>\n",
       "      <td>False</td>\n",
       "      <td>1130296767</td>\n",
       "      <td>ATV Online Journey</td>\n",
       "      <td>atv-online-journey</td>\n",
       "      <td>...</td>\n",
       "      <td>failed</td>\n",
       "      <td>2014-06-21 21:00:11</td>\n",
       "      <td>Sergey Knazev</td>\n",
       "      <td>{'thumb': 'https://ksr-ugc.imgix.net/assets/00...</td>\n",
       "      <td>{'web': {'user': 'https://www.kickstarter.com/...</td>\n",
       "      <td></td>\n",
       "      <td>16734574</td>\n",
       "      <td>{'web': {'discover': 'http://www.kickstarter.c...</td>\n",
       "      <td>11.0</td>\n",
       "      <td>294</td>\n",
       "    </tr>\n",
       "    <tr>\n",
       "      <th>192636</th>\n",
       "      <td>192641</td>\n",
       "      <td>941</td>\n",
       "      <td>Would three more inches give your wrist a rest...</td>\n",
       "      <td>567</td>\n",
       "      <td>USD</td>\n",
       "      <td>$</td>\n",
       "      <td>True</td>\n",
       "      <td>452775650</td>\n",
       "      <td>XL Band Leather for Apple Watch in Black/Brown...</td>\n",
       "      <td>xl-band-leather-for-apple-watch-and-24mm-rolex...</td>\n",
       "      <td>...</td>\n",
       "      <td>failed</td>\n",
       "      <td>2017-01-20 23:30:38</td>\n",
       "      <td>BigBands XL for Apple Watch</td>\n",
       "      <td>{'thumb': 'https://ksr-ugc.imgix.net/assets/00...</td>\n",
       "      <td>{'web': {'user': 'https://www.kickstarter.com/...</td>\n",
       "      <td>bigbands</td>\n",
       "      <td>6526716</td>\n",
       "      <td>{'web': {'discover': 'http://www.kickstarter.c...</td>\n",
       "      <td>16.0</td>\n",
       "      <td>341</td>\n",
       "    </tr>\n",
       "    <tr>\n",
       "      <th>192637</th>\n",
       "      <td>192642</td>\n",
       "      <td>942</td>\n",
       "      <td>A children's book and a podcast that reinvent ...</td>\n",
       "      <td>866193</td>\n",
       "      <td>USD</td>\n",
       "      <td>$</td>\n",
       "      <td>True</td>\n",
       "      <td>322116265</td>\n",
       "      <td>Kickstarter Gold: Good Night Stories for Rebel...</td>\n",
       "      <td>kickstarter-gold-good-night-stories-for-rebel-...</td>\n",
       "      <td>...</td>\n",
       "      <td>successful</td>\n",
       "      <td>2017-07-20 06:59:00</td>\n",
       "      <td>Timbuktu Labs</td>\n",
       "      <td>{'thumb': 'https://ksr-ugc.imgix.net/assets/01...</td>\n",
       "      <td>{'web': {'user': 'https://www.kickstarter.com/...</td>\n",
       "      <td>timbuktu</td>\n",
       "      <td>14867664</td>\n",
       "      <td>{'web': {'discover': 'http://www.kickstarter.c...</td>\n",
       "      <td>18.0</td>\n",
       "      <td>46</td>\n",
       "    </tr>\n",
       "    <tr>\n",
       "      <th>192640</th>\n",
       "      <td>192645</td>\n",
       "      <td>945</td>\n",
       "      <td>a dark, twisted thriller feature film explorin...</td>\n",
       "      <td>11747</td>\n",
       "      <td>USD</td>\n",
       "      <td>$</td>\n",
       "      <td>True</td>\n",
       "      <td>875706031</td>\n",
       "      <td>catch 22 redux</td>\n",
       "      <td>catch-22-redux</td>\n",
       "      <td>...</td>\n",
       "      <td>successful</td>\n",
       "      <td>2014-10-14 04:22:00</td>\n",
       "      <td>Josh Folan</td>\n",
       "      <td>{'thumb': 'https://ksr-ugc.imgix.net/assets/00...</td>\n",
       "      <td>{'web': {'user': 'https://www.kickstarter.com/...</td>\n",
       "      <td>joshfolan</td>\n",
       "      <td>16734574</td>\n",
       "      <td>{'web': {'discover': 'http://www.kickstarter.c...</td>\n",
       "      <td>11.0</td>\n",
       "      <td>302</td>\n",
       "    </tr>\n",
       "    <tr>\n",
       "      <th>192641</th>\n",
       "      <td>192646</td>\n",
       "      <td>946</td>\n",
       "      <td>Dusty Lady presents ~ Dirty Goat Roadhouse! Ne...</td>\n",
       "      <td>7558</td>\n",
       "      <td>USD</td>\n",
       "      <td>$</td>\n",
       "      <td>True</td>\n",
       "      <td>67526151</td>\n",
       "      <td>Dirty Goat Roadhouse</td>\n",
       "      <td>dirty-goat-roadhouse</td>\n",
       "      <td>...</td>\n",
       "      <td>successful</td>\n",
       "      <td>2018-08-11 06:59:00</td>\n",
       "      <td>Dirty Goat Roadhouse LLC</td>\n",
       "      <td>{'thumb': 'https://ksr-ugc.imgix.net/assets/02...</td>\n",
       "      <td>{'web': {'user': 'https://www.kickstarter.com/...</td>\n",
       "      <td></td>\n",
       "      <td>16760235</td>\n",
       "      <td>{'web': {'discover': 'http://www.kickstarter.c...</td>\n",
       "      <td>0.0</td>\n",
       "      <td>1</td>\n",
       "    </tr>\n",
       "    <tr>\n",
       "      <th>192642</th>\n",
       "      <td>192647</td>\n",
       "      <td>947</td>\n",
       "      <td>Hi! i start to make a music about 5 years ago ...</td>\n",
       "      <td>21</td>\n",
       "      <td>EUR</td>\n",
       "      <td>€</td>\n",
       "      <td>False</td>\n",
       "      <td>343663937</td>\n",
       "      <td>Debut of my Music Album! Please help...it's my...</td>\n",
       "      <td>debut-of-my-music-album-please-helpits-my-dream</td>\n",
       "      <td>...</td>\n",
       "      <td>failed</td>\n",
       "      <td>2016-03-08 03:01:54</td>\n",
       "      <td>Andrea</td>\n",
       "      <td>{'thumb': 'https://ksr-ugc.imgix.net/assets/01...</td>\n",
       "      <td>{'web': {'user': 'https://www.kickstarter.com/...</td>\n",
       "      <td></td>\n",
       "      <td>10878931</td>\n",
       "      <td>{'web': {'discover': 'http://www.kickstarter.c...</td>\n",
       "      <td>14.0</td>\n",
       "      <td>39</td>\n",
       "    </tr>\n",
       "    <tr>\n",
       "      <th>192643</th>\n",
       "      <td>192648</td>\n",
       "      <td>948</td>\n",
       "      <td>You cannot neglect the importance of checking ...</td>\n",
       "      <td>9834</td>\n",
       "      <td>USD</td>\n",
       "      <td>$</td>\n",
       "      <td>True</td>\n",
       "      <td>106246791</td>\n",
       "      <td>Bring an efficient incentive breath to your li...</td>\n",
       "      <td>bring-an-efficient-incentive-breath-to-your-li...</td>\n",
       "      <td>...</td>\n",
       "      <td>failed</td>\n",
       "      <td>2017-08-16 01:52:16</td>\n",
       "      <td>ezOxygen</td>\n",
       "      <td>{'thumb': 'https://ksr-ugc.imgix.net/assets/01...</td>\n",
       "      <td>{'web': {'user': 'https://www.kickstarter.com/...</td>\n",
       "      <td></td>\n",
       "      <td>6526716</td>\n",
       "      <td>{'web': {'discover': 'http://www.kickstarter.c...</td>\n",
       "      <td>16.0</td>\n",
       "      <td>341</td>\n",
       "    </tr>\n",
       "    <tr>\n",
       "      <th>192644</th>\n",
       "      <td>192649</td>\n",
       "      <td>949</td>\n",
       "      <td>An open-world action game for fans of single-p...</td>\n",
       "      <td>35640</td>\n",
       "      <td>USD</td>\n",
       "      <td>$</td>\n",
       "      <td>True</td>\n",
       "      <td>1727180874</td>\n",
       "      <td>Anew: The Distant Light</td>\n",
       "      <td>anew-the-distant-light</td>\n",
       "      <td>...</td>\n",
       "      <td>successful</td>\n",
       "      <td>2017-03-20 06:59:02</td>\n",
       "      <td>Resonator</td>\n",
       "      <td>{'thumb': 'https://ksr-ugc.imgix.net/assets/01...</td>\n",
       "      <td>{'web': {'user': 'https://www.kickstarter.com/...</td>\n",
       "      <td></td>\n",
       "      <td>51627</td>\n",
       "      <td>{'web': {'discover': 'http://www.kickstarter.c...</td>\n",
       "      <td>12.0</td>\n",
       "      <td>35</td>\n",
       "    </tr>\n",
       "    <tr>\n",
       "      <th>192645</th>\n",
       "      <td>192650</td>\n",
       "      <td>950</td>\n",
       "      <td>Buyers Remorse II. Is a continuation from our ...</td>\n",
       "      <td>0</td>\n",
       "      <td>USD</td>\n",
       "      <td>$</td>\n",
       "      <td>True</td>\n",
       "      <td>1039527544</td>\n",
       "      <td>\"Buyers Remorse II.\" The hunt for \"Ray Clark\"!</td>\n",
       "      <td>buyers-remorse-ii-the-hunt-for-ray-clark</td>\n",
       "      <td>...</td>\n",
       "      <td>failed</td>\n",
       "      <td>2015-05-04 19:48:15</td>\n",
       "      <td>Mike Freland</td>\n",
       "      <td>{'thumb': 'https://ksr-ugc.imgix.net/assets/00...</td>\n",
       "      <td>{'web': {'user': 'https://www.kickstarter.com/...</td>\n",
       "      <td></td>\n",
       "      <td>16734574</td>\n",
       "      <td>{'web': {'discover': 'http://www.kickstarter.c...</td>\n",
       "      <td>11.0</td>\n",
       "      <td>302</td>\n",
       "    </tr>\n",
       "    <tr>\n",
       "      <th>192646</th>\n",
       "      <td>192651</td>\n",
       "      <td>951</td>\n",
       "      <td>Partner with Misty Rae Carson to help make her...</td>\n",
       "      <td>4654</td>\n",
       "      <td>USD</td>\n",
       "      <td>$</td>\n",
       "      <td>True</td>\n",
       "      <td>849085254</td>\n",
       "      <td>Misty Rae Carson's Debut Music Video</td>\n",
       "      <td>misty-rae-carsons-debut-music-video</td>\n",
       "      <td>...</td>\n",
       "      <td>successful</td>\n",
       "      <td>2014-03-13 23:12:13</td>\n",
       "      <td>Misty Rae Carson</td>\n",
       "      <td>{'thumb': 'https://ksr-ugc.imgix.net/assets/00...</td>\n",
       "      <td>{'web': {'user': 'https://www.kickstarter.com/...</td>\n",
       "      <td></td>\n",
       "      <td>16734574</td>\n",
       "      <td>{'web': {'discover': 'http://www.kickstarter.c...</td>\n",
       "      <td>11.0</td>\n",
       "      <td>299</td>\n",
       "    </tr>\n",
       "    <tr>\n",
       "      <th>192647</th>\n",
       "      <td>192652</td>\n",
       "      <td>952</td>\n",
       "      <td>The Reel Cinemas Anthony Wayne 5 wishes to imp...</td>\n",
       "      <td>484</td>\n",
       "      <td>USD</td>\n",
       "      <td>$</td>\n",
       "      <td>True</td>\n",
       "      <td>758901943</td>\n",
       "      <td>Innovation Through Digitalization (Anthony Way...</td>\n",
       "      <td>innovation-through-digitalization-anthony-wayn...</td>\n",
       "      <td>...</td>\n",
       "      <td>failed</td>\n",
       "      <td>2014-01-01 05:00:15</td>\n",
       "      <td>Greg Wax</td>\n",
       "      <td>{'thumb': 'https://ksr-ugc.imgix.net/assets/00...</td>\n",
       "      <td>{'web': {'user': 'https://www.kickstarter.com/...</td>\n",
       "      <td></td>\n",
       "      <td>16734574</td>\n",
       "      <td>{'web': {'discover': 'http://www.kickstarter.c...</td>\n",
       "      <td>11.0</td>\n",
       "      <td>298</td>\n",
       "    </tr>\n",
       "    <tr>\n",
       "      <th>192648</th>\n",
       "      <td>192653</td>\n",
       "      <td>953</td>\n",
       "      <td>Alison's a UK musician specialising in bollywo...</td>\n",
       "      <td>167</td>\n",
       "      <td>GBP</td>\n",
       "      <td>£</td>\n",
       "      <td>False</td>\n",
       "      <td>1593158496</td>\n",
       "      <td>Alison's debut CD: Bollywood electric cello (I...</td>\n",
       "      <td>alison-gabrielles-debut-cd-bollywood-covers-el...</td>\n",
       "      <td>...</td>\n",
       "      <td>failed</td>\n",
       "      <td>2014-05-02 14:33:00</td>\n",
       "      <td>Alison Gabrielle</td>\n",
       "      <td>{'thumb': 'https://ksr-ugc.imgix.net/assets/00...</td>\n",
       "      <td>{'web': {'user': 'https://www.kickstarter.com/...</td>\n",
       "      <td></td>\n",
       "      <td>10878931</td>\n",
       "      <td>{'web': {'discover': 'http://www.kickstarter.c...</td>\n",
       "      <td>14.0</td>\n",
       "      <td>44</td>\n",
       "    </tr>\n",
       "    <tr>\n",
       "      <th>192649</th>\n",
       "      <td>192654</td>\n",
       "      <td>954</td>\n",
       "      <td>The Non-Visible Museum of Art is where ideas a...</td>\n",
       "      <td>16197</td>\n",
       "      <td>USD</td>\n",
       "      <td>$</td>\n",
       "      <td>True</td>\n",
       "      <td>1060238474</td>\n",
       "      <td>Museum of Non-Visible Art- Praxis &amp; James Fran...</td>\n",
       "      <td>museum-of-non-visible-art-praxis-and-james-franco</td>\n",
       "      <td>...</td>\n",
       "      <td>successful</td>\n",
       "      <td>2011-08-31 05:11:00</td>\n",
       "      <td>Brainard and Delia Carey</td>\n",
       "      <td>{'thumb': 'https://ksr-ugc.imgix.net/assets/00...</td>\n",
       "      <td>{'web': {'user': 'https://www.kickstarter.com/...</td>\n",
       "      <td>praxis</td>\n",
       "      <td>16760235</td>\n",
       "      <td>{'web': {'discover': 'http://www.kickstarter.c...</td>\n",
       "      <td>1.0</td>\n",
       "      <td>20</td>\n",
       "    </tr>\n",
       "    <tr>\n",
       "      <th>192651</th>\n",
       "      <td>192656</td>\n",
       "      <td>956</td>\n",
       "      <td>The Liberal Studies Leader is a website for sh...</td>\n",
       "      <td>0</td>\n",
       "      <td>USD</td>\n",
       "      <td>$</td>\n",
       "      <td>True</td>\n",
       "      <td>1706769667</td>\n",
       "      <td>The Liberal Studies Leader</td>\n",
       "      <td>the-liberal-studies-leader</td>\n",
       "      <td>...</td>\n",
       "      <td>failed</td>\n",
       "      <td>2017-04-16 16:55:37</td>\n",
       "      <td>Brian Darling</td>\n",
       "      <td>{'thumb': 'https://ksr-ugc.imgix.net/assets/01...</td>\n",
       "      <td>{'web': {'user': 'https://www.kickstarter.com/...</td>\n",
       "      <td>briancdarling</td>\n",
       "      <td>14867664</td>\n",
       "      <td>{'web': {'discover': 'http://www.kickstarter.c...</td>\n",
       "      <td>18.0</td>\n",
       "      <td>323</td>\n",
       "    </tr>\n",
       "    <tr>\n",
       "      <th>192652</th>\n",
       "      <td>192657</td>\n",
       "      <td>957</td>\n",
       "      <td>There are known website for providing free and...</td>\n",
       "      <td>135</td>\n",
       "      <td>USD</td>\n",
       "      <td>$</td>\n",
       "      <td>True</td>\n",
       "      <td>329361477</td>\n",
       "      <td>Art and craft free resources website</td>\n",
       "      <td>art-and-craft-free-resources-website</td>\n",
       "      <td>...</td>\n",
       "      <td>failed</td>\n",
       "      <td>2017-03-23 17:42:02</td>\n",
       "      <td>Samik Sil</td>\n",
       "      <td>{'thumb': 'https://ksr-ugc.imgix.net/assets/00...</td>\n",
       "      <td>{'web': {'user': 'https://www.kickstarter.com/...</td>\n",
       "      <td></td>\n",
       "      <td>16744876</td>\n",
       "      <td>{'web': {'discover': 'http://www.kickstarter.c...</td>\n",
       "      <td>26.0</td>\n",
       "      <td>344</td>\n",
       "    </tr>\n",
       "    <tr>\n",
       "      <th>192653</th>\n",
       "      <td>192658</td>\n",
       "      <td>958</td>\n",
       "      <td>The first book in an inspirational series for ...</td>\n",
       "      <td>18608</td>\n",
       "      <td>USD</td>\n",
       "      <td>$</td>\n",
       "      <td>True</td>\n",
       "      <td>1535606205</td>\n",
       "      <td>Enny Penny's Wishes</td>\n",
       "      <td>enny-pennys-wishes</td>\n",
       "      <td>...</td>\n",
       "      <td>successful</td>\n",
       "      <td>2013-08-11 11:46:39</td>\n",
       "      <td>Erin Hartung (deleted)</td>\n",
       "      <td>{'thumb': 'https://ksr-ugc.imgix.net/assets/00...</td>\n",
       "      <td>{'web': {'user': 'https://www.kickstarter.com/...</td>\n",
       "      <td></td>\n",
       "      <td>14867664</td>\n",
       "      <td>{'web': {'discover': 'http://www.kickstarter.c...</td>\n",
       "      <td>18.0</td>\n",
       "      <td>46</td>\n",
       "    </tr>\n",
       "    <tr>\n",
       "      <th>192655</th>\n",
       "      <td>192660</td>\n",
       "      <td>961</td>\n",
       "      <td>Over 250 healthy recipes free from ANY added S...</td>\n",
       "      <td>305</td>\n",
       "      <td>AUD</td>\n",
       "      <td>$</td>\n",
       "      <td>True</td>\n",
       "      <td>298098561</td>\n",
       "      <td>Fusion Detox - Chef Alan Wichert creates THE h...</td>\n",
       "      <td>fusion-detox-chef-alan-wichert-creates-the-health</td>\n",
       "      <td>...</td>\n",
       "      <td>failed</td>\n",
       "      <td>2016-01-25 09:15:10</td>\n",
       "      <td>Alan Wichert</td>\n",
       "      <td>{'thumb': 'https://ksr-ugc.imgix.net/assets/01...</td>\n",
       "      <td>{'web': {'user': 'https://www.kickstarter.com/...</td>\n",
       "      <td></td>\n",
       "      <td>16725570</td>\n",
       "      <td>{'web': {'discover': 'http://www.kickstarter.c...</td>\n",
       "      <td>10.0</td>\n",
       "      <td>306</td>\n",
       "    </tr>\n",
       "    <tr>\n",
       "      <th>192656</th>\n",
       "      <td>192661</td>\n",
       "      <td>962</td>\n",
       "      <td>Give your baby style and flair with \"Gorgeous ...</td>\n",
       "      <td>0</td>\n",
       "      <td>USD</td>\n",
       "      <td>$</td>\n",
       "      <td>True</td>\n",
       "      <td>2048460852</td>\n",
       "      <td>Gorgeous Princess Cheetah Collection</td>\n",
       "      <td>gorgeous-princess-cheetah-collection</td>\n",
       "      <td>...</td>\n",
       "      <td>failed</td>\n",
       "      <td>2016-09-25 21:09:15</td>\n",
       "      <td>T. Simms</td>\n",
       "      <td>{'thumb': 'https://ksr-ugc.imgix.net/assets/01...</td>\n",
       "      <td>{'web': {'user': 'https://www.kickstarter.com/...</td>\n",
       "      <td>1prettytea</td>\n",
       "      <td>16752598</td>\n",
       "      <td>{'web': {'discover': 'http://www.kickstarter.c...</td>\n",
       "      <td>9.0</td>\n",
       "      <td>264</td>\n",
       "    </tr>\n",
       "    <tr>\n",
       "      <th>192657</th>\n",
       "      <td>192662</td>\n",
       "      <td>963</td>\n",
       "      <td>\"The Lion &amp; the Lyceum\" is a children's book a...</td>\n",
       "      <td>1400</td>\n",
       "      <td>USD</td>\n",
       "      <td>$</td>\n",
       "      <td>True</td>\n",
       "      <td>1124247806</td>\n",
       "      <td>\"The Lion &amp; The Lyceum\" Children's Book - Base...</td>\n",
       "      <td>the-lion-and-the-lyceum-childrens-book-based-o...</td>\n",
       "      <td>...</td>\n",
       "      <td>successful</td>\n",
       "      <td>2015-03-19 05:00:14</td>\n",
       "      <td>Alex Beene</td>\n",
       "      <td>{'thumb': 'https://ksr-ugc.imgix.net/assets/00...</td>\n",
       "      <td>{'web': {'user': 'https://www.kickstarter.com/...</td>\n",
       "      <td></td>\n",
       "      <td>14867664</td>\n",
       "      <td>{'web': {'discover': 'http://www.kickstarter.c...</td>\n",
       "      <td>18.0</td>\n",
       "      <td>46</td>\n",
       "    </tr>\n",
       "  </tbody>\n",
       "</table>\n",
       "<p>168975 rows × 21 columns</p>\n",
       "</div>"
      ],
      "text/plain": [
       "        level_0  index                                              blurb  \\\n",
       "0             0      0  2006 was almost 7 years ago.... Can you believ...   \n",
       "1             1      1  An adorable fantasy enamel pin series of princ...   \n",
       "2             2      2  Helping a community come together to set the s...   \n",
       "3             3      3  Every revolution starts from the bottom and we...   \n",
       "4             4      4  Learn to build 10+ Applications in this comple...   \n",
       "5             5      5  'Eclipse' - A 30mm hard enamel pin in jet blac...   \n",
       "6             6      6  Tao Of Maceo is a professionally printed journ...   \n",
       "7             7      7  Let's build and remix a new Personal Web Theme...   \n",
       "8             8      8  A limited edition, signed and numbered hand sc...   \n",
       "9             9      9  Play this hilarious, nonsensical card game for...   \n",
       "10           10     10  An homage to Mark Twain Manor, our former home...   \n",
       "11           11     11  A project giving voice to individuals living a...   \n",
       "12           12     12  Award Winning Footwear Designs | Crafted Using...   \n",
       "13           13     13  NAKEFIT: Hypoallergenic adhesive pad for walki...   \n",
       "14           14     14  OVERTHROW THE KING AND TAKE WHAT IS YOURS & Ki...   \n",
       "15           15     15  We are trying to reopen Gabutto Burger! Our Ja...   \n",
       "16           16     16  As a landscape photographer and avid hiker thi...   \n",
       "17           17     17  A project that tells the stories of photograph...   \n",
       "18           18     18  The Marks You Leave, a new play by Tyler Andre...   \n",
       "19           19     19  We need to renovate to move forward, and conti...   \n",
       "20           20     20  Called \"focused. penetrating. radiant.\", the L...   \n",
       "21           21     21  Help me with the cost of digital and physical ...   \n",
       "22           22     22  Inspire acceptance, unity and inclusion! For p...   \n",
       "23           23     23  Commercial and residential construction projec...   \n",
       "24           24     24  An incredibly short (and hopefully fun) book n...   \n",
       "25           25     25  A new LGBTQ musical by Thomas Hodges and Patri...   \n",
       "26           26     26           Preorder some jackalope and nessie pins!   \n",
       "27           27     27  These songs have been with me for years, and i...   \n",
       "28           28     28  We've worked hard over the past months to crea...   \n",
       "29           29     29  The Virginia Tech Wind Ensemble is traveling t...   \n",
       "...         ...    ...                                                ...   \n",
       "192620   192625    924  The 90's greatest super hero team returns to f...   \n",
       "192623   192628    927  This event is meant to give inexperienced acto...   \n",
       "192624   192629    928  There are no nerdy things. There are only nerd...   \n",
       "192625   192630    929  I will be recording an 8-bit \"chiptune\" versio...   \n",
       "192626   192631    930  inspired by the 80s, 90s synthpop, electronica...   \n",
       "192627   192632    931  I want to publish a book of my recent painting...   \n",
       "192628   192633    932  An iOS and Android game of physics and action ...   \n",
       "192629   192634    933  Ship Of Death - A story of a young girl who di...   \n",
       "192631   192636    935  PiUPS is Uninterruptible Power Supply & Portab...   \n",
       "192632   192637    936  A straight talking  Online Course about Crypto...   \n",
       "192633   192638    938  The first publicly accessible space telescope!...   \n",
       "192634   192639    939  Real time video streaming of 3 days journey on...   \n",
       "192636   192641    941  Would three more inches give your wrist a rest...   \n",
       "192637   192642    942  A children's book and a podcast that reinvent ...   \n",
       "192640   192645    945  a dark, twisted thriller feature film explorin...   \n",
       "192641   192646    946  Dusty Lady presents ~ Dirty Goat Roadhouse! Ne...   \n",
       "192642   192647    947  Hi! i start to make a music about 5 years ago ...   \n",
       "192643   192648    948  You cannot neglect the importance of checking ...   \n",
       "192644   192649    949  An open-world action game for fans of single-p...   \n",
       "192645   192650    950  Buyers Remorse II. Is a continuation from our ...   \n",
       "192646   192651    951  Partner with Misty Rae Carson to help make her...   \n",
       "192647   192652    952  The Reel Cinemas Anthony Wayne 5 wishes to imp...   \n",
       "192648   192653    953  Alison's a UK musician specialising in bollywo...   \n",
       "192649   192654    954  The Non-Visible Museum of Art is where ideas a...   \n",
       "192651   192656    956  The Liberal Studies Leader is a website for sh...   \n",
       "192652   192657    957  There are known website for providing free and...   \n",
       "192653   192658    958  The first book in an inspirational series for ...   \n",
       "192655   192660    961  Over 250 healthy recipes free from ANY added S...   \n",
       "192656   192661    962  Give your baby style and flair with \"Gorgeous ...   \n",
       "192657   192662    963  \"The Lion & the Lyceum\" is a children's book a...   \n",
       "\n",
       "        converted_pledged_amount currency currency_symbol  \\\n",
       "0                            802      USD               $   \n",
       "1                           2259      USD               $   \n",
       "2                          29638      USD               $   \n",
       "3                          49158      EUR               €   \n",
       "4                            549      USD               $   \n",
       "5                           2117      GBP               £   \n",
       "6                            886      USD               $   \n",
       "7                             30      USD               $   \n",
       "8                             70      USD               $   \n",
       "9                           1344      USD               $   \n",
       "10                           230      USD               $   \n",
       "11                          6902      CAD               $   \n",
       "12                           631      GBP               £   \n",
       "13                        336729      EUR               €   \n",
       "14                             0      USD               $   \n",
       "15                         10053      USD               $   \n",
       "16                          2478      USD               $   \n",
       "17                         20769      USD               $   \n",
       "18                         11550      USD               $   \n",
       "19                          6420      USD               $   \n",
       "20                            25      USD               $   \n",
       "21                           699      GBP               £   \n",
       "22                          6022      USD               $   \n",
       "23                            30      USD               $   \n",
       "24                           582      USD               $   \n",
       "25                         21506      USD               $   \n",
       "26                           567      USD               $   \n",
       "27                          1791      USD               $   \n",
       "28                           515      USD               $   \n",
       "29                          3309      USD               $   \n",
       "...                          ...      ...             ...   \n",
       "192620                       100      USD               $   \n",
       "192623                       205      USD               $   \n",
       "192624                        15      USD               $   \n",
       "192625                       461      USD               $   \n",
       "192626                         0      CAD               $   \n",
       "192627                      4132      USD               $   \n",
       "192628                    108195      USD               $   \n",
       "192629                         1      USD               $   \n",
       "192631                     13445      USD               $   \n",
       "192632                     17797      EUR               €   \n",
       "192633                   1505366      USD               $   \n",
       "192634                        17      GBP               £   \n",
       "192636                       567      USD               $   \n",
       "192637                    866193      USD               $   \n",
       "192640                     11747      USD               $   \n",
       "192641                      7558      USD               $   \n",
       "192642                        21      EUR               €   \n",
       "192643                      9834      USD               $   \n",
       "192644                     35640      USD               $   \n",
       "192645                         0      USD               $   \n",
       "192646                      4654      USD               $   \n",
       "192647                       484      USD               $   \n",
       "192648                       167      GBP               £   \n",
       "192649                     16197      USD               $   \n",
       "192651                         0      USD               $   \n",
       "192652                       135      USD               $   \n",
       "192653                     18608      USD               $   \n",
       "192655                       305      AUD               $   \n",
       "192656                         0      USD               $   \n",
       "192657                      1400      USD               $   \n",
       "\n",
       "        currency_trailing_code          id  \\\n",
       "0                         True   287514992   \n",
       "1                         True   385129759   \n",
       "2                         True   681033598   \n",
       "3                        False  1031782682   \n",
       "4                         True   904085819   \n",
       "5                        False  1140013344   \n",
       "6                         True  1136128624   \n",
       "7                         True  1502040661   \n",
       "8                         True  1163929691   \n",
       "9                         True   410663165   \n",
       "10                        True  1931303220   \n",
       "11                        True  1475503766   \n",
       "12                       False   413235128   \n",
       "13                       False   191854267   \n",
       "14                        True  1651386891   \n",
       "15                        True  1572137431   \n",
       "16                        True   641147491   \n",
       "17                        True  1627504478   \n",
       "18                        True   603811861   \n",
       "19                        True   956020785   \n",
       "20                        True  1684328646   \n",
       "21                       False  1117018758   \n",
       "22                        True  1442831759   \n",
       "23                        True   917498042   \n",
       "24                        True  2085616029   \n",
       "25                        True   247017583   \n",
       "26                        True   991505653   \n",
       "27                        True  2088052382   \n",
       "28                        True  1442962702   \n",
       "29                        True  1496594919   \n",
       "...                        ...         ...   \n",
       "192620                    True  2025199767   \n",
       "192623                    True  1577298340   \n",
       "192624                    True  1553699078   \n",
       "192625                    True  1697638421   \n",
       "192626                    True  1663042523   \n",
       "192627                    True    48578839   \n",
       "192628                    True   326561469   \n",
       "192629                    True  1734116718   \n",
       "192631                    True   346719935   \n",
       "192632                   False  1037710032   \n",
       "192633                    True  1966069095   \n",
       "192634                   False  1130296767   \n",
       "192636                    True   452775650   \n",
       "192637                    True   322116265   \n",
       "192640                    True   875706031   \n",
       "192641                    True    67526151   \n",
       "192642                   False   343663937   \n",
       "192643                    True   106246791   \n",
       "192644                    True  1727180874   \n",
       "192645                    True  1039527544   \n",
       "192646                    True   849085254   \n",
       "192647                    True   758901943   \n",
       "192648                   False  1593158496   \n",
       "192649                    True  1060238474   \n",
       "192651                    True  1706769667   \n",
       "192652                    True   329361477   \n",
       "192653                    True  1535606205   \n",
       "192655                    True   298098561   \n",
       "192656                    True  2048460852   \n",
       "192657                    True  1124247806   \n",
       "\n",
       "                                                     name  \\\n",
       "0                                   New Final Round Album   \n",
       "1                         Princess Pals Enamel Pin Series   \n",
       "2       Their Life Through Their Lens-the Amish and Me...   \n",
       "3                               WAO: THE ECO EFFECT SHOES   \n",
       "4                          Apple Watch Development Course   \n",
       "5                                 Saluki Totem Enamel Pin   \n",
       "6                              Quickstarter: Tao Of Maceo   \n",
       "7           #lolnub. Web Theme Park and Story Attraction.   \n",
       "8                Limited Edition Heroic Fireman Statuette   \n",
       "9                                                 PRATTLE   \n",
       "10              End of an Era — If These Walls Could Talk   \n",
       "11      Line In The Sand: Stories from the Northern Ga...   \n",
       "12      Avalon Nero | Handcrafted Prestige Men's Shoes...   \n",
       "13                                                Nakefit   \n",
       "14                    War of Dragons ,Fight to the Finish   \n",
       "15            Japanese Burger Anime Cafe (Gabutto Burger)   \n",
       "16           Pacific Crest Trail - A Photographic Journey   \n",
       "17                              FROM DARKROOM TO DAYLIGHT   \n",
       "18                                    The Marks You Leave   \n",
       "19            The Secret Alley's Gallery...The Galallery!   \n",
       "20              PiE presents the Lyris Quartet in Concert   \n",
       "21                   Joe Head - Debut Album Launch - 2018   \n",
       "22        HUMAN BEANS: Unique Candy with a Sweet Message!   \n",
       "23                         Fund Construction Projects.com   \n",
       "24                               Marriage. Story. Heaven.   \n",
       "25      Sonata 1962 at the New York Musical Festival 2...   \n",
       "26                               Cryptid Hard Enamel Pins   \n",
       "27                        Aaron's FIRST Full-Length Album   \n",
       "28                                                 New EP   \n",
       "29                              The Road to Carnegie Hall   \n",
       "...                                                   ...   \n",
       "192620               \"Power Rangers Legend of the Dragon\"   \n",
       "192623         \"I've Changed, Therefore I AM\" Performance   \n",
       "192624                               The NerdSync Podcast   \n",
       "192625                               8-bit Music Postcard   \n",
       "192626                                     Machine Mother   \n",
       "192627                       ILLUSTRATED SOUNDS OF PHILLY   \n",
       "192628          Girl Genius and the Rats of Mechanicsburg   \n",
       "192629                                      Ship Of Death   \n",
       "192631  PiUPS - Uninterruptible power supply for Raspb...   \n",
       "192632             Cryptocurrency - What's it all about ?   \n",
       "192633              ARKYD: A Space Telescope for Everyone   \n",
       "192634                                 ATV Online Journey   \n",
       "192636  XL Band Leather for Apple Watch in Black/Brown...   \n",
       "192637  Kickstarter Gold: Good Night Stories for Rebel...   \n",
       "192640                                     catch 22 redux   \n",
       "192641                               Dirty Goat Roadhouse   \n",
       "192642  Debut of my Music Album! Please help...it's my...   \n",
       "192643  Bring an efficient incentive breath to your li...   \n",
       "192644                            Anew: The Distant Light   \n",
       "192645     \"Buyers Remorse II.\" The hunt for \"Ray Clark\"!   \n",
       "192646               Misty Rae Carson's Debut Music Video   \n",
       "192647  Innovation Through Digitalization (Anthony Way...   \n",
       "192648  Alison's debut CD: Bollywood electric cello (I...   \n",
       "192649  Museum of Non-Visible Art- Praxis & James Fran...   \n",
       "192651                         The Liberal Studies Leader   \n",
       "192652               Art and craft free resources website   \n",
       "192653                                Enny Penny's Wishes   \n",
       "192655  Fusion Detox - Chef Alan Wichert creates THE h...   \n",
       "192656               Gorgeous Princess Cheetah Collection   \n",
       "192657  \"The Lion & The Lyceum\" Children's Book - Base...   \n",
       "\n",
       "                                                     slug  ...       state  \\\n",
       "0                                   new-final-round-album  ...  successful   \n",
       "1                         princess-pals-enamel-pin-series  ...  successful   \n",
       "2       their-life-through-their-lens-the-amish-and-me...  ...  successful   \n",
       "3                                wao-the-eco-effect-shoes  ...  successful   \n",
       "4                          apple-watch-development-course  ...      failed   \n",
       "5                                 saluki-totem-enamel-pin  ...  successful   \n",
       "6                               quickstarter-tao-of-maceo  ...  successful   \n",
       "7              lolnub-web-theme-park-and-story-attraction  ...      failed   \n",
       "8                limited-edition-heroic-fireman-statuette  ...      failed   \n",
       "9                                                 prattle  ...      failed   \n",
       "10                end-of-an-era-if-these-walls-could-talk  ...  successful   \n",
       "11      line-in-the-sand-stories-from-the-northern-gat...  ...  successful   \n",
       "12      avalon-nero-handcrafted-prestige-mens-shoes-lo...  ...  successful   \n",
       "13                                                nakefit  ...  successful   \n",
       "14                     war-of-dragons-fight-to-the-finish  ...      failed   \n",
       "15              japanese-burger-anime-cafe-gabutto-burger  ...  successful   \n",
       "16             pacific-crest-trail-a-photographic-journey  ...  successful   \n",
       "17                              from-darkroom-to-daylight  ...  successful   \n",
       "18                                    the-marks-you-leave  ...  successful   \n",
       "19                 the-secret-alleys-gallerythe-galallery  ...  successful   \n",
       "20              pie-presents-the-lyris-quartet-in-concert  ...      failed   \n",
       "21                       joe-head-debut-album-launch-2018  ...  successful   \n",
       "22          human-beans-unique-candy-with-a-sweet-message  ...  successful   \n",
       "23                          fund-construction-projectscom  ...      failed   \n",
       "24                                  marriage-story-heaven  ...  successful   \n",
       "25      sonata-1962-at-the-new-york-musical-festival-2018  ...  successful   \n",
       "26                               cryptid-hard-enamel-pins  ...  successful   \n",
       "27                         aarons-first-full-length-album  ...  successful   \n",
       "28                                               new-ep-1  ...  successful   \n",
       "29                              the-road-to-carnegie-hall  ...  successful   \n",
       "...                                                   ...  ...         ...   \n",
       "192620                 power-rangers-legend-of-the-dragon  ...      failed   \n",
       "192623             ive-changed-therefore-i-am-performance  ...      failed   \n",
       "192624                               the-nerdsync-podcast  ...      failed   \n",
       "192625                               8-bit-music-postcard  ...      failed   \n",
       "192626                                     machine-mother  ...      failed   \n",
       "192627                       illustrated-sounds-of-philly  ...  successful   \n",
       "192628          girl-genius-and-the-rats-of-mechanicsburg  ...  successful   \n",
       "192629                                      ship-of-death  ...      failed   \n",
       "192631  piups-uninterruptible-power-supply-for-raspber...  ...  successful   \n",
       "192632                 crypto-currency-whats-it-all-about  ...  successful   \n",
       "192633             arkyd-a-space-telescope-for-everyone-0  ...  successful   \n",
       "192634                                 atv-online-journey  ...      failed   \n",
       "192636  xl-band-leather-for-apple-watch-and-24mm-rolex...  ...      failed   \n",
       "192637  kickstarter-gold-good-night-stories-for-rebel-...  ...  successful   \n",
       "192640                                     catch-22-redux  ...  successful   \n",
       "192641                               dirty-goat-roadhouse  ...  successful   \n",
       "192642    debut-of-my-music-album-please-helpits-my-dream  ...      failed   \n",
       "192643  bring-an-efficient-incentive-breath-to-your-li...  ...      failed   \n",
       "192644                             anew-the-distant-light  ...  successful   \n",
       "192645           buyers-remorse-ii-the-hunt-for-ray-clark  ...      failed   \n",
       "192646                misty-rae-carsons-debut-music-video  ...  successful   \n",
       "192647  innovation-through-digitalization-anthony-wayn...  ...      failed   \n",
       "192648  alison-gabrielles-debut-cd-bollywood-covers-el...  ...      failed   \n",
       "192649  museum-of-non-visible-art-praxis-and-james-franco  ...  successful   \n",
       "192651                         the-liberal-studies-leader  ...      failed   \n",
       "192652               art-and-craft-free-resources-website  ...      failed   \n",
       "192653                                 enny-pennys-wishes  ...  successful   \n",
       "192655  fusion-detox-chef-alan-wichert-creates-the-health  ...      failed   \n",
       "192656               gorgeous-princess-cheetah-collection  ...      failed   \n",
       "192657  the-lion-and-the-lyceum-childrens-book-based-o...  ...  successful   \n",
       "\n",
       "          state_changed_at                              crea_name  \\\n",
       "0      2014-02-08 22:37:26                                 Daniel   \n",
       "1      2019-03-05 16:00:11                              Katherine   \n",
       "2      2016-12-01 15:58:52                          MelissaThomas   \n",
       "3      2018-12-08 22:59:00                                    WAO   \n",
       "4      2015-04-08 16:36:59                            Kalpit Jain   \n",
       "5      2018-02-17 11:01:13                      Jennifer Hawkyard   \n",
       "6      2018-08-20 19:00:02                          Maceo Paisley   \n",
       "7      2014-11-22 18:22:02                             Mike Evans   \n",
       "8      2012-10-06 16:37:31                                Michael   \n",
       "9      2016-07-29 23:57:59                           Nathan Hatch   \n",
       "10     2014-12-21 07:59:00                            Kris Vagner   \n",
       "11     2013-11-14 00:57:22                            Tomas Borsa   \n",
       "12     2018-05-17 23:55:52                            London Navy   \n",
       "13     2017-07-07 19:32:14                         Sabato Alterio   \n",
       "14     2016-06-01 09:47:00                                 Lauren   \n",
       "15     2015-07-09 01:08:02                                  Misha   \n",
       "16     2015-04-16 23:22:18                          Michael White   \n",
       "17     2014-07-31 04:48:00                            Harvey Wang   \n",
       "18     2016-07-04 03:59:00                     Tyler Andrew Jones   \n",
       "19     2013-05-10 02:49:55             The Secret Alley/Galallery   \n",
       "20     2013-10-09 20:00:14              People Inside Electronics   \n",
       "21     2018-01-19 13:59:00                               Joe Head   \n",
       "22     2014-11-28 03:00:13                          Tracy Jackson   \n",
       "23     2015-08-01 21:32:10                              Chad Arel   \n",
       "24     2019-02-26 01:35:00                         Jeremy Secrest   \n",
       "25     2018-06-01 02:00:56                      Hodges & Loughrey   \n",
       "26     2018-07-19 15:22:25                                 Milica   \n",
       "27     2019-03-12 04:59:00                          Aaron Simmons   \n",
       "28     2016-10-07 15:14:28                        Winner Take All   \n",
       "29     2013-02-25 22:29:23  Virginia Tech Symphonic Wind Ensemble   \n",
       "...                    ...                                    ...   \n",
       "192620 2014-09-05 20:30:43                           Matthew Bell   \n",
       "192623 2018-02-04 06:00:01                            Tayo Talabi   \n",
       "192624 2013-07-03 18:05:37                       Scotty Niswander   \n",
       "192625 2014-04-06 22:17:36                          Norwood Cheek   \n",
       "192626 2014-08-28 04:09:51                                soroush   \n",
       "192627 2012-07-21 16:23:20                            Andre Jones   \n",
       "192628 2012-12-24 08:01:01                         Stephen Beeman   \n",
       "192629 2017-11-30 10:46:01                        J.Michael Piper   \n",
       "192631 2014-03-26 18:43:02                      OpenElectrons.com   \n",
       "192632 2018-12-30 23:01:00             Esoteric Trading Solutions   \n",
       "192633 2013-07-01 02:00:34                    Planetary Resources   \n",
       "192634 2014-06-21 21:00:11                          Sergey Knazev   \n",
       "192636 2017-01-20 23:30:38            BigBands XL for Apple Watch   \n",
       "192637 2017-07-20 06:59:00                          Timbuktu Labs   \n",
       "192640 2014-10-14 04:22:00                             Josh Folan   \n",
       "192641 2018-08-11 06:59:00               Dirty Goat Roadhouse LLC   \n",
       "192642 2016-03-08 03:01:54                                 Andrea   \n",
       "192643 2017-08-16 01:52:16                               ezOxygen   \n",
       "192644 2017-03-20 06:59:02                              Resonator   \n",
       "192645 2015-05-04 19:48:15                           Mike Freland   \n",
       "192646 2014-03-13 23:12:13                       Misty Rae Carson   \n",
       "192647 2014-01-01 05:00:15                               Greg Wax   \n",
       "192648 2014-05-02 14:33:00                       Alison Gabrielle   \n",
       "192649 2011-08-31 05:11:00               Brainard and Delia Carey   \n",
       "192651 2017-04-16 16:55:37                          Brian Darling   \n",
       "192652 2017-03-23 17:42:02                              Samik Sil   \n",
       "192653 2013-08-11 11:46:39                 Erin Hartung (deleted)   \n",
       "192655 2016-01-25 09:15:10                           Alan Wichert   \n",
       "192656 2016-09-25 21:09:15                               T. Simms   \n",
       "192657 2015-03-19 05:00:14                             Alex Beene   \n",
       "\n",
       "                                              crea_avatar  \\\n",
       "0       {'thumb': 'https://ksr-ugc.imgix.net/assets/00...   \n",
       "1       {'thumb': 'https://ksr-ugc.imgix.net/assets/02...   \n",
       "2       {'thumb': 'https://ksr-ugc.imgix.net/assets/01...   \n",
       "3       {'thumb': 'https://ksr-ugc.imgix.net/assets/02...   \n",
       "4       {'thumb': 'https://ksr-ugc.imgix.net/assets/00...   \n",
       "5       {'thumb': 'https://ksr-ugc.imgix.net/assets/00...   \n",
       "6       {'thumb': 'https://ksr-ugc.imgix.net/assets/00...   \n",
       "7       {'thumb': 'https://ksr-ugc.imgix.net/assets/00...   \n",
       "8       {'thumb': 'https://ksr-ugc.imgix.net/assets/00...   \n",
       "9       {'thumb': 'https://ksr-ugc.imgix.net/assets/00...   \n",
       "10      {'thumb': 'https://ksr-ugc.imgix.net/assets/00...   \n",
       "11      {'thumb': 'https://ksr-ugc.imgix.net/assets/00...   \n",
       "12      {'thumb': 'https://ksr-ugc.imgix.net/assets/02...   \n",
       "13      {'thumb': 'https://ksr-ugc.imgix.net/assets/01...   \n",
       "14      {'thumb': 'https://ksr-ugc.imgix.net/assets/01...   \n",
       "15      {'thumb': 'https://ksr-ugc.imgix.net/assets/00...   \n",
       "16      {'thumb': 'https://ksr-ugc.imgix.net/assets/00...   \n",
       "17      {'thumb': 'https://ksr-ugc.imgix.net/assets/00...   \n",
       "18      {'thumb': 'https://ksr-ugc.imgix.net/assets/01...   \n",
       "19      {'thumb': 'https://ksr-ugc.imgix.net/assets/00...   \n",
       "20      {'thumb': 'https://ksr-ugc.imgix.net/assets/00...   \n",
       "21      {'thumb': 'https://ksr-ugc.imgix.net/assets/01...   \n",
       "22      {'thumb': 'https://ksr-ugc.imgix.net/assets/00...   \n",
       "23      {'thumb': 'https://ksr-ugc.imgix.net/assets/00...   \n",
       "24      {'thumb': 'https://ksr-ugc.imgix.net/assets/01...   \n",
       "25      {'thumb': 'https://ksr-ugc.imgix.net/assets/02...   \n",
       "26      {'thumb': 'https://ksr-ugc.imgix.net/assets/01...   \n",
       "27      {'thumb': 'https://ksr-ugc.imgix.net/assets/02...   \n",
       "28      {'thumb': 'https://ksr-ugc.imgix.net/assets/01...   \n",
       "29      {'thumb': 'https://ksr-ugc.imgix.net/assets/00...   \n",
       "...                                                   ...   \n",
       "192620  {'thumb': 'https://ksr-ugc.imgix.net/assets/00...   \n",
       "192623  {'thumb': 'https://ksr-ugc.imgix.net/assets/01...   \n",
       "192624  {'thumb': 'https://ksr-ugc.imgix.net/assets/00...   \n",
       "192625  {'thumb': 'https://ksr-ugc.imgix.net/assets/00...   \n",
       "192626  {'thumb': 'https://ksr-ugc.imgix.net/assets/00...   \n",
       "192627  {'thumb': 'https://ksr-ugc.imgix.net/assets/00...   \n",
       "192628  {'thumb': 'https://ksr-ugc.imgix.net/assets/00...   \n",
       "192629  {'thumb': 'https://ksr-ugc.imgix.net/assets/01...   \n",
       "192631  {'thumb': 'https://ksr-ugc.imgix.net/assets/00...   \n",
       "192632  {'thumb': 'https://ksr-ugc.imgix.net/assets/02...   \n",
       "192633  {'thumb': 'https://ksr-ugc.imgix.net/assets/00...   \n",
       "192634  {'thumb': 'https://ksr-ugc.imgix.net/assets/00...   \n",
       "192636  {'thumb': 'https://ksr-ugc.imgix.net/assets/00...   \n",
       "192637  {'thumb': 'https://ksr-ugc.imgix.net/assets/01...   \n",
       "192640  {'thumb': 'https://ksr-ugc.imgix.net/assets/00...   \n",
       "192641  {'thumb': 'https://ksr-ugc.imgix.net/assets/02...   \n",
       "192642  {'thumb': 'https://ksr-ugc.imgix.net/assets/01...   \n",
       "192643  {'thumb': 'https://ksr-ugc.imgix.net/assets/01...   \n",
       "192644  {'thumb': 'https://ksr-ugc.imgix.net/assets/01...   \n",
       "192645  {'thumb': 'https://ksr-ugc.imgix.net/assets/00...   \n",
       "192646  {'thumb': 'https://ksr-ugc.imgix.net/assets/00...   \n",
       "192647  {'thumb': 'https://ksr-ugc.imgix.net/assets/00...   \n",
       "192648  {'thumb': 'https://ksr-ugc.imgix.net/assets/00...   \n",
       "192649  {'thumb': 'https://ksr-ugc.imgix.net/assets/00...   \n",
       "192651  {'thumb': 'https://ksr-ugc.imgix.net/assets/01...   \n",
       "192652  {'thumb': 'https://ksr-ugc.imgix.net/assets/00...   \n",
       "192653  {'thumb': 'https://ksr-ugc.imgix.net/assets/00...   \n",
       "192655  {'thumb': 'https://ksr-ugc.imgix.net/assets/01...   \n",
       "192656  {'thumb': 'https://ksr-ugc.imgix.net/assets/01...   \n",
       "192657  {'thumb': 'https://ksr-ugc.imgix.net/assets/00...   \n",
       "\n",
       "                                                crea_urls  \\\n",
       "0       {'web': {'user': 'https://www.kickstarter.com/...   \n",
       "1       {'web': {'user': 'https://www.kickstarter.com/...   \n",
       "2       {'web': {'user': 'https://www.kickstarter.com/...   \n",
       "3       {'web': {'user': 'https://www.kickstarter.com/...   \n",
       "4       {'web': {'user': 'https://www.kickstarter.com/...   \n",
       "5       {'web': {'user': 'https://www.kickstarter.com/...   \n",
       "6       {'web': {'user': 'https://www.kickstarter.com/...   \n",
       "7       {'web': {'user': 'https://www.kickstarter.com/...   \n",
       "8       {'web': {'user': 'https://www.kickstarter.com/...   \n",
       "9       {'web': {'user': 'https://www.kickstarter.com/...   \n",
       "10      {'web': {'user': 'https://www.kickstarter.com/...   \n",
       "11      {'web': {'user': 'https://www.kickstarter.com/...   \n",
       "12      {'web': {'user': 'https://www.kickstarter.com/...   \n",
       "13      {'web': {'user': 'https://www.kickstarter.com/...   \n",
       "14      {'web': {'user': 'https://www.kickstarter.com/...   \n",
       "15      {'web': {'user': 'https://www.kickstarter.com/...   \n",
       "16      {'web': {'user': 'https://www.kickstarter.com/...   \n",
       "17      {'web': {'user': 'https://www.kickstarter.com/...   \n",
       "18      {'web': {'user': 'https://www.kickstarter.com/...   \n",
       "19      {'web': {'user': 'https://www.kickstarter.com/...   \n",
       "20      {'web': {'user': 'https://www.kickstarter.com/...   \n",
       "21      {'web': {'user': 'https://www.kickstarter.com/...   \n",
       "22      {'web': {'user': 'https://www.kickstarter.com/...   \n",
       "23      {'web': {'user': 'https://www.kickstarter.com/...   \n",
       "24      {'web': {'user': 'https://www.kickstarter.com/...   \n",
       "25      {'web': {'user': 'https://www.kickstarter.com/...   \n",
       "26      {'web': {'user': 'https://www.kickstarter.com/...   \n",
       "27      {'web': {'user': 'https://www.kickstarter.com/...   \n",
       "28      {'web': {'user': 'https://www.kickstarter.com/...   \n",
       "29      {'web': {'user': 'https://www.kickstarter.com/...   \n",
       "...                                                   ...   \n",
       "192620  {'web': {'user': 'https://www.kickstarter.com/...   \n",
       "192623  {'web': {'user': 'https://www.kickstarter.com/...   \n",
       "192624  {'web': {'user': 'https://www.kickstarter.com/...   \n",
       "192625  {'web': {'user': 'https://www.kickstarter.com/...   \n",
       "192626  {'web': {'user': 'https://www.kickstarter.com/...   \n",
       "192627  {'web': {'user': 'https://www.kickstarter.com/...   \n",
       "192628  {'web': {'user': 'https://www.kickstarter.com/...   \n",
       "192629  {'web': {'user': 'https://www.kickstarter.com/...   \n",
       "192631  {'web': {'user': 'https://www.kickstarter.com/...   \n",
       "192632  {'web': {'user': 'https://www.kickstarter.com/...   \n",
       "192633  {'web': {'user': 'https://www.kickstarter.com/...   \n",
       "192634  {'web': {'user': 'https://www.kickstarter.com/...   \n",
       "192636  {'web': {'user': 'https://www.kickstarter.com/...   \n",
       "192637  {'web': {'user': 'https://www.kickstarter.com/...   \n",
       "192640  {'web': {'user': 'https://www.kickstarter.com/...   \n",
       "192641  {'web': {'user': 'https://www.kickstarter.com/...   \n",
       "192642  {'web': {'user': 'https://www.kickstarter.com/...   \n",
       "192643  {'web': {'user': 'https://www.kickstarter.com/...   \n",
       "192644  {'web': {'user': 'https://www.kickstarter.com/...   \n",
       "192645  {'web': {'user': 'https://www.kickstarter.com/...   \n",
       "192646  {'web': {'user': 'https://www.kickstarter.com/...   \n",
       "192647  {'web': {'user': 'https://www.kickstarter.com/...   \n",
       "192648  {'web': {'user': 'https://www.kickstarter.com/...   \n",
       "192649  {'web': {'user': 'https://www.kickstarter.com/...   \n",
       "192651  {'web': {'user': 'https://www.kickstarter.com/...   \n",
       "192652  {'web': {'user': 'https://www.kickstarter.com/...   \n",
       "192653  {'web': {'user': 'https://www.kickstarter.com/...   \n",
       "192655  {'web': {'user': 'https://www.kickstarter.com/...   \n",
       "192656  {'web': {'user': 'https://www.kickstarter.com/...   \n",
       "192657  {'web': {'user': 'https://www.kickstarter.com/...   \n",
       "\n",
       "                   crea_slug cat_color  \\\n",
       "0                             10878931   \n",
       "1             freckleddisney  16760235   \n",
       "2                                58341   \n",
       "3                   wearewao  16752598   \n",
       "4                              6526716   \n",
       "5                    jezhawk  16752598   \n",
       "6               maceopaisley  14867664   \n",
       "7                     lolnub   6526716   \n",
       "8                             16760235   \n",
       "9                                51627   \n",
       "10                krisvagner     58341   \n",
       "11                            14867664   \n",
       "12                            16752598   \n",
       "13                            16752598   \n",
       "14                               51627   \n",
       "15                            16725570   \n",
       "16                               58341   \n",
       "17                               58341   \n",
       "18                            16743775   \n",
       "19                            16760235   \n",
       "20                 pielectro  10878931   \n",
       "21                            10878931   \n",
       "22                            16725570   \n",
       "23            chadwickmarcus   6526716   \n",
       "24                            14867664   \n",
       "25                            16743775   \n",
       "26                            16752598   \n",
       "27         aaronsimmonsalbum  10878931   \n",
       "28      winnertakealltheband  10878931   \n",
       "29                     vtswe  10878931   \n",
       "...                      ...       ...   \n",
       "192620                        16776056   \n",
       "192623                        16743775   \n",
       "192624              nerdsync  14867664   \n",
       "192625                        10878931   \n",
       "192626                        10878931   \n",
       "192627            andrejones  14867664   \n",
       "192628         stephenbeeman     51627   \n",
       "192629                        16734574   \n",
       "192631                         6526716   \n",
       "192632                         6526716   \n",
       "192633      arkydforeveryone   6526716   \n",
       "192634                        16734574   \n",
       "192636              bigbands   6526716   \n",
       "192637              timbuktu  14867664   \n",
       "192640             joshfolan  16734574   \n",
       "192641                        16760235   \n",
       "192642                        10878931   \n",
       "192643                         6526716   \n",
       "192644                           51627   \n",
       "192645                        16734574   \n",
       "192646                        16734574   \n",
       "192647                        16734574   \n",
       "192648                        10878931   \n",
       "192649                praxis  16760235   \n",
       "192651         briancdarling  14867664   \n",
       "192652                        16744876   \n",
       "192653                        14867664   \n",
       "192655                        16725570   \n",
       "192656            1prettytea  16752598   \n",
       "192657                        14867664   \n",
       "\n",
       "                                                 cat_urls cat_parent_id cat_id  \n",
       "0       {'web': {'discover': 'http://www.kickstarter.c...          14.0     43  \n",
       "1       {'web': {'discover': 'http://www.kickstarter.c...           1.0     54  \n",
       "2       {'web': {'discover': 'http://www.kickstarter.c...          15.0    280  \n",
       "3       {'web': {'discover': 'http://www.kickstarter.c...           9.0    266  \n",
       "4       {'web': {'discover': 'http://www.kickstarter.c...          16.0     51  \n",
       "5       {'web': {'discover': 'http://www.kickstarter.c...           9.0    262  \n",
       "6       {'web': {'discover': 'http://www.kickstarter.c...          18.0     48  \n",
       "7       {'web': {'discover': 'http://www.kickstarter.c...          16.0     51  \n",
       "8       {'web': {'discover': 'http://www.kickstarter.c...           1.0     25  \n",
       "9       {'web': {'discover': 'http://www.kickstarter.c...          12.0    273  \n",
       "10      {'web': {'discover': 'http://www.kickstarter.c...          15.0    276  \n",
       "11      {'web': {'discover': 'http://www.kickstarter.c...          18.0     48  \n",
       "12      {'web': {'discover': 'http://www.kickstarter.c...           9.0    266  \n",
       "13      {'web': {'discover': 'http://www.kickstarter.c...           9.0    266  \n",
       "14      {'web': {'discover': 'http://www.kickstarter.c...          12.0    273  \n",
       "15      {'web': {'discover': 'http://www.kickstarter.c...          10.0    312  \n",
       "16      {'web': {'discover': 'http://www.kickstarter.c...          15.0    277  \n",
       "17      {'web': {'discover': 'http://www.kickstarter.c...          15.0    280  \n",
       "18      {'web': {'discover': 'http://www.kickstarter.c...          17.0    282  \n",
       "19      {'web': {'discover': 'http://www.kickstarter.c...           1.0     54  \n",
       "20      {'web': {'discover': 'http://www.kickstarter.c...          14.0     36  \n",
       "21      {'web': {'discover': 'http://www.kickstarter.c...          14.0     43  \n",
       "22      {'web': {'discover': 'http://www.kickstarter.c...          10.0    313  \n",
       "23      {'web': {'discover': 'http://www.kickstarter.c...          16.0     51  \n",
       "24      {'web': {'discover': 'http://www.kickstarter.c...          18.0     48  \n",
       "25      {'web': {'discover': 'http://www.kickstarter.c...          17.0    284  \n",
       "26      {'web': {'discover': 'http://www.kickstarter.c...           9.0    262  \n",
       "27      {'web': {'discover': 'http://www.kickstarter.c...          14.0     37  \n",
       "28      {'web': {'discover': 'http://www.kickstarter.c...          14.0     43  \n",
       "29      {'web': {'discover': 'http://www.kickstarter.c...          14.0     36  \n",
       "...                                                   ...           ...    ...  \n",
       "192620  {'web': {'discover': 'http://www.kickstarter.c...           3.0    253  \n",
       "192623  {'web': {'discover': 'http://www.kickstarter.c...          17.0    282  \n",
       "192624  {'web': {'discover': 'http://www.kickstarter.c...          18.0    239  \n",
       "192625  {'web': {'discover': 'http://www.kickstarter.c...          14.0     38  \n",
       "192626  {'web': {'discover': 'http://www.kickstarter.c...          14.0     38  \n",
       "192627  {'web': {'discover': 'http://www.kickstarter.c...          18.0     45  \n",
       "192628  {'web': {'discover': 'http://www.kickstarter.c...          12.0    272  \n",
       "192629  {'web': {'discover': 'http://www.kickstarter.c...          11.0    297  \n",
       "192631  {'web': {'discover': 'http://www.kickstarter.c...          16.0     52  \n",
       "192632  {'web': {'discover': 'http://www.kickstarter.c...           0.0     16  \n",
       "192633  {'web': {'discover': 'http://www.kickstarter.c...          16.0    340  \n",
       "192634  {'web': {'discover': 'http://www.kickstarter.c...          11.0    294  \n",
       "192636  {'web': {'discover': 'http://www.kickstarter.c...          16.0    341  \n",
       "192637  {'web': {'discover': 'http://www.kickstarter.c...          18.0     46  \n",
       "192640  {'web': {'discover': 'http://www.kickstarter.c...          11.0    302  \n",
       "192641  {'web': {'discover': 'http://www.kickstarter.c...           0.0      1  \n",
       "192642  {'web': {'discover': 'http://www.kickstarter.c...          14.0     39  \n",
       "192643  {'web': {'discover': 'http://www.kickstarter.c...          16.0    341  \n",
       "192644  {'web': {'discover': 'http://www.kickstarter.c...          12.0     35  \n",
       "192645  {'web': {'discover': 'http://www.kickstarter.c...          11.0    302  \n",
       "192646  {'web': {'discover': 'http://www.kickstarter.c...          11.0    299  \n",
       "192647  {'web': {'discover': 'http://www.kickstarter.c...          11.0    298  \n",
       "192648  {'web': {'discover': 'http://www.kickstarter.c...          14.0     44  \n",
       "192649  {'web': {'discover': 'http://www.kickstarter.c...           1.0     20  \n",
       "192651  {'web': {'discover': 'http://www.kickstarter.c...          18.0    323  \n",
       "192652  {'web': {'discover': 'http://www.kickstarter.c...          26.0    344  \n",
       "192653  {'web': {'discover': 'http://www.kickstarter.c...          18.0     46  \n",
       "192655  {'web': {'discover': 'http://www.kickstarter.c...          10.0    306  \n",
       "192656  {'web': {'discover': 'http://www.kickstarter.c...           9.0    264  \n",
       "192657  {'web': {'discover': 'http://www.kickstarter.c...          18.0     46  \n",
       "\n",
       "[168975 rows x 21 columns]"
      ]
     },
     "execution_count": 132,
     "metadata": {},
     "output_type": "execute_result"
    }
   ],
   "source": [
    "df_tot5[['level_0', 'index', 'blurb', 'converted_pledged_amount',\\\n",
    "        'currency', 'currency_symbol', 'currency_trailing_code',\\\n",
    "        'id', 'name', 'slug', 'photo', 'state', 'state_changed_at',\\\n",
    "        'crea_name', 'crea_avatar', 'crea_urls', 'crea_slug',\\\n",
    "        'cat_color', 'cat_urls', 'cat_parent_id', 'cat_id']]"
   ]
  },
  {
   "cell_type": "code",
   "execution_count": 840,
   "metadata": {},
   "outputs": [],
   "source": [
    "df_tot6 = df_tot5.drop(['level_0', 'index', 'blurb', 'converted_pledged_amount',\\\n",
    "                        'currency', 'current_currency', 'currency_symbol', 'currency_trailing_code',\\\n",
    "                        'id', 'name', 'slug', 'photo', 'state', 'state_changed_at',\\\n",
    "                        'crea_name', 'crea_avatar', 'crea_urls', 'crea_slug',\\\n",
    "                        'cat_color', 'cat_urls', 'cat_parent_id', 'cat_id', 'pledged', 'spotlight', 'crea_id'], axis = 1)"
   ]
  },
  {
   "cell_type": "code",
   "execution_count": 841,
   "metadata": {},
   "outputs": [
    {
     "name": "stdout",
     "output_type": "stream",
     "text": [
      "<class 'pandas.core.frame.DataFrame'>\n",
      "Int64Index: 168975 entries, 0 to 192657\n",
      "Data columns (total 22 columns):\n",
      "backers_count            168975 non-null int64\n",
      "country                  168975 non-null category\n",
      "created_at               168975 non-null datetime64[ns]\n",
      "deadline                 168975 non-null datetime64[ns]\n",
      "disable_communication    168975 non-null bool\n",
      "fx_rate                  168975 non-null float64\n",
      "goal                     168975 non-null float64\n",
      "is_starrable             168975 non-null bool\n",
      "location                 168762 non-null object\n",
      "staff_pick               168975 non-null bool\n",
      "usd_pledged              168975 non-null float64\n",
      "launch_weekday           168975 non-null object\n",
      "launch_year              168975 non-null int64\n",
      "launch_month             168975 non-null int64\n",
      "launch_day               168975 non-null int64\n",
      "launch_hour              168975 non-null int64\n",
      "cat_name                 168975 non-null object\n",
      "cat_position             168975 non-null int64\n",
      "cat_super                168975 non-null category\n",
      "blurb_wordcount          168975 non-null int64\n",
      "gender                   168975 non-null category\n",
      "success                  168975 non-null int64\n",
      "dtypes: bool(3), category(3), datetime64[ns](2), float64(3), int64(8), object(3)\n",
      "memory usage: 22.9+ MB\n"
     ]
    }
   ],
   "source": [
    "df_tot6.info()"
   ]
  },
  {
   "cell_type": "code",
   "execution_count": 842,
   "metadata": {},
   "outputs": [
    {
     "data": {
      "text/plain": [
       "159"
      ]
     },
     "execution_count": 842,
     "metadata": {},
     "output_type": "execute_result"
    }
   ],
   "source": [
    "len(df_tot6.cat_name.unique())"
   ]
  },
  {
   "cell_type": "code",
   "execution_count": 843,
   "metadata": {},
   "outputs": [],
   "source": [
    "df_tot6b = df_tot6.drop(['location',\n",
    " 'deadline',\n",
    " 'created_at',\n",
    " 'usd_pledged',\n",
    " 'staff_pick',\n",
    " 'cat_name',\n",
    " 'backers_count'], axis=1)"
   ]
  },
  {
   "cell_type": "code",
   "execution_count": 844,
   "metadata": {},
   "outputs": [],
   "source": [
    "base_pledge_list = list()\n",
    "for x in df_tot6[['usd_pledged', 'backers_count']].values:\n",
    "    if x[1] != 0:\n",
    "        base_pledge_list.append(x[0] / x[1])\n",
    "    else:\n",
    "        base_pledge_list.append(1.)\n",
    "df_tot6b['base_pledge'] = base_pledge_list"
   ]
  },
  {
   "cell_type": "code",
   "execution_count": 845,
   "metadata": {},
   "outputs": [],
   "source": [
    "#pub_day  = [x.astype('datetime64[M]').astype(int) for x in df_tot5.created_at.values]\n",
    "init_day = [x.astype('datetime64[D]').astype(int) for x in df_tot6.created_at.values]\n",
    "end_day = [x.astype('datetime64[D]').astype(int) for x in df_tot6.deadline.values]\n",
    "duration = [abs(end_day[idx] - init_day[idx]) for idx, x in enumerate(end_day)]\n",
    "df_tot6b['duration'] = duration"
   ]
  },
  {
   "cell_type": "code",
   "execution_count": 846,
   "metadata": {},
   "outputs": [
    {
     "data": {
      "text/plain": [
       "['location',\n",
       " 'cat_name',\n",
       " 'deadline',\n",
       " 'created_at',\n",
       " 'usd_pledged',\n",
       " 'staff_pick',\n",
       " 'backers_count']"
      ]
     },
     "execution_count": 846,
     "metadata": {},
     "output_type": "execute_result"
    }
   ],
   "source": [
    "cat_list = ['country', 'launch_weekday', 'cat_super', 'gender']\n",
    "\n",
    "droplist2 = ['country', 'location', 'launch_weekday', 'cat_name', 'cat_super', 'gender', 'deadline', 'created_at', 'usd_pledged', 'staff_pick', 'backers_count']\n",
    "\n",
    "droplist3 = []\n",
    "for x in droplist2:\n",
    "    if x not in cat_list:\n",
    "        droplist3.append(x)\n",
    "        \n",
    "droplist3"
   ]
  },
  {
   "cell_type": "code",
   "execution_count": 847,
   "metadata": {},
   "outputs": [],
   "source": [
    "#dum = pd.get_dummies(df_tot6.drop(['location', 'deadline', 'created_at', 'success', 'usd_pledged', 'backers_count', 'staff_pick'], axis = 1)[],drop_first = True, prefix = 'cat_')\n",
    "dum = pd.get_dummies(df_tot6b, columns=cat_list,drop_first = True, prefix = 'dum', )\n",
    "df_wo_dum = df_tot6b.drop(cat_list, axis = 1)\n",
    "df_tot7 = pd.concat([dum.drop('success', axis = 1), df_wo_dum], axis=1)\n",
    "df_tot7 = dum#.drop(['dum_male','dum_unknown'], axis = 1)"
   ]
  },
  {
   "cell_type": "code",
   "execution_count": 837,
   "metadata": {},
   "outputs": [
    {
     "name": "stdout",
     "output_type": "stream",
     "text": [
      "12\n",
      "12\n",
      "55\n",
      "57\n",
      "55\n",
      "57\n"
     ]
    },
    {
     "data": {
      "text/html": [
       "<div>\n",
       "<style scoped>\n",
       "    .dataframe tbody tr th:only-of-type {\n",
       "        vertical-align: middle;\n",
       "    }\n",
       "\n",
       "    .dataframe tbody tr th {\n",
       "        vertical-align: top;\n",
       "    }\n",
       "\n",
       "    .dataframe thead th {\n",
       "        text-align: right;\n",
       "    }\n",
       "</style>\n",
       "<table border=\"1\" class=\"dataframe\">\n",
       "  <thead>\n",
       "    <tr style=\"text-align: right;\">\n",
       "      <th></th>\n",
       "      <th>disable_communication</th>\n",
       "      <th>fx_rate</th>\n",
       "      <th>goal</th>\n",
       "      <th>is_starrable</th>\n",
       "      <th>launch_year</th>\n",
       "      <th>launch_month</th>\n",
       "      <th>launch_day</th>\n",
       "      <th>launch_hour</th>\n",
       "      <th>cat_position</th>\n",
       "      <th>blurb_wordcount</th>\n",
       "      <th>base_pledge</th>\n",
       "      <th>duration</th>\n",
       "      <th>dum_AU</th>\n",
       "      <th>dum_BE</th>\n",
       "      <th>dum_CA</th>\n",
       "      <th>dum_CH</th>\n",
       "      <th>dum_DE</th>\n",
       "      <th>dum_DK</th>\n",
       "      <th>dum_ES</th>\n",
       "      <th>dum_FR</th>\n",
       "      <th>dum_GB</th>\n",
       "      <th>dum_HK</th>\n",
       "      <th>dum_IE</th>\n",
       "      <th>dum_IT</th>\n",
       "      <th>dum_JP</th>\n",
       "      <th>dum_LU</th>\n",
       "      <th>dum_MX</th>\n",
       "      <th>dum_NL</th>\n",
       "      <th>dum_NO</th>\n",
       "      <th>dum_NZ</th>\n",
       "      <th>dum_SE</th>\n",
       "      <th>dum_SG</th>\n",
       "      <th>dum_US</th>\n",
       "      <th>dum_Monday</th>\n",
       "      <th>dum_Saturday</th>\n",
       "      <th>dum_Sunday</th>\n",
       "      <th>dum_Thursday</th>\n",
       "      <th>dum_Tuesday</th>\n",
       "      <th>dum_Wednesday</th>\n",
       "      <th>dum_comics</th>\n",
       "      <th>dum_crafts</th>\n",
       "      <th>dum_dance</th>\n",
       "      <th>dum_design</th>\n",
       "      <th>dum_fashion</th>\n",
       "      <th>dum_film &amp; video</th>\n",
       "      <th>dum_food</th>\n",
       "      <th>dum_games</th>\n",
       "      <th>dum_journalism</th>\n",
       "      <th>dum_music</th>\n",
       "      <th>dum_photography</th>\n",
       "      <th>dum_publishing</th>\n",
       "      <th>dum_technology</th>\n",
       "      <th>dum_theater</th>\n",
       "      <th>dum_male</th>\n",
       "      <th>dum_unknown</th>\n",
       "    </tr>\n",
       "  </thead>\n",
       "  <tbody>\n",
       "    <tr>\n",
       "      <th>0</th>\n",
       "      <td>False</td>\n",
       "      <td>1.000000</td>\n",
       "      <td>200.0</td>\n",
       "      <td>False</td>\n",
       "      <td>2013</td>\n",
       "      <td>12</td>\n",
       "      <td>25</td>\n",
       "      <td>22</td>\n",
       "      <td>17</td>\n",
       "      <td>26</td>\n",
       "      <td>38.190476</td>\n",
       "      <td>49</td>\n",
       "      <td>0</td>\n",
       "      <td>0</td>\n",
       "      <td>0</td>\n",
       "      <td>0</td>\n",
       "      <td>0</td>\n",
       "      <td>0</td>\n",
       "      <td>0</td>\n",
       "      <td>0</td>\n",
       "      <td>0</td>\n",
       "      <td>0</td>\n",
       "      <td>0</td>\n",
       "      <td>0</td>\n",
       "      <td>0</td>\n",
       "      <td>0</td>\n",
       "      <td>0</td>\n",
       "      <td>0</td>\n",
       "      <td>0</td>\n",
       "      <td>0</td>\n",
       "      <td>0</td>\n",
       "      <td>0</td>\n",
       "      <td>1</td>\n",
       "      <td>0</td>\n",
       "      <td>0</td>\n",
       "      <td>0</td>\n",
       "      <td>0</td>\n",
       "      <td>0</td>\n",
       "      <td>1</td>\n",
       "      <td>0</td>\n",
       "      <td>0</td>\n",
       "      <td>0</td>\n",
       "      <td>0</td>\n",
       "      <td>0</td>\n",
       "      <td>0</td>\n",
       "      <td>0</td>\n",
       "      <td>0</td>\n",
       "      <td>0</td>\n",
       "      <td>1</td>\n",
       "      <td>0</td>\n",
       "      <td>0</td>\n",
       "      <td>0</td>\n",
       "      <td>0</td>\n",
       "      <td>1</td>\n",
       "      <td>0</td>\n",
       "    </tr>\n",
       "    <tr>\n",
       "      <th>1</th>\n",
       "      <td>False</td>\n",
       "      <td>1.000000</td>\n",
       "      <td>400.0</td>\n",
       "      <td>False</td>\n",
       "      <td>2019</td>\n",
       "      <td>2</td>\n",
       "      <td>13</td>\n",
       "      <td>16</td>\n",
       "      <td>6</td>\n",
       "      <td>9</td>\n",
       "      <td>23.288660</td>\n",
       "      <td>25</td>\n",
       "      <td>0</td>\n",
       "      <td>0</td>\n",
       "      <td>0</td>\n",
       "      <td>0</td>\n",
       "      <td>0</td>\n",
       "      <td>0</td>\n",
       "      <td>0</td>\n",
       "      <td>0</td>\n",
       "      <td>0</td>\n",
       "      <td>0</td>\n",
       "      <td>0</td>\n",
       "      <td>0</td>\n",
       "      <td>0</td>\n",
       "      <td>0</td>\n",
       "      <td>0</td>\n",
       "      <td>0</td>\n",
       "      <td>0</td>\n",
       "      <td>0</td>\n",
       "      <td>0</td>\n",
       "      <td>0</td>\n",
       "      <td>1</td>\n",
       "      <td>0</td>\n",
       "      <td>0</td>\n",
       "      <td>0</td>\n",
       "      <td>0</td>\n",
       "      <td>0</td>\n",
       "      <td>1</td>\n",
       "      <td>0</td>\n",
       "      <td>0</td>\n",
       "      <td>0</td>\n",
       "      <td>0</td>\n",
       "      <td>0</td>\n",
       "      <td>0</td>\n",
       "      <td>0</td>\n",
       "      <td>0</td>\n",
       "      <td>0</td>\n",
       "      <td>0</td>\n",
       "      <td>0</td>\n",
       "      <td>0</td>\n",
       "      <td>0</td>\n",
       "      <td>0</td>\n",
       "      <td>0</td>\n",
       "      <td>0</td>\n",
       "    </tr>\n",
       "    <tr>\n",
       "      <th>2</th>\n",
       "      <td>False</td>\n",
       "      <td>1.000000</td>\n",
       "      <td>27224.0</td>\n",
       "      <td>False</td>\n",
       "      <td>2016</td>\n",
       "      <td>11</td>\n",
       "      <td>1</td>\n",
       "      <td>14</td>\n",
       "      <td>5</td>\n",
       "      <td>25</td>\n",
       "      <td>336.795455</td>\n",
       "      <td>39</td>\n",
       "      <td>0</td>\n",
       "      <td>0</td>\n",
       "      <td>0</td>\n",
       "      <td>0</td>\n",
       "      <td>0</td>\n",
       "      <td>0</td>\n",
       "      <td>0</td>\n",
       "      <td>0</td>\n",
       "      <td>0</td>\n",
       "      <td>0</td>\n",
       "      <td>0</td>\n",
       "      <td>0</td>\n",
       "      <td>0</td>\n",
       "      <td>0</td>\n",
       "      <td>0</td>\n",
       "      <td>0</td>\n",
       "      <td>0</td>\n",
       "      <td>0</td>\n",
       "      <td>0</td>\n",
       "      <td>0</td>\n",
       "      <td>1</td>\n",
       "      <td>0</td>\n",
       "      <td>0</td>\n",
       "      <td>0</td>\n",
       "      <td>0</td>\n",
       "      <td>1</td>\n",
       "      <td>0</td>\n",
       "      <td>0</td>\n",
       "      <td>0</td>\n",
       "      <td>0</td>\n",
       "      <td>0</td>\n",
       "      <td>0</td>\n",
       "      <td>0</td>\n",
       "      <td>0</td>\n",
       "      <td>0</td>\n",
       "      <td>0</td>\n",
       "      <td>0</td>\n",
       "      <td>1</td>\n",
       "      <td>0</td>\n",
       "      <td>0</td>\n",
       "      <td>0</td>\n",
       "      <td>0</td>\n",
       "      <td>1</td>\n",
       "    </tr>\n",
       "    <tr>\n",
       "      <th>3</th>\n",
       "      <td>False</td>\n",
       "      <td>1.128433</td>\n",
       "      <td>40000.0</td>\n",
       "      <td>False</td>\n",
       "      <td>2018</td>\n",
       "      <td>10</td>\n",
       "      <td>27</td>\n",
       "      <td>23</td>\n",
       "      <td>5</td>\n",
       "      <td>13</td>\n",
       "      <td>254.275402</td>\n",
       "      <td>45</td>\n",
       "      <td>0</td>\n",
       "      <td>0</td>\n",
       "      <td>0</td>\n",
       "      <td>0</td>\n",
       "      <td>0</td>\n",
       "      <td>0</td>\n",
       "      <td>0</td>\n",
       "      <td>0</td>\n",
       "      <td>0</td>\n",
       "      <td>0</td>\n",
       "      <td>0</td>\n",
       "      <td>1</td>\n",
       "      <td>0</td>\n",
       "      <td>0</td>\n",
       "      <td>0</td>\n",
       "      <td>0</td>\n",
       "      <td>0</td>\n",
       "      <td>0</td>\n",
       "      <td>0</td>\n",
       "      <td>0</td>\n",
       "      <td>0</td>\n",
       "      <td>0</td>\n",
       "      <td>1</td>\n",
       "      <td>0</td>\n",
       "      <td>0</td>\n",
       "      <td>0</td>\n",
       "      <td>0</td>\n",
       "      <td>0</td>\n",
       "      <td>0</td>\n",
       "      <td>0</td>\n",
       "      <td>0</td>\n",
       "      <td>1</td>\n",
       "      <td>0</td>\n",
       "      <td>0</td>\n",
       "      <td>0</td>\n",
       "      <td>0</td>\n",
       "      <td>0</td>\n",
       "      <td>0</td>\n",
       "      <td>0</td>\n",
       "      <td>0</td>\n",
       "      <td>0</td>\n",
       "      <td>0</td>\n",
       "      <td>1</td>\n",
       "    </tr>\n",
       "    <tr>\n",
       "      <th>4</th>\n",
       "      <td>False</td>\n",
       "      <td>1.000000</td>\n",
       "      <td>1000.0</td>\n",
       "      <td>False</td>\n",
       "      <td>2015</td>\n",
       "      <td>3</td>\n",
       "      <td>9</td>\n",
       "      <td>16</td>\n",
       "      <td>11</td>\n",
       "      <td>22</td>\n",
       "      <td>27.450000</td>\n",
       "      <td>32</td>\n",
       "      <td>0</td>\n",
       "      <td>0</td>\n",
       "      <td>0</td>\n",
       "      <td>0</td>\n",
       "      <td>0</td>\n",
       "      <td>0</td>\n",
       "      <td>0</td>\n",
       "      <td>0</td>\n",
       "      <td>0</td>\n",
       "      <td>0</td>\n",
       "      <td>0</td>\n",
       "      <td>0</td>\n",
       "      <td>0</td>\n",
       "      <td>0</td>\n",
       "      <td>0</td>\n",
       "      <td>0</td>\n",
       "      <td>0</td>\n",
       "      <td>0</td>\n",
       "      <td>0</td>\n",
       "      <td>0</td>\n",
       "      <td>1</td>\n",
       "      <td>1</td>\n",
       "      <td>0</td>\n",
       "      <td>0</td>\n",
       "      <td>0</td>\n",
       "      <td>0</td>\n",
       "      <td>0</td>\n",
       "      <td>0</td>\n",
       "      <td>0</td>\n",
       "      <td>0</td>\n",
       "      <td>0</td>\n",
       "      <td>0</td>\n",
       "      <td>0</td>\n",
       "      <td>0</td>\n",
       "      <td>0</td>\n",
       "      <td>0</td>\n",
       "      <td>0</td>\n",
       "      <td>0</td>\n",
       "      <td>0</td>\n",
       "      <td>1</td>\n",
       "      <td>0</td>\n",
       "      <td>0</td>\n",
       "      <td>1</td>\n",
       "    </tr>\n",
       "  </tbody>\n",
       "</table>\n",
       "</div>"
      ],
      "text/plain": [
       "   disable_communication   fx_rate     goal  is_starrable  launch_year  \\\n",
       "0                  False  1.000000    200.0         False         2013   \n",
       "1                  False  1.000000    400.0         False         2019   \n",
       "2                  False  1.000000  27224.0         False         2016   \n",
       "3                  False  1.128433  40000.0         False         2018   \n",
       "4                  False  1.000000   1000.0         False         2015   \n",
       "\n",
       "   launch_month  launch_day  launch_hour  cat_position  blurb_wordcount  \\\n",
       "0            12          25           22            17               26   \n",
       "1             2          13           16             6                9   \n",
       "2            11           1           14             5               25   \n",
       "3            10          27           23             5               13   \n",
       "4             3           9           16            11               22   \n",
       "\n",
       "   base_pledge  duration  dum_AU  dum_BE  dum_CA  dum_CH  dum_DE  dum_DK  \\\n",
       "0    38.190476        49       0       0       0       0       0       0   \n",
       "1    23.288660        25       0       0       0       0       0       0   \n",
       "2   336.795455        39       0       0       0       0       0       0   \n",
       "3   254.275402        45       0       0       0       0       0       0   \n",
       "4    27.450000        32       0       0       0       0       0       0   \n",
       "\n",
       "   dum_ES  dum_FR  dum_GB  dum_HK  dum_IE  dum_IT  dum_JP  dum_LU  dum_MX  \\\n",
       "0       0       0       0       0       0       0       0       0       0   \n",
       "1       0       0       0       0       0       0       0       0       0   \n",
       "2       0       0       0       0       0       0       0       0       0   \n",
       "3       0       0       0       0       0       1       0       0       0   \n",
       "4       0       0       0       0       0       0       0       0       0   \n",
       "\n",
       "   dum_NL  dum_NO  dum_NZ  dum_SE  dum_SG  dum_US  dum_Monday  dum_Saturday  \\\n",
       "0       0       0       0       0       0       1           0             0   \n",
       "1       0       0       0       0       0       1           0             0   \n",
       "2       0       0       0       0       0       1           0             0   \n",
       "3       0       0       0       0       0       0           0             1   \n",
       "4       0       0       0       0       0       1           1             0   \n",
       "\n",
       "   dum_Sunday  dum_Thursday  dum_Tuesday  dum_Wednesday  dum_comics  \\\n",
       "0           0             0            0              1           0   \n",
       "1           0             0            0              1           0   \n",
       "2           0             0            1              0           0   \n",
       "3           0             0            0              0           0   \n",
       "4           0             0            0              0           0   \n",
       "\n",
       "   dum_crafts  dum_dance  dum_design  dum_fashion  dum_film & video  dum_food  \\\n",
       "0           0          0           0            0                 0         0   \n",
       "1           0          0           0            0                 0         0   \n",
       "2           0          0           0            0                 0         0   \n",
       "3           0          0           0            1                 0         0   \n",
       "4           0          0           0            0                 0         0   \n",
       "\n",
       "   dum_games  dum_journalism  dum_music  dum_photography  dum_publishing  \\\n",
       "0          0               0          1                0               0   \n",
       "1          0               0          0                0               0   \n",
       "2          0               0          0                1               0   \n",
       "3          0               0          0                0               0   \n",
       "4          0               0          0                0               0   \n",
       "\n",
       "   dum_technology  dum_theater  dum_male  dum_unknown  \n",
       "0               0            0         1            0  \n",
       "1               0            0         0            0  \n",
       "2               0            0         0            1  \n",
       "3               0            0         0            1  \n",
       "4               1            0         0            1  "
      ]
     },
     "execution_count": 837,
     "metadata": {},
     "output_type": "execute_result"
    }
   ],
   "source": [
    "print(len(df_tot6b.drop(cat_list, axis = 1).columns))\n",
    "print(len(df_wo_dum.columns))\n",
    "print(len(dum.columns))\n",
    "print(len(df_tot7.columns))\n",
    "print(dum.columns.nunique())\n",
    "print(df_tot7.columns.nunique())\n",
    "dum.head()"
   ]
  },
  {
   "cell_type": "code",
   "execution_count": 822,
   "metadata": {},
   "outputs": [
    {
     "data": {
      "text/html": [
       "<div>\n",
       "<style scoped>\n",
       "    .dataframe tbody tr th:only-of-type {\n",
       "        vertical-align: middle;\n",
       "    }\n",
       "\n",
       "    .dataframe tbody tr th {\n",
       "        vertical-align: top;\n",
       "    }\n",
       "\n",
       "    .dataframe thead th {\n",
       "        text-align: right;\n",
       "    }\n",
       "</style>\n",
       "<table border=\"1\" class=\"dataframe\">\n",
       "  <thead>\n",
       "    <tr style=\"text-align: right;\">\n",
       "      <th></th>\n",
       "      <th>disable_communication</th>\n",
       "      <th>fx_rate</th>\n",
       "      <th>goal</th>\n",
       "      <th>is_starrable</th>\n",
       "      <th>launch_year</th>\n",
       "      <th>launch_month</th>\n",
       "      <th>launch_day</th>\n",
       "      <th>launch_hour</th>\n",
       "      <th>crea_id</th>\n",
       "      <th>cat_position</th>\n",
       "      <th>blurb_wordcount</th>\n",
       "      <th>success</th>\n",
       "      <th>base_pledge</th>\n",
       "      <th>duration</th>\n",
       "      <th>dum_AU</th>\n",
       "      <th>dum_BE</th>\n",
       "      <th>dum_CA</th>\n",
       "      <th>dum_CH</th>\n",
       "      <th>dum_DE</th>\n",
       "      <th>dum_DK</th>\n",
       "      <th>dum_ES</th>\n",
       "      <th>dum_FR</th>\n",
       "      <th>dum_GB</th>\n",
       "      <th>dum_HK</th>\n",
       "      <th>dum_IE</th>\n",
       "      <th>dum_IT</th>\n",
       "      <th>dum_JP</th>\n",
       "      <th>dum_LU</th>\n",
       "      <th>dum_MX</th>\n",
       "      <th>dum_NL</th>\n",
       "      <th>dum_NO</th>\n",
       "      <th>dum_NZ</th>\n",
       "      <th>dum_SE</th>\n",
       "      <th>dum_SG</th>\n",
       "      <th>dum_US</th>\n",
       "      <th>dum_Monday</th>\n",
       "      <th>dum_Saturday</th>\n",
       "      <th>dum_Sunday</th>\n",
       "      <th>dum_Thursday</th>\n",
       "      <th>dum_Tuesday</th>\n",
       "      <th>dum_Wednesday</th>\n",
       "      <th>dum_comics</th>\n",
       "      <th>dum_crafts</th>\n",
       "      <th>dum_dance</th>\n",
       "      <th>dum_design</th>\n",
       "      <th>dum_fashion</th>\n",
       "      <th>dum_film &amp; video</th>\n",
       "      <th>dum_food</th>\n",
       "      <th>dum_games</th>\n",
       "      <th>dum_journalism</th>\n",
       "      <th>dum_music</th>\n",
       "      <th>dum_photography</th>\n",
       "      <th>dum_publishing</th>\n",
       "      <th>dum_technology</th>\n",
       "      <th>dum_theater</th>\n",
       "      <th>dum_male</th>\n",
       "      <th>dum_unknown</th>\n",
       "    </tr>\n",
       "  </thead>\n",
       "  <tbody>\n",
       "    <tr>\n",
       "      <th>0</th>\n",
       "      <td>False</td>\n",
       "      <td>1.000000</td>\n",
       "      <td>200.0</td>\n",
       "      <td>False</td>\n",
       "      <td>2013</td>\n",
       "      <td>12</td>\n",
       "      <td>25</td>\n",
       "      <td>22</td>\n",
       "      <td>1495925645</td>\n",
       "      <td>17</td>\n",
       "      <td>26</td>\n",
       "      <td>1</td>\n",
       "      <td>38.190476</td>\n",
       "      <td>49</td>\n",
       "      <td>0</td>\n",
       "      <td>0</td>\n",
       "      <td>0</td>\n",
       "      <td>0</td>\n",
       "      <td>0</td>\n",
       "      <td>0</td>\n",
       "      <td>0</td>\n",
       "      <td>0</td>\n",
       "      <td>0</td>\n",
       "      <td>0</td>\n",
       "      <td>0</td>\n",
       "      <td>0</td>\n",
       "      <td>0</td>\n",
       "      <td>0</td>\n",
       "      <td>0</td>\n",
       "      <td>0</td>\n",
       "      <td>0</td>\n",
       "      <td>0</td>\n",
       "      <td>0</td>\n",
       "      <td>0</td>\n",
       "      <td>1</td>\n",
       "      <td>0</td>\n",
       "      <td>0</td>\n",
       "      <td>0</td>\n",
       "      <td>0</td>\n",
       "      <td>0</td>\n",
       "      <td>1</td>\n",
       "      <td>0</td>\n",
       "      <td>0</td>\n",
       "      <td>0</td>\n",
       "      <td>0</td>\n",
       "      <td>0</td>\n",
       "      <td>0</td>\n",
       "      <td>0</td>\n",
       "      <td>0</td>\n",
       "      <td>0</td>\n",
       "      <td>1</td>\n",
       "      <td>0</td>\n",
       "      <td>0</td>\n",
       "      <td>0</td>\n",
       "      <td>0</td>\n",
       "      <td>1</td>\n",
       "      <td>0</td>\n",
       "    </tr>\n",
       "    <tr>\n",
       "      <th>1</th>\n",
       "      <td>False</td>\n",
       "      <td>1.000000</td>\n",
       "      <td>400.0</td>\n",
       "      <td>False</td>\n",
       "      <td>2019</td>\n",
       "      <td>2</td>\n",
       "      <td>13</td>\n",
       "      <td>16</td>\n",
       "      <td>1175589980</td>\n",
       "      <td>6</td>\n",
       "      <td>9</td>\n",
       "      <td>1</td>\n",
       "      <td>23.288660</td>\n",
       "      <td>25</td>\n",
       "      <td>0</td>\n",
       "      <td>0</td>\n",
       "      <td>0</td>\n",
       "      <td>0</td>\n",
       "      <td>0</td>\n",
       "      <td>0</td>\n",
       "      <td>0</td>\n",
       "      <td>0</td>\n",
       "      <td>0</td>\n",
       "      <td>0</td>\n",
       "      <td>0</td>\n",
       "      <td>0</td>\n",
       "      <td>0</td>\n",
       "      <td>0</td>\n",
       "      <td>0</td>\n",
       "      <td>0</td>\n",
       "      <td>0</td>\n",
       "      <td>0</td>\n",
       "      <td>0</td>\n",
       "      <td>0</td>\n",
       "      <td>1</td>\n",
       "      <td>0</td>\n",
       "      <td>0</td>\n",
       "      <td>0</td>\n",
       "      <td>0</td>\n",
       "      <td>0</td>\n",
       "      <td>1</td>\n",
       "      <td>0</td>\n",
       "      <td>0</td>\n",
       "      <td>0</td>\n",
       "      <td>0</td>\n",
       "      <td>0</td>\n",
       "      <td>0</td>\n",
       "      <td>0</td>\n",
       "      <td>0</td>\n",
       "      <td>0</td>\n",
       "      <td>0</td>\n",
       "      <td>0</td>\n",
       "      <td>0</td>\n",
       "      <td>0</td>\n",
       "      <td>0</td>\n",
       "      <td>0</td>\n",
       "      <td>0</td>\n",
       "    </tr>\n",
       "    <tr>\n",
       "      <th>2</th>\n",
       "      <td>False</td>\n",
       "      <td>1.000000</td>\n",
       "      <td>27224.0</td>\n",
       "      <td>False</td>\n",
       "      <td>2016</td>\n",
       "      <td>11</td>\n",
       "      <td>1</td>\n",
       "      <td>14</td>\n",
       "      <td>1196856269</td>\n",
       "      <td>5</td>\n",
       "      <td>25</td>\n",
       "      <td>1</td>\n",
       "      <td>336.795455</td>\n",
       "      <td>39</td>\n",
       "      <td>0</td>\n",
       "      <td>0</td>\n",
       "      <td>0</td>\n",
       "      <td>0</td>\n",
       "      <td>0</td>\n",
       "      <td>0</td>\n",
       "      <td>0</td>\n",
       "      <td>0</td>\n",
       "      <td>0</td>\n",
       "      <td>0</td>\n",
       "      <td>0</td>\n",
       "      <td>0</td>\n",
       "      <td>0</td>\n",
       "      <td>0</td>\n",
       "      <td>0</td>\n",
       "      <td>0</td>\n",
       "      <td>0</td>\n",
       "      <td>0</td>\n",
       "      <td>0</td>\n",
       "      <td>0</td>\n",
       "      <td>1</td>\n",
       "      <td>0</td>\n",
       "      <td>0</td>\n",
       "      <td>0</td>\n",
       "      <td>0</td>\n",
       "      <td>1</td>\n",
       "      <td>0</td>\n",
       "      <td>0</td>\n",
       "      <td>0</td>\n",
       "      <td>0</td>\n",
       "      <td>0</td>\n",
       "      <td>0</td>\n",
       "      <td>0</td>\n",
       "      <td>0</td>\n",
       "      <td>0</td>\n",
       "      <td>0</td>\n",
       "      <td>0</td>\n",
       "      <td>1</td>\n",
       "      <td>0</td>\n",
       "      <td>0</td>\n",
       "      <td>0</td>\n",
       "      <td>0</td>\n",
       "      <td>1</td>\n",
       "    </tr>\n",
       "    <tr>\n",
       "      <th>3</th>\n",
       "      <td>False</td>\n",
       "      <td>1.128433</td>\n",
       "      <td>40000.0</td>\n",
       "      <td>False</td>\n",
       "      <td>2018</td>\n",
       "      <td>10</td>\n",
       "      <td>27</td>\n",
       "      <td>23</td>\n",
       "      <td>1569700626</td>\n",
       "      <td>5</td>\n",
       "      <td>13</td>\n",
       "      <td>1</td>\n",
       "      <td>254.275402</td>\n",
       "      <td>45</td>\n",
       "      <td>0</td>\n",
       "      <td>0</td>\n",
       "      <td>0</td>\n",
       "      <td>0</td>\n",
       "      <td>0</td>\n",
       "      <td>0</td>\n",
       "      <td>0</td>\n",
       "      <td>0</td>\n",
       "      <td>0</td>\n",
       "      <td>0</td>\n",
       "      <td>0</td>\n",
       "      <td>1</td>\n",
       "      <td>0</td>\n",
       "      <td>0</td>\n",
       "      <td>0</td>\n",
       "      <td>0</td>\n",
       "      <td>0</td>\n",
       "      <td>0</td>\n",
       "      <td>0</td>\n",
       "      <td>0</td>\n",
       "      <td>0</td>\n",
       "      <td>0</td>\n",
       "      <td>1</td>\n",
       "      <td>0</td>\n",
       "      <td>0</td>\n",
       "      <td>0</td>\n",
       "      <td>0</td>\n",
       "      <td>0</td>\n",
       "      <td>0</td>\n",
       "      <td>0</td>\n",
       "      <td>0</td>\n",
       "      <td>1</td>\n",
       "      <td>0</td>\n",
       "      <td>0</td>\n",
       "      <td>0</td>\n",
       "      <td>0</td>\n",
       "      <td>0</td>\n",
       "      <td>0</td>\n",
       "      <td>0</td>\n",
       "      <td>0</td>\n",
       "      <td>0</td>\n",
       "      <td>0</td>\n",
       "      <td>1</td>\n",
       "    </tr>\n",
       "    <tr>\n",
       "      <th>4</th>\n",
       "      <td>False</td>\n",
       "      <td>1.000000</td>\n",
       "      <td>1000.0</td>\n",
       "      <td>False</td>\n",
       "      <td>2015</td>\n",
       "      <td>3</td>\n",
       "      <td>9</td>\n",
       "      <td>16</td>\n",
       "      <td>1870845385</td>\n",
       "      <td>11</td>\n",
       "      <td>22</td>\n",
       "      <td>0</td>\n",
       "      <td>27.450000</td>\n",
       "      <td>32</td>\n",
       "      <td>0</td>\n",
       "      <td>0</td>\n",
       "      <td>0</td>\n",
       "      <td>0</td>\n",
       "      <td>0</td>\n",
       "      <td>0</td>\n",
       "      <td>0</td>\n",
       "      <td>0</td>\n",
       "      <td>0</td>\n",
       "      <td>0</td>\n",
       "      <td>0</td>\n",
       "      <td>0</td>\n",
       "      <td>0</td>\n",
       "      <td>0</td>\n",
       "      <td>0</td>\n",
       "      <td>0</td>\n",
       "      <td>0</td>\n",
       "      <td>0</td>\n",
       "      <td>0</td>\n",
       "      <td>0</td>\n",
       "      <td>1</td>\n",
       "      <td>1</td>\n",
       "      <td>0</td>\n",
       "      <td>0</td>\n",
       "      <td>0</td>\n",
       "      <td>0</td>\n",
       "      <td>0</td>\n",
       "      <td>0</td>\n",
       "      <td>0</td>\n",
       "      <td>0</td>\n",
       "      <td>0</td>\n",
       "      <td>0</td>\n",
       "      <td>0</td>\n",
       "      <td>0</td>\n",
       "      <td>0</td>\n",
       "      <td>0</td>\n",
       "      <td>0</td>\n",
       "      <td>0</td>\n",
       "      <td>0</td>\n",
       "      <td>1</td>\n",
       "      <td>0</td>\n",
       "      <td>0</td>\n",
       "      <td>1</td>\n",
       "    </tr>\n",
       "  </tbody>\n",
       "</table>\n",
       "</div>"
      ],
      "text/plain": [
       "   disable_communication   fx_rate     goal  is_starrable  launch_year  \\\n",
       "0                  False  1.000000    200.0         False         2013   \n",
       "1                  False  1.000000    400.0         False         2019   \n",
       "2                  False  1.000000  27224.0         False         2016   \n",
       "3                  False  1.128433  40000.0         False         2018   \n",
       "4                  False  1.000000   1000.0         False         2015   \n",
       "\n",
       "   launch_month  launch_day  launch_hour     crea_id  cat_position  \\\n",
       "0            12          25           22  1495925645            17   \n",
       "1             2          13           16  1175589980             6   \n",
       "2            11           1           14  1196856269             5   \n",
       "3            10          27           23  1569700626             5   \n",
       "4             3           9           16  1870845385            11   \n",
       "\n",
       "   blurb_wordcount  success  base_pledge  duration  dum_AU  dum_BE  dum_CA  \\\n",
       "0               26        1    38.190476        49       0       0       0   \n",
       "1                9        1    23.288660        25       0       0       0   \n",
       "2               25        1   336.795455        39       0       0       0   \n",
       "3               13        1   254.275402        45       0       0       0   \n",
       "4               22        0    27.450000        32       0       0       0   \n",
       "\n",
       "   dum_CH  dum_DE  dum_DK  dum_ES  dum_FR  dum_GB  dum_HK  dum_IE  dum_IT  \\\n",
       "0       0       0       0       0       0       0       0       0       0   \n",
       "1       0       0       0       0       0       0       0       0       0   \n",
       "2       0       0       0       0       0       0       0       0       0   \n",
       "3       0       0       0       0       0       0       0       0       1   \n",
       "4       0       0       0       0       0       0       0       0       0   \n",
       "\n",
       "   dum_JP  dum_LU  dum_MX  dum_NL  dum_NO  dum_NZ  dum_SE  dum_SG  dum_US  \\\n",
       "0       0       0       0       0       0       0       0       0       1   \n",
       "1       0       0       0       0       0       0       0       0       1   \n",
       "2       0       0       0       0       0       0       0       0       1   \n",
       "3       0       0       0       0       0       0       0       0       0   \n",
       "4       0       0       0       0       0       0       0       0       1   \n",
       "\n",
       "   dum_Monday  dum_Saturday  dum_Sunday  dum_Thursday  dum_Tuesday  \\\n",
       "0           0             0           0             0            0   \n",
       "1           0             0           0             0            0   \n",
       "2           0             0           0             0            1   \n",
       "3           0             1           0             0            0   \n",
       "4           1             0           0             0            0   \n",
       "\n",
       "   dum_Wednesday  dum_comics  dum_crafts  dum_dance  dum_design  dum_fashion  \\\n",
       "0              1           0           0          0           0            0   \n",
       "1              1           0           0          0           0            0   \n",
       "2              0           0           0          0           0            0   \n",
       "3              0           0           0          0           0            1   \n",
       "4              0           0           0          0           0            0   \n",
       "\n",
       "   dum_film & video  dum_food  dum_games  dum_journalism  dum_music  \\\n",
       "0                 0         0          0               0          1   \n",
       "1                 0         0          0               0          0   \n",
       "2                 0         0          0               0          0   \n",
       "3                 0         0          0               0          0   \n",
       "4                 0         0          0               0          0   \n",
       "\n",
       "   dum_photography  dum_publishing  dum_technology  dum_theater  dum_male  \\\n",
       "0                0               0               0            0         1   \n",
       "1                0               0               0            0         0   \n",
       "2                1               0               0            0         0   \n",
       "3                0               0               0            0         0   \n",
       "4                0               0               1            0         0   \n",
       "\n",
       "   dum_unknown  \n",
       "0            0  \n",
       "1            0  \n",
       "2            1  \n",
       "3            1  \n",
       "4            1  "
      ]
     },
     "execution_count": 822,
     "metadata": {},
     "output_type": "execute_result"
    }
   ],
   "source": [
    "pd.set_option('display.max_columns', 300)\n",
    "df_tot7.head()"
   ]
  },
  {
   "cell_type": "code",
   "execution_count": 598,
   "metadata": {},
   "outputs": [],
   "source": [
    "# Save the DataFrame to a file\n",
    "import pickle\n",
    "pickle.dump( df_tot7, open( 'df_tot7.p', 'wb' ) )\n",
    "#df_tot8 = pickle.load(open('df_tot7.p', 'rb'))"
   ]
  },
  {
   "cell_type": "code",
   "execution_count": 2,
   "metadata": {},
   "outputs": [],
   "source": [
    "import pickle\n",
    "df_tot7 = pickle.load(open('df_tot7.p', 'rb'))"
   ]
  },
  {
   "cell_type": "code",
   "execution_count": 848,
   "metadata": {},
   "outputs": [],
   "source": [
    "X = df_tot7.drop('success', axis = 1).values\n",
    "y = df_tot7.success.values\n",
    "test_size = 0.2\n",
    "random_state = 1\n",
    "\n",
    "X_train, X_test, y_train, y_test = train_test_split(X, y, test_size = test_size, random_state = random_state)"
   ]
  },
  {
   "cell_type": "code",
   "execution_count": 849,
   "metadata": {},
   "outputs": [],
   "source": [
    "treec = DecisionTreeClassifier(max_depth = 30)"
   ]
  },
  {
   "cell_type": "code",
   "execution_count": 850,
   "metadata": {},
   "outputs": [
    {
     "data": {
      "text/plain": [
       "DecisionTreeClassifier(class_weight=None, criterion='gini', max_depth=30,\n",
       "                       max_features=None, max_leaf_nodes=None,\n",
       "                       min_impurity_decrease=0.0, min_impurity_split=None,\n",
       "                       min_samples_leaf=1, min_samples_split=2,\n",
       "                       min_weight_fraction_leaf=0.0, presort=False,\n",
       "                       random_state=None, splitter='best')"
      ]
     },
     "execution_count": 850,
     "metadata": {},
     "output_type": "execute_result"
    }
   ],
   "source": [
    "treec.fit(X_train, y_train)"
   ]
  },
  {
   "cell_type": "code",
   "execution_count": 851,
   "metadata": {},
   "outputs": [],
   "source": [
    "y_pred = treec.predict(X_test)"
   ]
  },
  {
   "cell_type": "code",
   "execution_count": 852,
   "metadata": {},
   "outputs": [
    {
     "data": {
      "text/plain": [
       "array([[11374,  3386],\n",
       "       [ 3475, 15560]])"
      ]
     },
     "execution_count": 852,
     "metadata": {},
     "output_type": "execute_result"
    }
   ],
   "source": [
    "from sklearn.metrics import confusion_matrix, classification_report\n",
    "confusion_matrix(y_test,y_pred)"
   ]
  },
  {
   "cell_type": "code",
   "execution_count": 853,
   "metadata": {},
   "outputs": [
    {
     "name": "stdout",
     "output_type": "stream",
     "text": [
      "              precision    recall  f1-score   support\n",
      "\n",
      "           0       0.77      0.77      0.77     14760\n",
      "           1       0.82      0.82      0.82     19035\n",
      "\n",
      "    accuracy                           0.80     33795\n",
      "   macro avg       0.79      0.79      0.79     33795\n",
      "weighted avg       0.80      0.80      0.80     33795\n",
      "\n"
     ]
    }
   ],
   "source": [
    "print(classification_report(y_test,y_pred))"
   ]
  },
  {
   "cell_type": "code",
   "execution_count": 854,
   "metadata": {},
   "outputs": [],
   "source": [
    "from sklearn.ensemble import RandomForestClassifier\n",
    "rforest = RandomForestClassifier(max_depth = 30)"
   ]
  },
  {
   "cell_type": "code",
   "execution_count": 855,
   "metadata": {},
   "outputs": [
    {
     "name": "stderr",
     "output_type": "stream",
     "text": [
      "/Users/peterniksa/anaconda3/lib/python3.7/site-packages/sklearn/ensemble/forest.py:245: FutureWarning: The default value of n_estimators will change from 10 in version 0.20 to 100 in 0.22.\n",
      "  \"10 in version 0.20 to 100 in 0.22.\", FutureWarning)\n"
     ]
    },
    {
     "name": "stdout",
     "output_type": "stream",
     "text": [
      "[[11283  3477]\n",
      " [ 2253 16782]]\n",
      "              precision    recall  f1-score   support\n",
      "\n",
      "           0       0.83      0.76      0.80     14760\n",
      "           1       0.83      0.88      0.85     19035\n",
      "\n",
      "    accuracy                           0.83     33795\n",
      "   macro avg       0.83      0.82      0.83     33795\n",
      "weighted avg       0.83      0.83      0.83     33795\n",
      "\n"
     ]
    }
   ],
   "source": [
    "rforest.fit(X_train, y_train)\n",
    "y_pred = rforest.predict(X_test)\n",
    "print(confusion_matrix(y_test,y_pred))\n",
    "print(classification_report(y_test,y_pred))"
   ]
  },
  {
   "cell_type": "code",
   "execution_count": 856,
   "metadata": {},
   "outputs": [],
   "source": [
    "from sklearn.model_selection import cross_val_score, RandomizedSearchCV"
   ]
  },
  {
   "cell_type": "code",
   "execution_count": 499,
   "metadata": {},
   "outputs": [
    {
     "data": {
      "text/plain": [
       "array([0.83107468, 0.83086255, 0.83417665, 0.83601124, 0.83491152])"
      ]
     },
     "execution_count": 499,
     "metadata": {},
     "output_type": "execute_result"
    }
   ],
   "source": [
    "cross_val_score(rforest,X,y, cv = 5)"
   ]
  },
  {
   "cell_type": "code",
   "execution_count": 500,
   "metadata": {},
   "outputs": [
    {
     "data": {
      "text/plain": [
       "array([0.79524204, 0.79804705, 0.79496967, 0.8027223 , 0.79836657])"
      ]
     },
     "execution_count": 500,
     "metadata": {},
     "output_type": "execute_result"
    }
   ],
   "source": [
    "cross_val_score(treec,X,y, cv = 5)"
   ]
  },
  {
   "cell_type": "code",
   "execution_count": 266,
   "metadata": {},
   "outputs": [],
   "source": [
    "parameters = {'max_depth': list(range(31))}\n",
    "\n",
    "randCV = RandomizedSearchCV(treec, parameters)"
   ]
  },
  {
   "cell_type": "code",
   "execution_count": 267,
   "metadata": {},
   "outputs": [
    {
     "name": "stderr",
     "output_type": "stream",
     "text": [
      "/Users/peterniksa/anaconda3/lib/python3.7/site-packages/sklearn/model_selection/_split.py:1978: FutureWarning: The default value of cv will change from 3 to 5 in version 0.22. Specify it explicitly to silence this warning.\n",
      "  warnings.warn(CV_WARNING, FutureWarning)\n"
     ]
    },
    {
     "name": "stdout",
     "output_type": "stream",
     "text": [
      "[[13194  1566]\n",
      " [ 5863 13172]]\n",
      "              precision    recall  f1-score   support\n",
      "\n",
      "           0       0.69      0.89      0.78     14760\n",
      "           1       0.89      0.69      0.78     19035\n",
      "\n",
      "    accuracy                           0.78     33795\n",
      "   macro avg       0.79      0.79      0.78     33795\n",
      "weighted avg       0.81      0.78      0.78     33795\n",
      "\n"
     ]
    }
   ],
   "source": [
    "randCV.fit(X_train, y_train)\n",
    "y_pred = randCV.predict(X_test)\n",
    "print(confusion_matrix(y_test,y_pred))\n",
    "print(classification_report(y_test,y_pred))"
   ]
  },
  {
   "cell_type": "code",
   "execution_count": 497,
   "metadata": {},
   "outputs": [],
   "source": [
    "from sklearn.linear_model import LogisticRegression"
   ]
  },
  {
   "cell_type": "code",
   "execution_count": 498,
   "metadata": {},
   "outputs": [
    {
     "name": "stderr",
     "output_type": "stream",
     "text": [
      "/Users/peterniksa/anaconda3/lib/python3.7/site-packages/sklearn/linear_model/logistic.py:432: FutureWarning: Default solver will be changed to 'lbfgs' in 0.22. Specify a solver to silence this warning.\n",
      "  FutureWarning)\n"
     ]
    },
    {
     "name": "stdout",
     "output_type": "stream",
     "text": [
      "[[ 2303 12457]\n",
      " [ 1244 17791]]\n",
      "              precision    recall  f1-score   support\n",
      "\n",
      "           0       0.65      0.16      0.25     14760\n",
      "           1       0.59      0.93      0.72     19035\n",
      "\n",
      "    accuracy                           0.59     33795\n",
      "   macro avg       0.62      0.55      0.49     33795\n",
      "weighted avg       0.61      0.59      0.52     33795\n",
      "\n"
     ]
    },
    {
     "name": "stderr",
     "output_type": "stream",
     "text": [
      "/Users/peterniksa/anaconda3/lib/python3.7/site-packages/sklearn/linear_model/logistic.py:432: FutureWarning: Default solver will be changed to 'lbfgs' in 0.22. Specify a solver to silence this warning.\n",
      "  FutureWarning)\n",
      "/Users/peterniksa/anaconda3/lib/python3.7/site-packages/sklearn/linear_model/logistic.py:432: FutureWarning: Default solver will be changed to 'lbfgs' in 0.22. Specify a solver to silence this warning.\n",
      "  FutureWarning)\n",
      "/Users/peterniksa/anaconda3/lib/python3.7/site-packages/sklearn/linear_model/logistic.py:432: FutureWarning: Default solver will be changed to 'lbfgs' in 0.22. Specify a solver to silence this warning.\n",
      "  FutureWarning)\n",
      "/Users/peterniksa/anaconda3/lib/python3.7/site-packages/sklearn/linear_model/logistic.py:432: FutureWarning: Default solver will be changed to 'lbfgs' in 0.22. Specify a solver to silence this warning.\n",
      "  FutureWarning)\n",
      "/Users/peterniksa/anaconda3/lib/python3.7/site-packages/sklearn/linear_model/logistic.py:432: FutureWarning: Default solver will be changed to 'lbfgs' in 0.22. Specify a solver to silence this warning.\n",
      "  FutureWarning)\n"
     ]
    },
    {
     "name": "stdout",
     "output_type": "stream",
     "text": [
      "[0.59542549 0.58050007 0.57984909 0.58248262 0.58181926]\n"
     ]
    }
   ],
   "source": [
    "logrec = LogisticRegression()\n",
    "logrec.fit(X_train, y_train)\n",
    "y_pred = logrec.predict(X_test)\n",
    "print(confusion_matrix(y_test,y_pred))\n",
    "print(classification_report(y_test,y_pred))\n",
    "print(cross_val_score(logrec,X,y, cv = 5))"
   ]
  },
  {
   "cell_type": "code",
   "execution_count": 415,
   "metadata": {},
   "outputs": [
    {
     "data": {
      "text/plain": [
       "PCA(copy=True, iterated_power='auto', n_components=None, random_state=None,\n",
       "    svd_solver='auto', tol=0.0, whiten=False)"
      ]
     },
     "execution_count": 415,
     "metadata": {},
     "output_type": "execute_result"
    }
   ],
   "source": [
    "# Prinicipal component analysis\n",
    "from sklearn.preprocessing import StandardScaler\n",
    "from sklearn.decomposition import PCA\n",
    "scaler = StandardScaler()\n",
    "scaled_X_train = scaler.fit_transform(X_train)\n",
    "scaled_X_test = scaler.fit_transform(X_test)\n",
    "\n",
    "\n",
    "\n",
    "\n",
    "pca = PCA(n_components = None)\n",
    "pca.fit(scaled_X_train)\n",
    "#pca.fit(X_train)"
   ]
  },
  {
   "cell_type": "code",
   "execution_count": 416,
   "metadata": {},
   "outputs": [
    {
     "name": "stdout",
     "output_type": "stream",
     "text": [
      "[4.07996310e-02 3.91094360e-02 3.23624104e-02 2.95987851e-02\n",
      " 2.47089368e-02 2.42557553e-02 2.34760836e-02 2.28662638e-02\n",
      " 2.27713251e-02 2.21257955e-02 2.17395476e-02 2.12854707e-02\n",
      " 2.10945860e-02 2.10300303e-02 2.09405105e-02 2.06560352e-02\n",
      " 2.06201890e-02 2.03051689e-02 2.02188351e-02 2.01722472e-02\n",
      " 1.99844519e-02 1.98714520e-02 1.97872560e-02 1.95643548e-02\n",
      " 1.94651085e-02 1.94306913e-02 1.93992634e-02 1.93583465e-02\n",
      " 1.93437937e-02 1.92995599e-02 1.92791023e-02 1.92665919e-02\n",
      " 1.92371273e-02 1.92112569e-02 1.91775144e-02 1.91286197e-02\n",
      " 1.90540418e-02 1.89514148e-02 1.88660367e-02 1.85974817e-02\n",
      " 1.84108930e-02 1.82280127e-02 1.78150310e-02 1.74019806e-02\n",
      " 1.66287791e-02 1.27694732e-02 1.00815817e-02 6.56071021e-03\n",
      " 3.39674151e-03 2.18682227e-03 1.04302927e-04 5.16313695e-06\n",
      " 8.04630853e-33 2.78350610e-34]\n",
      "PCA(copy=True, iterated_power='auto', n_components=None, random_state=None,\n",
      "    svd_solver='auto', tol=0.0, whiten=False)\n"
     ]
    }
   ],
   "source": [
    "print(pca.explained_variance_ratio_)\n",
    "print(pca)"
   ]
  },
  {
   "cell_type": "code",
   "execution_count": 417,
   "metadata": {},
   "outputs": [],
   "source": [
    "X_train_pca = pca.fit_transform(X_train)\n",
    "X_test_pca = pca.fit_transform(X_test)\n",
    "X_pca = pca.fit_transform(X)"
   ]
  },
  {
   "cell_type": "code",
   "execution_count": 418,
   "metadata": {},
   "outputs": [
    {
     "name": "stdout",
     "output_type": "stream",
     "text": [
      "[[9540 5220]\n",
      " [9059 9976]]\n",
      "              precision    recall  f1-score   support\n",
      "\n",
      "           0       0.51      0.65      0.57     14760\n",
      "           1       0.66      0.52      0.58     19035\n",
      "\n",
      "    accuracy                           0.58     33795\n",
      "   macro avg       0.58      0.59      0.58     33795\n",
      "weighted avg       0.59      0.58      0.58     33795\n",
      "\n"
     ]
    },
    {
     "name": "stderr",
     "output_type": "stream",
     "text": [
      "/Users/peterniksa/anaconda3/lib/python3.7/site-packages/sklearn/linear_model/logistic.py:432: FutureWarning: Default solver will be changed to 'lbfgs' in 0.22. Specify a solver to silence this warning.\n",
      "  FutureWarning)\n",
      "/Users/peterniksa/anaconda3/lib/python3.7/site-packages/sklearn/linear_model/logistic.py:432: FutureWarning: Default solver will be changed to 'lbfgs' in 0.22. Specify a solver to silence this warning.\n",
      "  FutureWarning)\n",
      "/Users/peterniksa/anaconda3/lib/python3.7/site-packages/sklearn/linear_model/logistic.py:432: FutureWarning: Default solver will be changed to 'lbfgs' in 0.22. Specify a solver to silence this warning.\n",
      "  FutureWarning)\n",
      "/Users/peterniksa/anaconda3/lib/python3.7/site-packages/sklearn/linear_model/logistic.py:432: FutureWarning: Default solver will be changed to 'lbfgs' in 0.22. Specify a solver to silence this warning.\n",
      "  FutureWarning)\n",
      "/Users/peterniksa/anaconda3/lib/python3.7/site-packages/sklearn/linear_model/logistic.py:432: FutureWarning: Default solver will be changed to 'lbfgs' in 0.22. Specify a solver to silence this warning.\n",
      "  FutureWarning)\n"
     ]
    },
    {
     "name": "stdout",
     "output_type": "stream",
     "text": [
      "[0.6059297  0.60414262 0.60565172 0.60689451 0.60791857]\n"
     ]
    }
   ],
   "source": [
    "rforest.fit(X_train_pca, y_train)\n",
    "y_pred = rforest.predict(X_test_pca)\n",
    "print(confusion_matrix(y_test,y_pred))\n",
    "print(classification_report(y_test,y_pred))\n",
    "print(cross_val_score(logrec,X_pca,y, cv = 5))"
   ]
  },
  {
   "cell_type": "code",
   "execution_count": 29,
   "metadata": {},
   "outputs": [
    {
     "data": {
      "text/plain": [
       "success                  1.000000\n",
       "base_pledge              0.163112\n",
       "dum_food                -0.157138\n",
       "dum_technology          -0.138063\n",
       "dum_male                -0.107163\n",
       "dum_publishing           0.095476\n",
       "dum_comics               0.093427\n",
       "dum_music                0.092820\n",
       "dum_journalism          -0.074088\n",
       "launch_year             -0.069435\n",
       "dum_dance                0.062754\n",
       "dum_IT                  -0.058840\n",
       "dum_US                   0.056896\n",
       "dum_photography         -0.055725\n",
       "dum_unknown              0.053092\n",
       "dum_crafts              -0.049330\n",
       "dum_DE                  -0.036460\n",
       "goal                    -0.034549\n",
       "dum_NL                  -0.032549\n",
       "dum_MX                  -0.029493\n",
       "dum_ES                  -0.029131\n",
       "dum_theater              0.028372\n",
       "dum_AU                  -0.027666\n",
       "dum_games                0.027176\n",
       "dum_Tuesday              0.026586\n",
       "fx_rate                  0.024497\n",
       "dum_GB                   0.023013\n",
       "dum_design               0.022852\n",
       "cat_position             0.020988\n",
       "blurb_wordcount         -0.020511\n",
       "dum_film & video         0.019302\n",
       "dum_CA                  -0.018302\n",
       "dum_BE                  -0.017670\n",
       "dum_HK                   0.017532\n",
       "dum_Saturday            -0.016785\n",
       "dum_CH                  -0.016421\n",
       "launch_day              -0.015207\n",
       "dum_FR                  -0.015087\n",
       "duration                 0.015025\n",
       "launch_month            -0.013536\n",
       "dum_IE                  -0.010398\n",
       "dum_NO                  -0.010264\n",
       "dum_SE                  -0.010183\n",
       "dum_Wednesday            0.007330\n",
       "dum_Sunday              -0.006982\n",
       "dum_NZ                  -0.005322\n",
       "dum_fashion              0.004946\n",
       "dum_JP                   0.004320\n",
       "dum_DK                  -0.003093\n",
       "launch_hour             -0.003008\n",
       "dum_Monday              -0.002875\n",
       "dum_Thursday            -0.000772\n",
       "dum_LU                   0.000659\n",
       "crea_id                 -0.000552\n",
       "dum_SG                   0.000214\n",
       "disable_communication         NaN\n",
       "is_starrable                  NaN\n",
       "Name: success, dtype: float64"
      ]
     },
     "execution_count": 29,
     "metadata": {},
     "output_type": "execute_result"
    },
    {
     "data": {
      "text/plain": [
       "<Figure size 1080x1080 with 0 Axes>"
      ]
     },
     "metadata": {},
     "output_type": "display_data"
    }
   ],
   "source": [
    "ix = df_tot7.corr().abs().sort_values('success', ascending=False).index\n",
    "df_tot8 = df_tot7.loc[:, ix]\n",
    "corrm = df_tot8.corr()\n",
    "#corrm = df_tot7.corr()\n",
    "plt.figure(figsize = (15,15))\n",
    "#sns.heatmap(corrm)\n",
    "corrm.success"
   ]
  },
  {
   "cell_type": "code",
   "execution_count": 6,
   "metadata": {},
   "outputs": [],
   "source": [
    "import bokeh.plotting as bkh\n",
    "from bokeh.models import ColumnDataSource, DataRange1d, Plot, LinearAxis, Grid, Range1d, LabelSet, Label, LogAxis, GMapOptions\n",
    "from bokeh.io import export_svgs, output_file, show, export_png\n",
    "from bokeh.transform import dodge\n",
    "import bokeh.colors as colors\n",
    "from bokeh.colors import Color\n",
    "from bokeh.models.ranges import FactorRange"
   ]
  },
  {
   "cell_type": "code",
   "execution_count": 674,
   "metadata": {},
   "outputs": [
    {
     "name": "stderr",
     "output_type": "stream",
     "text": [
      "/Users/peterniksa/anaconda3/lib/python3.7/site-packages/ipykernel_launcher.py:2: DeprecationWarning: Passing normed=False is deprecated, and has no effect. Consider passing the density argument instead.\n",
      "  \n",
      "/Users/peterniksa/anaconda3/lib/python3.7/site-packages/ipykernel_launcher.py:4: DeprecationWarning: Passing normed=False is deprecated, and has no effect. Consider passing the density argument instead.\n",
      "  after removing the cwd from sys.path.\n",
      "/Users/peterniksa/anaconda3/lib/python3.7/site-packages/ipykernel_launcher.py:8: DeprecationWarning: Passing normed=False is deprecated, and has no effect. Consider passing the density argument instead.\n",
      "  \n",
      "/Users/peterniksa/anaconda3/lib/python3.7/site-packages/ipykernel_launcher.py:10: DeprecationWarning: Passing normed=False is deprecated, and has no effect. Consider passing the density argument instead.\n",
      "  # Remove the CWD from sys.path while we load stuff.\n"
     ]
    }
   ],
   "source": [
    "pledges_mon, edges_mon = np.histogram(df_tot7.launch_month, bins=12, range=(1,13), \n",
    "                                      normed=False, weights=None, density=None)\n",
    "pledges_succ_mon, edges_mon = np.histogram(df_tot7[df_tot7.success == 1].launch_month, bins=12, range=(1,13), \n",
    "                                      normed=False, weights=None, density=None)\n",
    "weight_succ_d = df_tot6[df_tot6.success == 1].usd_pledged\n",
    "weight_all_d = df_tot6.usd_pledged\n",
    "pledges_mon_d, edges_mon = np.histogram(df_tot6.launch_month, bins=12, range=(1,13), \n",
    "                                      normed=False, weights=weight_all_d, density=None)\n",
    "pledges_succ_mon_d, edges_mon = np.histogram(df_tot6[df_tot6.success == 1].launch_month, bins=12, range=(1,13), \n",
    "                                      normed=False, weights=weight_succ_d, density=None)\n",
    "\n",
    "\n"
   ]
  },
  {
   "cell_type": "code",
   "execution_count": 654,
   "metadata": {},
   "outputs": [],
   "source": [
    "#Print histogram for date bins i.e. sales per month using bokeh\n",
    "plot1 = bkh.figure(y_range=(0, 20_000))\n",
    "xaxis = LinearAxis()\n",
    "yaxis = LinearAxis()\n",
    "plot1.xaxis[0].axis_label = 'Month'\n",
    "plot1.yaxis[0].axis_label = 'Kickstarter per month'\n",
    "#volume_figure.vbar_stack([\"buys\"], x='timestamp', width=1.0, color=[colors.turquoise], source=source)\n",
    "plot1.vbar(x = edges_mon[:-1], width = 0.9 * (edges_mon[1] - edges_mon[0]), top = pledges_mon, color = \"#FF5E33\", fill_alpha = 0.7, legend = 'all')\n",
    "plot1.vbar(x = edges_mon[:-1], width = 0.9 * (edges_mon[1] - edges_mon[0]), top = pledges_succ_mon, color = \"#9033FF\", fill_alpha = 0.7, legend = 'successful')\n",
    "plot1.add_layout(Grid(dimension=0, ticker=xaxis.ticker))\n",
    "plot1.add_layout(Grid(dimension=1, ticker=yaxis.ticker))\n",
    "#plot1.output_backend = \"png\"\n",
    "export_png(plot1, filename=\"Monthly.png\")\n",
    "bkh.show(plot1)\n",
    "\n",
    "\n",
    "\n",
    "#fruits = ['Apples', 'Pears', 'Nectarines', 'Plums', 'Grapes', 'Strawberries']\n",
    "#years = ['2015', '2016', '2017']\n",
    "\n",
    "#data = {'fruits' : fruits,\n",
    "#        '2015'   : [2, 1, 4, 3, 2, 4],\n",
    "#        '2016'   : [5, 3, 3, 2, 4, 6],\n",
    "#        '2017'   : [3, 2, 4, 4, 5, 3]}\n",
    "\n",
    "#source = ColumnDataSource(data=data)\n",
    "\n",
    "#p = figure(x_range=fruits, y_range=(0, 10), plot_height=250, title=\"Fruit Counts by Year\",\n",
    "#           toolbar_location=None, tools=\"\")\n",
    "\n",
    "#p.vbar(x=dodge('fruits', -0.25, range=p.x_range), top='2015', width=0.2, source=source,\n",
    "#       color=\"#c9d9d3\", legend_label=\"2015\")\n",
    "\n",
    "#p.vbar(x=dodge('fruits',  0.0,  range=p.x_range), top='2016', width=0.2, source=source,\n",
    "#       color=\"#718dbf\", legend_label=\"2016\")\n",
    "\n",
    "#p.vbar(x=dodge('fruits',  0.25, range=p.x_range), top='2017', width=0.2, source=source,\n",
    "#       color=\"#e84d60\", legend_label=\"2017\")\n",
    "\n",
    "#p.x_range.range_padding = 0.1\n",
    "#p.xgrid.grid_line_color = None\n",
    "#p.legend.location = \"top_left\"\n",
    "#p.legend.orientation = \"horizontal\""
   ]
  },
  {
   "cell_type": "code",
   "execution_count": 672,
   "metadata": {},
   "outputs": [],
   "source": [
    "# rather meaningless\n",
    "plot1 = bkh.figure(y_range=(0, 250_000_000))\n",
    "xaxis = LinearAxis()\n",
    "yaxis = LinearAxis()\n",
    "plot1.xaxis[0].axis_label = 'Month'\n",
    "plot1.yaxis[0].axis_label = 'Pledged amount per month [$]'\n",
    "#volume_figure.vbar_stack([\"buys\"], x='timestamp', width=1.0, color=[colors.turquoise], source=source)\n",
    "plot1.vbar(x = edges_mon[:-1], width = 0.9 * (edges_mon[1] - edges_mon[0]), top = pledges_mon_d, color = \"#FF5E33\", fill_alpha = 0.7, legend = 'all')\n",
    "plot1.vbar(x = edges_mon[:-1], width = 0.9 * (edges_mon[1] - edges_mon[0]), top = pledges_succ_mon_d, color = \"#9033FF\", fill_alpha = 0.7, legend = 'successful')\n",
    "plot1.add_layout(Grid(dimension=0, ticker=xaxis.ticker))\n",
    "plot1.add_layout(Grid(dimension=1, ticker=yaxis.ticker))\n",
    "#plot1.output_backend = \"png\"\n",
    "export_png(plot1, filename=\"Monthly_d.png\")\n",
    "bkh.show(plot1)\n"
   ]
  },
  {
   "cell_type": "code",
   "execution_count": 675,
   "metadata": {},
   "outputs": [
    {
     "name": "stderr",
     "output_type": "stream",
     "text": [
      "/Users/peterniksa/anaconda3/lib/python3.7/site-packages/ipykernel_launcher.py:4: DeprecationWarning: Passing normed=False is deprecated, and has no effect. Consider passing the density argument instead.\n",
      "  after removing the cwd from sys.path.\n",
      "/Users/peterniksa/anaconda3/lib/python3.7/site-packages/ipykernel_launcher.py:6: DeprecationWarning: Passing normed=False is deprecated, and has no effect. Consider passing the density argument instead.\n",
      "  \n",
      "/Users/peterniksa/anaconda3/lib/python3.7/site-packages/ipykernel_launcher.py:8: DeprecationWarning: Passing normed=False is deprecated, and has no effect. Consider passing the density argument instead.\n",
      "  \n",
      "/Users/peterniksa/anaconda3/lib/python3.7/site-packages/ipykernel_launcher.py:10: DeprecationWarning: Passing normed=False is deprecated, and has no effect. Consider passing the density argument instead.\n",
      "  # Remove the CWD from sys.path while we load stuff.\n"
     ]
    }
   ],
   "source": [
    "ly = df_tot7.launch_year.min()\n",
    "oy = df_tot7.launch_year.max() + 1\n",
    "pledges_year, edges_year = np.histogram(df_tot7.launch_year, bins=df_tot7.launch_year.nunique(), \n",
    "                                      normed=False, weights=None, density=None, range = (ly,oy))\n",
    "pledges_succ_year, edges_year = np.histogram(df_tot7[df_tot7.success == 1].launch_year, bins=df_tot7.launch_year.nunique(), \n",
    "                                      normed=False, weights=None, density=None, range = (ly,oy))\n",
    "pledges_year_d, edges_year = np.histogram(df_tot7.launch_year, bins=df_tot7.launch_year.nunique(), \n",
    "                                      normed=False, weights=weight_all_d, density=None, range = (ly,oy))\n",
    "pledges_succ_year_d, edges_year = np.histogram(df_tot7[df_tot7.success == 1].launch_year, bins=df_tot7.launch_year.nunique(), \n",
    "                                      normed=False, weights=weight_succ_d, density=None, range = (ly,oy))\n"
   ]
  },
  {
   "cell_type": "code",
   "execution_count": 676,
   "metadata": {},
   "outputs": [
    {
     "name": "stderr",
     "output_type": "stream",
     "text": [
      "BokehUserWarning: ColumnDataSource's columns must be of the same length. Current lengths: ('top', 11), ('x', 12)\n",
      "BokehUserWarning: ColumnDataSource's columns must be of the same length. Current lengths: ('top', 11), ('x', 12)\n"
     ]
    }
   ],
   "source": [
    "plot1 = bkh.figure(y_range=(0, 40_000))\n",
    "xaxis = LinearAxis()\n",
    "yaxis = LinearAxis()\n",
    "plot1.xaxis[0].axis_label = 'Year'\n",
    "plot1.yaxis[0].axis_label = 'Kickstarter per year'\n",
    "#volume_figure.vbar_stack([\"buys\"], x='timestamp', width=1.0, color=[colors.turquoise], source=source)\n",
    "plot1.vbar(x = edges_year[:-1], width = 0.9 * (edges_year[1] - edges_year[0]), top = pledges_year, color = \"#FF5E33\", fill_alpha = 0.7, legend = 'all')\n",
    "plot1.vbar(x = edges_year[:-1], width = 0.9 * (edges_year[1] - edges_year[0]), top = pledges_succ_year, color = \"#9033FF\", fill_alpha = 0.7, legend = 'successful')\n",
    "plot1.add_layout(Grid(dimension=0, ticker=xaxis.ticker))\n",
    "plot1.add_layout(Grid(dimension=1, ticker=yaxis.ticker))\n",
    "#plot1.output_backend = \"png\"\n",
    "export_png(plot1, filename=\"Yearly.png\")\n",
    "bkh.show(plot1)"
   ]
  },
  {
   "cell_type": "code",
   "execution_count": 673,
   "metadata": {},
   "outputs": [],
   "source": [
    "plot1 = bkh.figure(y_range=(0, 600_000_000))\n",
    "xaxis = LinearAxis()\n",
    "yaxis = LinearAxis()\n",
    "plot1.xaxis[0].axis_label = 'Year'\n",
    "plot1.yaxis[0].axis_label = 'Pledged amount per year [$]'\n",
    "#volume_figure.vbar_stack([\"buys\"], x='timestamp', width=1.0, color=[colors.turquoise], source=source)\n",
    "plot1.vbar(x = edges_year[:-1], width = 0.9 * (edges_year[1] - edges_year[0]), top = pledges_year_d, color = \"#FF5E33\", fill_alpha = 0.7, legend = 'all')\n",
    "plot1.vbar(x = edges_year[:-1], width = 0.9 * (edges_year[1] - edges_year[0]), top = pledges_succ_year_d, color = \"#9033FF\", fill_alpha = 0.7, legend = 'successful')\n",
    "plot1.add_layout(Grid(dimension=0, ticker=xaxis.ticker))\n",
    "plot1.add_layout(Grid(dimension=1, ticker=yaxis.ticker))\n",
    "#plot1.output_backend = \"png\"\n",
    "export_png(plot1, filename=\"Yearly_d.png\")\n",
    "bkh.show(plot1)"
   ]
  },
  {
   "cell_type": "code",
   "execution_count": 7,
   "metadata": {},
   "outputs": [
    {
     "name": "stderr",
     "output_type": "stream",
     "text": [
      "/Users/peterniksa/anaconda3/lib/python3.7/site-packages/ipykernel_launcher.py:4: VisibleDeprecationWarning: Passing `normed=True` on non-uniform bins has always been broken, and computes neither the probability density function nor the probability mass function. The result is only correct if the bins are uniform, when density=True will produce the same result anyway. The argument will be removed in a future version of numpy.\n",
      "  after removing the cwd from sys.path.\n",
      "/Users/peterniksa/anaconda3/lib/python3.7/site-packages/ipykernel_launcher.py:6: VisibleDeprecationWarning: Passing `normed=True` on non-uniform bins has always been broken, and computes neither the probability density function nor the probability mass function. The result is only correct if the bins are uniform, when density=True will produce the same result anyway. The argument will be removed in a future version of numpy.\n",
      "  \n"
     ]
    }
   ],
   "source": [
    "ly = df_tot7.base_pledge.min()\n",
    "oy = df_tot7.base_pledge.max()\n",
    "base_pledge_succ_count, edges_base = np.histogram(df_tot7[df_tot7.success == 1].base_pledge, bins=1000, \n",
    "                                      normed=True, weights=None, density=None, range = (ly,oy))\n",
    "base_pledge_count, edges_base = np.histogram(df_tot7.base_pledge, bins=1000, \n",
    "                                      normed=True, weights=None, density=None, range = (ly,oy))\n",
    "plot1 = bkh.figure(y_range=(0, 0.015), x_range = (0, 400))\n",
    "xaxis = LinearAxis()\n",
    "yaxis = LinearAxis()\n",
    "plot1.xaxis[0].axis_label = 'Base Pledge Estimate [$]'\n",
    "plot1.yaxis[0].axis_label = 'Relative number of Kickstarter projects'\n",
    "#volume_figure.vbar_stack([\"buys\"], x='timestamp', width=1.0, color=[colors.turquoise], source=source)\n",
    "plot1.vbar(x = edges_base[:-1], width = 0.9 * (edges_base[1] - edges_base[0]), top = base_pledge_count, color = \"#FF5E33\", fill_alpha = 0.7, legend = 'all')\n",
    "plot1.vbar(x = edges_base[:-1], width = 0.9 * (edges_base[1] - edges_base[0]), top = base_pledge_succ_count, color = \"#9033FF\", fill_alpha = 0.7, legend = 'successful')\n",
    "plot1.add_layout(Grid(dimension=0, ticker=xaxis.ticker))\n",
    "plot1.add_layout(Grid(dimension=1, ticker=yaxis.ticker))\n",
    "#plot1.output_backend = \"png\"\n",
    "export_png(plot1, filename=\"Base.png\")\n",
    "bkh.show(plot1)"
   ]
  },
  {
   "cell_type": "code",
   "execution_count": 4,
   "metadata": {},
   "outputs": [],
   "source": [
    "#df_tot7.goal\n",
    "import numpy as np\n",
    "loggoal = [np.log10(x) for x in df_tot7.goal]\n",
    "loggoal_succ = [np.log10(x) for x in df_tot7[df_tot7.success == 1].goal]"
   ]
  },
  {
   "cell_type": "code",
   "execution_count": 26,
   "metadata": {},
   "outputs": [
    {
     "name": "stderr",
     "output_type": "stream",
     "text": [
      "/Users/peterniksa/anaconda3/lib/python3.7/site-packages/ipykernel_launcher.py:4: VisibleDeprecationWarning: Passing `normed=True` on non-uniform bins has always been broken, and computes neither the probability density function nor the probability mass function. The result is only correct if the bins are uniform, when density=True will produce the same result anyway. The argument will be removed in a future version of numpy.\n",
      "  after removing the cwd from sys.path.\n",
      "/Users/peterniksa/anaconda3/lib/python3.7/site-packages/ipykernel_launcher.py:6: VisibleDeprecationWarning: Passing `normed=True` on non-uniform bins has always been broken, and computes neither the probability density function nor the probability mass function. The result is only correct if the bins are uniform, when density=True will produce the same result anyway. The argument will be removed in a future version of numpy.\n",
      "  \n"
     ]
    }
   ],
   "source": [
    "ly = min(loggoal)\n",
    "oy = max(loggoal)\n",
    "goal_succ_count, edges_goal = np.histogram(loggoal_succ, bins=30, \n",
    "                                      normed=True, weights=None, density=None, range = (ly,oy))\n",
    "goal_count, edges_goal = np.histogram(loggoal, bins=30, \n",
    "                                      normed=True, weights=None, density=None, range = (ly,oy))\n",
    "#goal_succ_count = [goal_succ_count / df_tot7[df_tot7.success == 1].goal.count() for x in goal_succ_count]\n",
    "#goal_count = [goal_count / df_tot7.goal.count() for x in goal_count]\n",
    "plot1 = bkh.figure(y_range=(0, 0.6), x_range = (-1, 7))\n",
    "xaxis = LinearAxis()\n",
    "yaxis = LinearAxis()\n",
    "plot1.xaxis[0].axis_label = 'Pledge goal [$]'\n",
    "plot1.yaxis[0].axis_label = 'Relative number of Kickstarter projects'\n",
    "#volume_figure.vbar_stack([\"buys\"], x='timestamp', width=1.0, color=[colors.turquoise], source=source)\n",
    "plot1.vbar(x = edges_goal[:-1], width = 0.9 * (edges_goal[1] - edges_goal[0]), top = goal_count, color = \"#FF5E33\", fill_alpha = 0.7, legend = 'all')\n",
    "plot1.vbar(x = edges_goal[:-1], width = 0.9 * (edges_goal[1] - edges_goal[0]), top = goal_succ_count, color = \"#9033FF\", fill_alpha = 0.7, legend = 'successful')\n",
    "plot1.add_layout(Grid(dimension=0, ticker=xaxis.ticker))\n",
    "plot1.add_layout(Grid(dimension=1, ticker=yaxis.ticker))\n",
    "#plot1.output_backend = \"png\"\n",
    "export_png(plot1, filename=\"Goal.png\")\n",
    "bkh.show(plot1)"
   ]
  },
  {
   "cell_type": "code",
   "execution_count": 16,
   "metadata": {},
   "outputs": [
    {
     "name": "stdout",
     "output_type": "stream",
     "text": [
      "-2.0 8.0\n"
     ]
    }
   ],
   "source": [
    "goal_count\n",
    "print(ly,oy)\n",
    "#base_pledge_count"
   ]
  },
  {
   "cell_type": "code",
   "execution_count": 795,
   "metadata": {},
   "outputs": [
    {
     "data": {
      "text/plain": [
       "<Figure size 2160x2160 with 0 Axes>"
      ]
     },
     "metadata": {},
     "output_type": "display_data"
    },
    {
     "data": {
      "image/png": "[encoded data removed]",
      "text/plain": [
       "<Figure size 1018.62x720 with 1 Axes>"
      ]
     },
     "metadata": {},
     "output_type": "display_data"
    }
   ],
   "source": [
    "\n",
    "\n",
    "#source = ColumnDataSource(dict(x = cats, y = cats_v))\n",
    "\n",
    "#p = bkh.figure(x_range=FactorRange(*x), plot_height=250, title=\"Fruit Counts by Year\",\n",
    " #          toolbar_location=None, tools=\"\")\n",
    "#export_png(p, filename=\"Categories.png\")\n",
    "#p.vbar(x='x', top='y', width=0.9, source=source)\n",
    "#show(p)\n",
    "#plt.figure(figsize = (15,15))\n",
    "#from pylab import savefig\n",
    "#result = df_tot6.groupby([\"cat_super\"]).cat_super.agg(size = 'size').reset_index().sort_values('size')\n",
    "\n",
    "\n",
    "\n",
    "cats = list(df_tot6.cat_super.unique())\n",
    "cats_v = list()\n",
    "for x in cats:\n",
    "    cats_v.append(df_tot6.groupby('cat_super').get_group(x).usd_pledged.count())\n",
    "#category_count, categories = np.histogram(df_tot6.cat_super, bins=df_tot6.cat_super.nunique(), \n",
    " #                                     normed=False, weights=None, density=None, range = (1,15))\n",
    "Cat_d = pd.DataFrame()\n",
    "Cat_d['Category'] = cats\n",
    "Cat_d['Values'] = cats_v\n",
    "Cat_d = Cat_d.sort_values('Values')\n",
    "\n",
    "\n",
    "plt.figure(figsize = (30,30))\n",
    "sns.set(rc={'figure.figsize':(20,20)})\n",
    "fig = sns.catplot(x=\"Category\", y = 'Values', kind=\"bar\", data=Cat_d, height=10, aspect=11.7/8.27);\n",
    "#fig = sns.catplot(x=\"cat_super\", kind=\"count\", data=df_tot6, height=10, aspect=11.7/8.27);\n",
    "#fig.set_xlabel(\"Categories\",fontsize=15)\n",
    "#fig.set_ylabel(\"Kickstarter projects per category\",fontsize=15)\n",
    "#fig.tick_params(labelsize=10)\n",
    "fig.set(xlabel='Categories', ylabel='Kickstarter projects per category')\n",
    "fig.savefig(\"Categories.png\", format=\"png\")\n",
    "plt.show()"
   ]
  },
  {
   "cell_type": "code",
   "execution_count": 782,
   "metadata": {},
   "outputs": [
    {
     "data": {
      "text/plain": [
       "<Figure size 2160x2160 with 0 Axes>"
      ]
     },
     "metadata": {},
     "output_type": "display_data"
    },
    {
     "data": {
      "image/png": "[encoded data removed]",
      "text/plain": [
       "<Figure size 1018.62x720 with 1 Axes>"
      ]
     },
     "metadata": {},
     "output_type": "display_data"
    }
   ],
   "source": [
    "cats = list(df_tot6.cat_super.unique())\n",
    "cats_v = list()\n",
    "for x in cats:\n",
    "    cats_v.append(df_tot6.groupby('cat_super').get_group(x).usd_pledged.sum())\n",
    "#category_count, categories = np.histogram(df_tot6.cat_super, bins=df_tot6.cat_super.nunique(), \n",
    " #                                     normed=False, weights=None, density=None, range = (1,15))\n",
    "Cat_d = pd.DataFrame()\n",
    "Cat_d['Category'] = cats\n",
    "Cat_d['Values'] = cats_v\n",
    "Cat_d = Cat_d.sort_values('Values')\n",
    "\n",
    "plt.figure(figsize = (30,30))\n",
    "sns.set(rc={'figure.figsize':(20,20)})\n",
    "#fig = sns.catplot(x=\"cat_super\", y = 'usd_pledged', kind=\"bar\", data=df_tot6, height=10, aspect=11.7/8.27);\n",
    "fig = sns.catplot(x=\"Category\", y = 'Values', kind=\"bar\", data=Cat_d, height=10, aspect=11.7/8.27);\n",
    "#fig = sns.countplot(x=\"cat_super\", y = 'usd_pledged', data=df_tot6, height=10, aspect=11.7/8.27);\n",
    "#fig.set_xlabel(\"Categories\",fontsize=15)\n",
    "#fig.set_ylabel(\"Kickstarter projects per category\",fontsize=15)\n",
    "#fig.tick_params(labelsize=10)\n",
    "fig.set(xlabel='Categories', ylabel='Pledged amount per category [$]')\n",
    "fig.savefig(\"Categories_d2.png\", format=\"png\")\n",
    "plt.show()"
   ]
  },
  {
   "cell_type": "code",
   "execution_count": 779,
   "metadata": {},
   "outputs": [
    {
     "data": {
      "text/plain": [
       "<Figure size 2160x2160 with 0 Axes>"
      ]
     },
     "metadata": {},
     "output_type": "display_data"
    },
    {
     "data": {
      "image/png": "[encoded data removed]",
      "text/plain": [
       "<Figure size 1018.62x720 with 1 Axes>"
      ]
     },
     "metadata": {},
     "output_type": "display_data"
    }
   ],
   "source": [
    "cats = list(df_tot6.cat_super.unique())\n",
    "cats_v = list()\n",
    "for x in cats:\n",
    "    cats_v.append(df_tot6[df_tot6.success == 1].groupby('cat_super').get_group(x).usd_pledged.count() /  df_tot6.groupby('cat_super').get_group(x).usd_pledged.count())\n",
    "#category_count, categories = np.histogram(df_tot6.cat_super, bins=df_tot6.cat_super.nunique(), \n",
    " #                                     normed=False, weights=None, density=None, range = (1,15))\n",
    "Cat_d = pd.DataFrame()\n",
    "Cat_d['Category'] = cats\n",
    "Cat_d['Values'] = cats_v\n",
    "Cat_d = Cat_d.sort_values('Values')\n",
    "\n",
    "plt.figure(figsize = (30,30))\n",
    "sns.set(rc={'figure.figsize':(20,20)})\n",
    "#fig = sns.catplot(x=\"cat_super\", y = 'usd_pledged', kind=\"bar\", data=df_tot6, height=10, aspect=11.7/8.27);\n",
    "fig = sns.catplot(x=\"Category\", y = 'Values', kind=\"bar\", data=Cat_d, height=10, aspect=11.7/8.27);\n",
    "#fig = sns.countplot(x=\"cat_super\", y = 'usd_pledged', data=df_tot6, height=10, aspect=11.7/8.27);\n",
    "#fig.set_xlabel(\"Categories\",fontsize=15)\n",
    "#fig.set_ylabel(\"Kickstarter projects per category\",fontsize=15)\n",
    "#fig.tick_params(labelsize=10)\n",
    "fig.set(xlabel='Categories', ylabel='Success rate per category')\n",
    "fig.savefig(\"Categories_succ.png\", format=\"png\")\n",
    "plt.show()"
   ]
  },
  {
   "cell_type": "code",
   "execution_count": 862,
   "metadata": {},
   "outputs": [
    {
     "name": "stderr",
     "output_type": "stream",
     "text": [
      "/Users/peterniksa/anaconda3/lib/python3.7/site-packages/ipykernel_launcher.py:4: UserWarning: Boolean Series key will be reindexed to match DataFrame index.\n",
      "  after removing the cwd from sys.path.\n",
      "/Users/peterniksa/anaconda3/lib/python3.7/site-packages/ipykernel_launcher.py:5: UserWarning: Boolean Series key will be reindexed to match DataFrame index.\n",
      "  \"\"\"\n"
     ]
    },
    {
     "data": {
      "text/plain": [
       "<Figure size 2160x2160 with 0 Axes>"
      ]
     },
     "metadata": {},
     "output_type": "display_data"
    },
    {
     "data": {
      "image/png": "[encoded data removed]",
      "text/plain": [
       "<Figure size 1018.62x720 with 1 Axes>"
      ]
     },
     "metadata": {},
     "output_type": "display_data"
    }
   ],
   "source": [
    "cats = list(df_tot6.cat_super.unique())\n",
    "cats_v = list()\n",
    "for x in cats:\n",
    "    a = df_tot6[df_tot6.success == 1][df_tot6.gender == 'female'].groupby('cat_super').get_group(x).usd_pledged.count()\n",
    "    b = df_tot6[df_tot6.success == 1][df_tot6.gender == 'male'].groupby('cat_super').get_group(x).usd_pledged.count()\n",
    "    n = df_tot6[df_tot6.gender == 'female'].groupby('cat_super').get_group(x).usd_pledged.count()\n",
    "    m = df_tot6[df_tot6.gender == 'male'].groupby('cat_super').get_group(x).usd_pledged.count()\n",
    "  \n",
    "    cats_v.append(a / n / (a / n + b / m))\n",
    "    #cats_v.append(n / (n + m))\n",
    "#category_count, categories = np.histogram(df_tot6.cat_super, bins=df_tot6.cat_super.nunique(), \n",
    " #                                     normed=False, weights=None, density=None, range = (1,15))\n",
    "Cat_d = pd.DataFrame()\n",
    "Cat_d['Category'] = cats\n",
    "Cat_d['Values'] = cats_v\n",
    "Cat_d = Cat_d.sort_values('Values')\n",
    "\n",
    "plt.figure(figsize = (30,30))\n",
    "sns.set(rc={'figure.figsize':(20,20)})\n",
    "#fig = sns.catplot(x=\"cat_super\", y = 'usd_pledged', kind=\"bar\", data=df_tot6, height=10, aspect=11.7/8.27);\n",
    "fig = sns.catplot(x=\"Category\", y = 'Values', kind=\"bar\", data=Cat_d, height=10, aspect=11.7/8.27);\n",
    "#fig = sns.countplot(x=\"cat_super\", y = 'usd_pledged', data=df_tot6, height=10, aspect=11.7/8.27);\n",
    "#fig.set_xlabel(\"Categories\",fontsize=15)\n",
    "#fig.set_ylabel(\"Kickstarter projects per category\",fontsize=15)\n",
    "#fig.tick_params(labelsize=10)\n",
    "fig.set(xlabel='Categories', ylabel='Relative success rate of females per category')\n",
    "fig.savefig(\"Categories_succ_fem2.png\", format=\"png\")\n",
    "plt.show()"
   ]
  },
  {
   "cell_type": "code",
   "execution_count": 863,
   "metadata": {},
   "outputs": [
    {
     "name": "stderr",
     "output_type": "stream",
     "text": [
      "/Users/peterniksa/anaconda3/lib/python3.7/site-packages/ipykernel_launcher.py:4: UserWarning: Boolean Series key will be reindexed to match DataFrame index.\n",
      "  after removing the cwd from sys.path.\n",
      "/Users/peterniksa/anaconda3/lib/python3.7/site-packages/ipykernel_launcher.py:5: UserWarning: Boolean Series key will be reindexed to match DataFrame index.\n",
      "  \"\"\"\n"
     ]
    },
    {
     "data": {
      "text/plain": [
       "<Figure size 2160x2160 with 0 Axes>"
      ]
     },
     "metadata": {},
     "output_type": "display_data"
    },
    {
     "data": {
      "image/png": "[encoded data removed]",
      "text/plain": [
       "<Figure size 1018.62x720 with 1 Axes>"
      ]
     },
     "metadata": {},
     "output_type": "display_data"
    }
   ],
   "source": [
    "cats = list(df_tot6.cat_super.unique())\n",
    "cats_v = list()\n",
    "for x in cats:\n",
    "    a = df_tot6[df_tot6.success == 1][df_tot6.gender == 'female'].groupby('cat_super').get_group(x).usd_pledged.count()\n",
    "    b = df_tot6[df_tot6.success == 1][df_tot6.gender == 'male'].groupby('cat_super').get_group(x).usd_pledged.count()\n",
    "    n = df_tot6[df_tot6.gender == 'female'].groupby('cat_super').get_group(x).usd_pledged.count()\n",
    "    m = df_tot6[df_tot6.gender == 'male'].groupby('cat_super').get_group(x).usd_pledged.count()\n",
    "  \n",
    "    #cats_v.append(a / n / (a / n + b / m))\n",
    "    cats_v.append(n / (n + m))\n",
    "#category_count, categories = np.histogram(df_tot6.cat_super, bins=df_tot6.cat_super.nunique(), \n",
    " #                                     normed=False, weights=None, density=None, range = (1,15))\n",
    "Cat_d = pd.DataFrame()\n",
    "Cat_d['Category'] = cats\n",
    "Cat_d['Values'] = cats_v\n",
    "Cat_d = Cat_d.sort_values('Values')\n",
    "\n",
    "plt.figure(figsize = (30,30))\n",
    "sns.set(rc={'figure.figsize':(20,20)})\n",
    "#fig = sns.catplot(x=\"cat_super\", y = 'usd_pledged', kind=\"bar\", data=df_tot6, height=10, aspect=11.7/8.27);\n",
    "fig = sns.catplot(x=\"Category\", y = 'Values', kind=\"bar\", data=Cat_d, height=10, aspect=11.7/8.27);\n",
    "#fig = sns.countplot(x=\"cat_super\", y = 'usd_pledged', data=df_tot6, height=10, aspect=11.7/8.27);\n",
    "#fig.set_xlabel(\"Categories\",fontsize=15)\n",
    "#fig.set_ylabel(\"Kickstarter projects per category\",fontsize=15)\n",
    "#fig.tick_params(labelsize=10)\n",
    "fig.set(xlabel='Categories', ylabel='Rate of projects by women per category')\n",
    "fig.savefig(\"Categories_succ_fem3.png\", format=\"png\")\n",
    "plt.show()"
   ]
  },
  {
   "cell_type": "code",
   "execution_count": 814,
   "metadata": {},
   "outputs": [
    {
     "name": "stdout",
     "output_type": "stream",
     "text": [
      "1 133656\n",
      "2 9423\n",
      "3 2048\n",
      "4 735\n",
      "5 356\n",
      "6 212\n",
      "7 100\n",
      "8 65\n",
      "9 41\n",
      "10 33\n",
      "11 34\n",
      "12 24\n",
      "13 14\n",
      "14 12\n",
      "15 9\n",
      "16 7\n",
      "17 8\n",
      "18 7\n",
      "19 5\n",
      "20 4\n",
      "21 2\n",
      "22 0\n",
      "23 2\n",
      "24 3\n",
      "25 2\n",
      "26 3\n",
      "27 1\n",
      "28 0\n",
      "29 1\n",
      "30 1\n",
      "31 0\n",
      "32 2\n",
      "33 1\n",
      "34 1\n",
      "35 1\n",
      "36 0\n",
      "37 0\n",
      "38 0\n",
      "39 0\n",
      "40 0\n",
      "41 0\n",
      "42 0\n",
      "43 0\n",
      "44 0\n",
      "45 0\n",
      "46 0\n",
      "47 0\n",
      "48 0\n",
      "49 0\n",
      "50 0\n",
      "51 0\n",
      "52 1\n",
      "53 0\n",
      "54 0\n",
      "55 0\n",
      "56 0\n",
      "57 0\n",
      "58 0\n",
      "59 1\n",
      "60 0\n",
      "61 0\n",
      "62 0\n",
      "63 0\n",
      "64 0\n",
      "65 0\n",
      "66 0\n",
      "67 0\n",
      "68 0\n",
      "69 0\n",
      "70 0\n",
      "71 1\n",
      "72 0\n",
      "73 0\n",
      "74 0\n"
     ]
    }
   ],
   "source": [
    "double_entries_sublist = [df_tot4[df_tot4.id == x].index[1:] for x in iddouble_list]\n",
    "double_entries_sublist_flat = list()\n",
    "for y in double_entries_sublist:\n",
    "  for x in y:\n",
    "    double_entries_sublist_flat.append(x)\n",
    "#double_entries_sublist_flat\n",
    "df_tot5 = df_tot4.drop(double_entries_sublist_flat, axis = 0)\n",
    "# list of project list of unique creator\n",
    "unique_crea_set = set(df_tot5.crea_id.unique())\n",
    "#crea_id_entry\n",
    "\n",
    "creaid_groupby = df_tot5.groupby('crea_id')\n",
    "\n",
    "\n",
    "creaid_groupby2 = creaid_groupby.size().reset_index(name='counts')\n",
    "indexcreaid = creaid_groupby2[creaid_groupby2.counts > 1].index\n",
    "creaiddouble_list = creaid_groupby2[creaid_groupby2.counts > 1].crea_id.unique()\n",
    "# number of creators with x projects\n",
    "multi_proj = list()\n",
    "x_list = list()\n",
    "for x in range(1,75):\n",
    "  a = len(creaid_groupby2[creaid_groupby2.counts == x].crea_id.unique())\n",
    "  multi_proj.append(a)\n",
    "  x_list.append(x)\n",
    "  #print(x, np.log10(a))\n",
    "# list of project list of unique creator\n",
    "unique_crea_set = set(df_tot5.crea_id.unique())\n",
    "#crea_id_entry\n",
    "creaid_groupby = df_tot5.groupby('crea_id')\n",
    "creaid_groupby2 = creaid_groupby.size().reset_index(name='counts')\n",
    "indexcreaid = creaid_groupby2[creaid_groupby2.counts > 1].index\n",
    "creaiddouble_list = creaid_groupby2[creaid_groupby2.counts > 1].crea_id.unique()\n",
    "# number of creators with x projects\n",
    "multi_proj = list()\n",
    "x_list = list()\n",
    "for x in range(1,75):\n",
    "  a = len(creaid_groupby2[creaid_groupby2.counts == x].crea_id.unique())\n",
    "  multi_proj.append(a)\n",
    "  x_list.append(x)\n",
    "  print(x, a)"
   ]
  },
  {
   "cell_type": "code",
   "execution_count": 660,
   "metadata": {},
   "outputs": [
    {
     "data": {
      "text/plain": [
       "Index(['backers_count', 'country', 'created_at', 'deadline',\n",
       "       'disable_communication', 'fx_rate', 'goal', 'is_starrable', 'location',\n",
       "       'staff_pick', 'usd_pledged', 'launch_weekday', 'launch_year',\n",
       "       'launch_month', 'launch_day', 'launch_hour', 'crea_id', 'cat_name',\n",
       "       'cat_position', 'cat_super', 'blurb_wordcount', 'gender', 'success'],\n",
       "      dtype='object')"
      ]
     },
     "execution_count": 660,
     "metadata": {},
     "output_type": "execute_result"
    }
   ],
   "source": [
    "df_tot6.columns"
   ]
  },
  {
   "cell_type": "code",
   "execution_count": null,
   "metadata": {},
   "outputs": [],
   "source": [
    "\n",
    "#fruits = ['Apples', 'Pears', 'Nectarines', 'Plums', 'Grapes', 'Strawberries']\n",
    "#years = ['2015', '2016', '2017']\n",
    "\n",
    "#data = {'fruits' : fruits,\n",
    "#        '2015'   : [2, 1, 4, 3, 2, 4],\n",
    "#        '2016'   : [5, 3, 3, 2, 4, 6],\n",
    "#        '2017'   : [3, 2, 4, 4, 5, 3]}\n",
    "\n",
    "#source = ColumnDataSource(data=data)\n",
    "\n",
    "#p = figure(x_range=fruits, y_range=(0, 10), plot_height=250, title=\"Fruit Counts by Year\",\n",
    "#           toolbar_location=None, tools=\"\")\n",
    "\n",
    "#p.vbar(x=dodge('fruits', -0.25, range=p.x_range), top='2015', width=0.2, source=source,\n",
    "#       color=\"#c9d9d3\", legend_label=\"2015\")\n",
    "\n",
    "#p.vbar(x=dodge('fruits',  0.0,  range=p.x_range), top='2016', width=0.2, source=source,\n",
    "#       color=\"#718dbf\", legend_label=\"2016\")\n",
    "\n",
    "#p.vbar(x=dodge('fruits',  0.25, range=p.x_range), top='2017', width=0.2, source=source,\n",
    "#       color=\"#e84d60\", legend_label=\"2017\")\n",
    "\n",
    "#p.x_range.range_padding = 0.1\n",
    "#p.xgrid.grid_line_color = None\n",
    "#p.legend.location = \"top_left\"\n",
    "#p.legend.orientation = \"horizontal\""
   ]
  }
 ],
 "metadata": {
  "colab": {
   "collapsed_sections": [
    "egrkVRGexjmM",
    "y36tYPZhxjmY",
    "daEy0XmQxjm8",
    "uGbtVaw8xjnF",
    "FFBOYzV8xjnR",
    "YszSj6Ohxjnb",
    "aMdOgZuNxjnl",
    "fntKfglCxjn0",
    "tTAD9wS_xjn3",
    "d3Wr7OGKxjn-",
    "rwWHuSOIxjoA",
    "G8avRU07xjoE",
    "Bedwyn5YxjoL"
   ],
   "name": "Kickstarter_Project_Success_2.ipynb",
   "provenance": [],
   "toc_visible": true
  },
  "kernelspec": {
   "display_name": "Python 3",
   "language": "python",
   "name": "python3"
  },
  "language_info": {
   "codemirror_mode": {
    "name": "ipython",
    "version": 3
   },
   "file_extension": ".py",
   "mimetype": "text/x-python",
   "name": "python",
   "nbconvert_exporter": "python",
   "pygments_lexer": "ipython3",
   "version": "3.7.3"
  },
  "toc-autonumbering": true
 },
 "nbformat": 4,
 "nbformat_minor": 1
}
